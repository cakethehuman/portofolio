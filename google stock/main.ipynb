{
 "cells": [
  {
   "cell_type": "code",
   "execution_count": 8,
   "id": "15727c6b",
   "metadata": {},
   "outputs": [],
   "source": [
    "import pandas as pd\n",
    "import numpy as np\n",
    "import matplotlib.pyplot as plt\n",
    "import seaborn as sns"
   ]
  },
  {
   "cell_type": "code",
   "execution_count": 9,
   "id": "87214eb9",
   "metadata": {},
   "outputs": [],
   "source": [
    "df = pd.read_csv(r\"C:\\Users\\wilsen\\OneDrive\\Desktop\\important projects\\google stock\\google_5yr_one.csv\")"
   ]
  },
  {
   "cell_type": "code",
   "execution_count": 10,
   "id": "b54d38b3",
   "metadata": {},
   "outputs": [
    {
     "data": {
      "application/vnd.microsoft.datawrangler.viewer.v0+json": {
       "columns": [
        {
         "name": "index",
         "rawType": "int64",
         "type": "integer"
        },
        {
         "name": "Date",
         "rawType": "object",
         "type": "string"
        },
        {
         "name": "Close",
         "rawType": "float64",
         "type": "float"
        },
        {
         "name": "High",
         "rawType": "float64",
         "type": "float"
        },
        {
         "name": "Low",
         "rawType": "float64",
         "type": "float"
        },
        {
         "name": "Open",
         "rawType": "float64",
         "type": "float"
        },
        {
         "name": "Volume",
         "rawType": "int64",
         "type": "integer"
        }
       ],
       "ref": "05d89a5c-3327-43db-ae08-4a150e1252d1",
       "rows": [
        [
         "0",
         "2020-06-04",
         "70.3785171508789",
         "71.72309429138843",
         "69.96599205492319",
         "71.4971694316438",
         "26982000"
        ],
        [
         "1",
         "2020-06-05",
         "71.65840148925781",
         "71.9709103787135",
         "70.0461071028752",
         "70.44520002096422",
         "42642000"
        ],
        [
         "2",
         "2020-06-08",
         "72.05748748779297",
         "72.10525562528537",
         "70.88509140875318",
         "70.974667107052",
         "33878000"
        ],
        [
         "3",
         "2020-06-09",
         "72.25852966308594",
         "73.04079279119881",
         "71.77484210279437",
         "71.91816171630913",
         "33624000"
        ],
        [
         "4",
         "2020-06-10",
         "72.88652801513672",
         "73.28810385800969",
         "72.37198974644225",
         "72.72778683921254",
         "31762000"
        ],
        [
         "5",
         "2020-06-11",
         "69.761474609375",
         "72.23465106938366",
         "69.58780540266814",
         "71.70866238072514",
         "47144000"
        ],
        [
         "6",
         "2020-06-12",
         "70.30985260009766",
         "71.38421437179544",
         "68.96030198853704",
         "70.95376958003494",
         "36676000"
        ],
        [
         "7",
         "2020-06-15",
         "70.69898986816406",
         "70.91097380700297",
         "69.02996753030666",
         "69.14392465309821",
         "30468000"
        ],
        [
         "8",
         "2020-06-16",
         "71.9793701171875",
         "72.51182051857924",
         "71.10952825884952",
         "72.10526358516627",
         "30648000"
        ],
        [
         "9",
         "2020-06-17",
         "72.28142547607422",
         "72.76212896872691",
         "71.415068821233",
         "72.30133456430534",
         "30610000"
        ],
        [
         "10",
         "2020-06-18",
         "71.36481475830078",
         "72.30282748663723",
         "70.9726846629474",
         "72.14757151661824",
         "34862000"
        ],
        [
         "11",
         "2020-06-19",
         "70.89306640625",
         "71.88133775111594",
         "70.61240293282405",
         "71.65740986390969",
         "52784000"
        ],
        [
         "12",
         "2020-06-22",
         "72.18787384033203",
         "72.2023083095252",
         "70.62186681199631",
         "70.91148255316699",
         "29442000"
        ],
        [
         "13",
         "2020-06-23",
         "72.85070037841797",
         "73.40903563217812",
         "71.90621842213413",
         "72.25455152562985",
         "37752000"
        ],
        [
         "14",
         "2020-06-24",
         "71.29415130615234",
         "73.43839511149096",
         "71.15979153173976",
         "72.81587541071586",
         "31592000"
        ],
        [
         "15",
         "2020-06-25",
         "71.71214294433594",
         "71.77284971319233",
         "70.63926944685834",
         "71.22049025097112",
         "23958000"
        ],
        [
         "16",
         "2020-06-26",
         "67.8028335571289",
         "71.5091128593862",
         "67.42762851107032",
         "71.29065960372779",
         "97640000"
        ],
        [
         "17",
         "2020-06-29",
         "69.5261001586914",
         "69.56740658298106",
         "67.2609287443365",
         "67.69336296671155",
         "45074000"
        ],
        [
         "18",
         "2020-06-30",
         "70.56513214111328",
         "70.86121720110151",
         "69.0165360541645",
         "69.51167404146442",
         "40286000"
        ],
        [
         "19",
         "2020-07-01",
         "71.75694274902344",
         "72.07940624191117",
         "70.37256235703924",
         "70.62087929232952",
         "42182000"
        ],
        [
         "20",
         "2020-07-02",
         "73.14678192138672",
         "74.07186348298605",
         "72.20826818037254",
         "72.24659051474603",
         "57218000"
        ],
        [
         "21",
         "2020-07-06",
         "74.62571716308594",
         "75.14075662187608",
         "73.49761142237459",
         "74.05345615982517",
         "44712000"
        ],
        [
         "22",
         "2020-07-07",
         "74.14153289794922",
         "75.70406216918913",
         "74.13058365914364",
         "74.45055656016098",
         "42364000"
        ],
        [
         "23",
         "2020-07-08",
         "74.82227325439453",
         "75.19897413072191",
         "74.25995924949038",
         "74.68294002022051",
         "31766000"
        ],
        [
         "24",
         "2020-07-09",
         "75.57169342041016",
         "76.09320218311657",
         "74.42368620829713",
         "75.13726983285122",
         "41836000"
        ],
        [
         "25",
         "2020-07-10",
         "76.58435821533203",
         "76.70030474090636",
         "74.67897031172721",
         "75.30248471212418",
         "35918000"
        ],
        [
         "26",
         "2020-07-13",
         "75.2517318725586",
         "78.44297203416643",
         "74.96958014308842",
         "77.12825841563946",
         "42954000"
        ],
        [
         "27",
         "2020-07-14",
         "75.68116760253906",
         "75.77770617369718",
         "73.94297977071558",
         "74.28434999897787",
         "38108000"
        ],
        [
         "28",
         "2020-07-15",
         "75.48312377929688",
         "76.45099251906724",
         "74.53515653534063",
         "75.79911032958475",
         "31026000"
        ],
        [
         "29",
         "2020-07-16",
         "75.3855972290039",
         "75.43486121845835",
         "74.05943310844663",
         "74.71778467158745",
         "26484000"
        ],
        [
         "30",
         "2020-07-17",
         "75.48162841796875",
         "75.80906535403365",
         "74.5485891882386",
         "75.48461250339587",
         "34264000"
        ],
        [
         "31",
         "2020-07-20",
         "77.8199462890625",
         "78.07721543774436",
         "74.77749296936797",
         "75.38956453557115",
         "30166000"
        ],
        [
         "32",
         "2020-07-21",
         "77.42583465576172",
         "78.97493191676237",
         "77.26161883496677",
         "78.87441455255636",
         "27486000"
        ],
        [
         "33",
         "2020-07-22",
         "77.87020874023438",
         "77.97620071888103",
         "76.79435105254424",
         "77.41538249759988",
         "24482000"
        ],
        [
         "34",
         "2020-07-23",
         "75.47665405273438",
         "78.14390246974544",
         "75.0705906466516",
         "77.92395335639043",
         "33910000"
        ],
        [
         "35",
         "2020-07-24",
         "75.05168914794922",
         "75.41097153590187",
         "74.02559650691151",
         "74.6028386333552",
         "29902000"
        ],
        [
         "36",
         "2020-07-27",
         "76.10763549804688",
         "76.51220308106483",
         "75.25670794866738",
         "75.30298784991724",
         "27124000"
        ],
        [
         "37",
         "2020-07-28",
         "74.82476806640625",
         "75.93744461336621",
         "74.6690109658058",
         "75.88718593599701",
         "30910000"
        ],
        [
         "38",
         "2020-07-29",
         "75.81303405761719",
         "76.30169506581362",
         "74.79290978342082",
         "74.89193888511915",
         "22676000"
        ],
        [
         "39",
         "2020-07-30",
         "76.55252075195312",
         "76.677920690994",
         "74.40279449452072",
         "74.5421277601217",
         "36042000"
        ],
        [
         "40",
         "2020-07-31",
         "74.04350280761719",
         "74.89294207022046",
         "72.35407768262465",
         "74.49633966059952",
         "91468000"
        ],
        [
         "41",
         "2020-08-03",
         "73.78524017333984",
         "74.53017571563687",
         "73.23586473268551",
         "74.1952823635518",
         "45482000"
        ],
        [
         "42",
         "2020-08-04",
         "73.31449127197266",
         "74.3002797145422",
         "72.85319570585015",
         "73.98180262852239",
         "37212000"
        ],
        [
         "43",
         "2020-08-05",
         "73.60260772705078",
         "74.14551382781045",
         "73.21097880454894",
         "73.4896528857235",
         "29134000"
        ],
        [
         "44",
         "2020-08-06",
         "74.88945007324219",
         "74.9551379108816",
         "73.24481674977106",
         "73.45630713721422",
         "33306000"
        ],
        [
         "45",
         "2020-08-07",
         "74.5620346069336",
         "75.64286587460231",
         "73.9599099041371",
         "75.09299683965341",
         "27718000"
        ],
        [
         "46",
         "2020-08-10",
         "74.4848861694336",
         "74.99892327445139",
         "73.5229781582979",
         "74.18531593243594",
         "20546000"
        ],
        [
         "47",
         "2020-08-11",
         "73.67476654052734",
         "75.1626557930458",
         "73.55782532310258",
         "74.34456082208418",
         "31098000"
        ],
        [
         "48",
         "2020-08-12",
         "75.00341033935547",
         "75.22386058442733",
         "73.8967019688904",
         "74.00220039154834",
         "22512000"
        ],
        [
         "49",
         "2020-08-13",
         "75.4716796875",
         "76.48285191890565",
         "75.05169051228404",
         "75.05169051228404",
         "22388000"
        ]
       ],
       "shape": {
        "columns": 6,
        "rows": 1255
       }
      },
      "text/html": [
       "<div>\n",
       "<style scoped>\n",
       "    .dataframe tbody tr th:only-of-type {\n",
       "        vertical-align: middle;\n",
       "    }\n",
       "\n",
       "    .dataframe tbody tr th {\n",
       "        vertical-align: top;\n",
       "    }\n",
       "\n",
       "    .dataframe thead th {\n",
       "        text-align: right;\n",
       "    }\n",
       "</style>\n",
       "<table border=\"1\" class=\"dataframe\">\n",
       "  <thead>\n",
       "    <tr style=\"text-align: right;\">\n",
       "      <th></th>\n",
       "      <th>Date</th>\n",
       "      <th>Close</th>\n",
       "      <th>High</th>\n",
       "      <th>Low</th>\n",
       "      <th>Open</th>\n",
       "      <th>Volume</th>\n",
       "    </tr>\n",
       "  </thead>\n",
       "  <tbody>\n",
       "    <tr>\n",
       "      <th>0</th>\n",
       "      <td>2020-06-04</td>\n",
       "      <td>70.378517</td>\n",
       "      <td>71.723094</td>\n",
       "      <td>69.965992</td>\n",
       "      <td>71.497169</td>\n",
       "      <td>26982000</td>\n",
       "    </tr>\n",
       "    <tr>\n",
       "      <th>1</th>\n",
       "      <td>2020-06-05</td>\n",
       "      <td>71.658401</td>\n",
       "      <td>71.970910</td>\n",
       "      <td>70.046107</td>\n",
       "      <td>70.445200</td>\n",
       "      <td>42642000</td>\n",
       "    </tr>\n",
       "    <tr>\n",
       "      <th>2</th>\n",
       "      <td>2020-06-08</td>\n",
       "      <td>72.057487</td>\n",
       "      <td>72.105256</td>\n",
       "      <td>70.885091</td>\n",
       "      <td>70.974667</td>\n",
       "      <td>33878000</td>\n",
       "    </tr>\n",
       "    <tr>\n",
       "      <th>3</th>\n",
       "      <td>2020-06-09</td>\n",
       "      <td>72.258530</td>\n",
       "      <td>73.040793</td>\n",
       "      <td>71.774842</td>\n",
       "      <td>71.918162</td>\n",
       "      <td>33624000</td>\n",
       "    </tr>\n",
       "    <tr>\n",
       "      <th>4</th>\n",
       "      <td>2020-06-10</td>\n",
       "      <td>72.886528</td>\n",
       "      <td>73.288104</td>\n",
       "      <td>72.371990</td>\n",
       "      <td>72.727787</td>\n",
       "      <td>31762000</td>\n",
       "    </tr>\n",
       "    <tr>\n",
       "      <th>...</th>\n",
       "      <td>...</td>\n",
       "      <td>...</td>\n",
       "      <td>...</td>\n",
       "      <td>...</td>\n",
       "      <td>...</td>\n",
       "      <td>...</td>\n",
       "    </tr>\n",
       "    <tr>\n",
       "      <th>1250</th>\n",
       "      <td>2025-05-27</td>\n",
       "      <td>172.899994</td>\n",
       "      <td>173.169998</td>\n",
       "      <td>170.000000</td>\n",
       "      <td>170.160004</td>\n",
       "      <td>37995700</td>\n",
       "    </tr>\n",
       "    <tr>\n",
       "      <th>1251</th>\n",
       "      <td>2025-05-28</td>\n",
       "      <td>172.360001</td>\n",
       "      <td>175.270004</td>\n",
       "      <td>171.910004</td>\n",
       "      <td>173.160004</td>\n",
       "      <td>34784000</td>\n",
       "    </tr>\n",
       "    <tr>\n",
       "      <th>1252</th>\n",
       "      <td>2025-05-29</td>\n",
       "      <td>171.860001</td>\n",
       "      <td>174.419998</td>\n",
       "      <td>170.630005</td>\n",
       "      <td>174.000000</td>\n",
       "      <td>29373800</td>\n",
       "    </tr>\n",
       "    <tr>\n",
       "      <th>1253</th>\n",
       "      <td>2025-05-30</td>\n",
       "      <td>171.740005</td>\n",
       "      <td>172.210007</td>\n",
       "      <td>167.440002</td>\n",
       "      <td>171.350006</td>\n",
       "      <td>52639900</td>\n",
       "    </tr>\n",
       "    <tr>\n",
       "      <th>1254</th>\n",
       "      <td>2025-06-02</td>\n",
       "      <td>169.029999</td>\n",
       "      <td>169.869995</td>\n",
       "      <td>167.389999</td>\n",
       "      <td>167.839996</td>\n",
       "      <td>38532600</td>\n",
       "    </tr>\n",
       "  </tbody>\n",
       "</table>\n",
       "<p>1255 rows × 6 columns</p>\n",
       "</div>"
      ],
      "text/plain": [
       "            Date       Close        High         Low        Open    Volume\n",
       "0     2020-06-04   70.378517   71.723094   69.965992   71.497169  26982000\n",
       "1     2020-06-05   71.658401   71.970910   70.046107   70.445200  42642000\n",
       "2     2020-06-08   72.057487   72.105256   70.885091   70.974667  33878000\n",
       "3     2020-06-09   72.258530   73.040793   71.774842   71.918162  33624000\n",
       "4     2020-06-10   72.886528   73.288104   72.371990   72.727787  31762000\n",
       "...          ...         ...         ...         ...         ...       ...\n",
       "1250  2025-05-27  172.899994  173.169998  170.000000  170.160004  37995700\n",
       "1251  2025-05-28  172.360001  175.270004  171.910004  173.160004  34784000\n",
       "1252  2025-05-29  171.860001  174.419998  170.630005  174.000000  29373800\n",
       "1253  2025-05-30  171.740005  172.210007  167.440002  171.350006  52639900\n",
       "1254  2025-06-02  169.029999  169.869995  167.389999  167.839996  38532600\n",
       "\n",
       "[1255 rows x 6 columns]"
      ]
     },
     "execution_count": 10,
     "metadata": {},
     "output_type": "execute_result"
    }
   ],
   "source": [
    "df"
   ]
  },
  {
   "cell_type": "code",
   "execution_count": 16,
   "id": "cc7de7fc",
   "metadata": {},
   "outputs": [
    {
     "name": "stdout",
     "output_type": "stream",
     "text": [
      "<class 'pandas.core.frame.DataFrame'>\n",
      "RangeIndex: 1255 entries, 0 to 1254\n",
      "Data columns (total 6 columns):\n",
      " #   Column  Non-Null Count  Dtype  \n",
      "---  ------  --------------  -----  \n",
      " 0   Date    1255 non-null   object \n",
      " 1   Close   1255 non-null   float64\n",
      " 2   High    1255 non-null   float64\n",
      " 3   Low     1255 non-null   float64\n",
      " 4   Open    1255 non-null   float64\n",
      " 5   Volume  1255 non-null   int64  \n",
      "dtypes: float64(4), int64(1), object(1)\n",
      "memory usage: 59.0+ KB\n"
     ]
    }
   ],
   "source": [
    "df.info()"
   ]
  },
  {
   "cell_type": "code",
   "execution_count": 18,
   "id": "08820b47",
   "metadata": {},
   "outputs": [],
   "source": [
    "df[\"Date\"] = df[\"Date\"].astype(\"datetime64[ns]\")"
   ]
  },
  {
   "cell_type": "code",
   "execution_count": 11,
   "id": "7268d700",
   "metadata": {},
   "outputs": [
    {
     "data": {
      "text/plain": [
       "Index(['Date', 'Close', 'High', 'Low', 'Open', 'Volume'], dtype='object')"
      ]
     },
     "execution_count": 11,
     "metadata": {},
     "output_type": "execute_result"
    }
   ],
   "source": [
    "df.columns"
   ]
  },
  {
   "cell_type": "code",
   "execution_count": 23,
   "id": "78818c1f",
   "metadata": {},
   "outputs": [
    {
     "data": {
      "application/vnd.microsoft.datawrangler.viewer.v0+json": {
       "columns": [
        {
         "name": "index",
         "rawType": "int64",
         "type": "integer"
        },
        {
         "name": "Date",
         "rawType": "int32",
         "type": "integer"
        }
       ],
       "ref": "7d75dfd9-1767-46b8-84b7-e15dae57a167",
       "rows": [
        [
         "0",
         "2020"
        ],
        [
         "1",
         "2020"
        ],
        [
         "2",
         "2020"
        ],
        [
         "3",
         "2020"
        ],
        [
         "4",
         "2020"
        ],
        [
         "5",
         "2020"
        ],
        [
         "6",
         "2020"
        ],
        [
         "7",
         "2020"
        ],
        [
         "8",
         "2020"
        ],
        [
         "9",
         "2020"
        ],
        [
         "10",
         "2020"
        ],
        [
         "11",
         "2020"
        ],
        [
         "12",
         "2020"
        ],
        [
         "13",
         "2020"
        ],
        [
         "14",
         "2020"
        ],
        [
         "15",
         "2020"
        ],
        [
         "16",
         "2020"
        ],
        [
         "17",
         "2020"
        ],
        [
         "18",
         "2020"
        ],
        [
         "19",
         "2020"
        ],
        [
         "20",
         "2020"
        ],
        [
         "21",
         "2020"
        ],
        [
         "22",
         "2020"
        ],
        [
         "23",
         "2020"
        ],
        [
         "24",
         "2020"
        ],
        [
         "25",
         "2020"
        ],
        [
         "26",
         "2020"
        ],
        [
         "27",
         "2020"
        ],
        [
         "28",
         "2020"
        ],
        [
         "29",
         "2020"
        ],
        [
         "30",
         "2020"
        ],
        [
         "31",
         "2020"
        ],
        [
         "32",
         "2020"
        ],
        [
         "33",
         "2020"
        ],
        [
         "34",
         "2020"
        ],
        [
         "35",
         "2020"
        ],
        [
         "36",
         "2020"
        ],
        [
         "37",
         "2020"
        ],
        [
         "38",
         "2020"
        ],
        [
         "39",
         "2020"
        ],
        [
         "40",
         "2020"
        ],
        [
         "41",
         "2020"
        ],
        [
         "42",
         "2020"
        ],
        [
         "43",
         "2020"
        ],
        [
         "44",
         "2020"
        ],
        [
         "45",
         "2020"
        ],
        [
         "46",
         "2020"
        ],
        [
         "47",
         "2020"
        ],
        [
         "48",
         "2020"
        ],
        [
         "49",
         "2020"
        ]
       ],
       "shape": {
        "columns": 1,
        "rows": 1255
       }
      },
      "text/plain": [
       "0       2020\n",
       "1       2020\n",
       "2       2020\n",
       "3       2020\n",
       "4       2020\n",
       "        ... \n",
       "1250    2025\n",
       "1251    2025\n",
       "1252    2025\n",
       "1253    2025\n",
       "1254    2025\n",
       "Name: Date, Length: 1255, dtype: int32"
      ]
     },
     "execution_count": 23,
     "metadata": {},
     "output_type": "execute_result"
    }
   ],
   "source": [
    "df[\"Date\"].dt.year"
   ]
  },
  {
   "cell_type": "markdown",
   "id": "cb23c354",
   "metadata": {},
   "source": [
    "LOWEST AND STARTING PRICE"
   ]
  },
  {
   "cell_type": "code",
   "execution_count": 37,
   "id": "bf915d60",
   "metadata": {},
   "outputs": [
    {
     "name": "stdout",
     "output_type": "stream",
     "text": [
      "Max price is 206.14\n",
      "Min price is 67.8\n"
     ]
    }
   ],
   "source": [
    "max_price  = round(df[\"Close\"].max(),2)\n",
    "min_price = round(df[\"Close\"].min(),2)\n",
    "\n",
    "print(f\"Max price is {max_price}\\nMin price is {min_price}\")"
   ]
  },
  {
   "cell_type": "code",
   "execution_count": 33,
   "id": "d274a37e",
   "metadata": {},
   "outputs": [
    {
     "data": {
      "image/png": "[encoded data removed]",
      "text/plain": [
       "<Figure size 1500x500 with 1 Axes>"
      ]
     },
     "metadata": {},
     "output_type": "display_data"
    }
   ],
   "source": [
    "plt.figure(figsize=(15,5))\n",
    "plt.title(\"Google stock daily price\")\n",
    "plt.plot(df[\"Date\"],df[\"Close\"])\n",
    "plt.xlabel(\"Date\")\n",
    "plt.ylabel(\"Price\")\n",
    "plt.show()"
   ]
  },
  {
   "cell_type": "code",
   "execution_count": null,
   "id": "bfa94f97",
   "metadata": {},
   "outputs": [],
   "source": []
  },
  {
   "cell_type": "code",
   "execution_count": null,
   "id": "c85bfa43",
   "metadata": {},
   "outputs": [],
   "source": []
  }
 ],
 "metadata": {
  "kernelspec": {
   "display_name": "Python 3",
   "language": "python",
   "name": "python3"
  },
  "language_info": {
   "codemirror_mode": {
    "name": "ipython",
    "version": 3
   },
   "file_extension": ".py",
   "mimetype": "text/x-python",
   "name": "python",
   "nbconvert_exporter": "python",
   "pygments_lexer": "ipython3",
   "version": "3.11.9"
  }
 },
 "nbformat": 4,
 "nbformat_minor": 5
}
