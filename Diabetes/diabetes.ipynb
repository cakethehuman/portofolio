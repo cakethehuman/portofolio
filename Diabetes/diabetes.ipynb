{
 "cells": [
  {
   "cell_type": "markdown",
   "id": "1123efa6",
   "metadata": {},
   "source": [
    "# Goals\n",
    "\n",
    "- Find the changes in diabetes year by year\n",
    "- which city have the most penderita\n",
    "- find the changes year by year\n",
    "- find the healtry ones\n",
    "- see the changes\n",
    "\n"
   ]
  },
  {
   "cell_type": "code",
   "execution_count": 153,
   "id": "30f64a4f",
   "metadata": {},
   "outputs": [],
   "source": [
    "import pandas as pd\n",
    "import numpy as np\n",
    "import matplotlib.pyplot as plt\n",
    "import seaborn as sns\n",
    "\n",
    "\n",
    "import chart_studio as py   \n",
    "import plotly.graph_objects as go\n",
    "import plotly.express as px\n",
    "\n",
    "from plotly.offline import download_plotlyjs,init_notebook_mode, plot , iplot"
   ]
  },
  {
   "cell_type": "code",
   "execution_count": 154,
   "id": "a91ff743",
   "metadata": {},
   "outputs": [
    {
     "data": {
      "text/html": [
       "        <script type=\"text/javascript\">\n",
       "        window.PlotlyConfig = {MathJaxConfig: 'local'};\n",
       "        if (window.MathJax && window.MathJax.Hub && window.MathJax.Hub.Config) {window.MathJax.Hub.Config({SVG: {font: \"STIX-Web\"}});}\n",
       "        </script>\n",
       "        <script type=\"module\">import \"https://cdn.plot.ly/plotly-3.0.1.min\"</script>\n",
       "        "
      ]
     },
     "metadata": {},
     "output_type": "display_data"
    }
   ],
   "source": [
    "init_notebook_mode(connected=True)"
   ]
  },
  {
   "cell_type": "code",
   "execution_count": 155,
   "id": "5d5d640b",
   "metadata": {},
   "outputs": [],
   "source": [
    "df = pd.read_csv(r\"C:\\Users\\wilsen\\OneDrive\\Desktop\\important projects\\Diabetes\\dinkes-od_17448_jml_penderita_diabetes_melitus__kabupatenkota_v3_data.csv\")"
   ]
  },
  {
   "cell_type": "code",
   "execution_count": 156,
   "id": "fddcd803",
   "metadata": {},
   "outputs": [
    {
     "data": {
      "application/vnd.microsoft.datawrangler.viewer.v0+json": {
       "columns": [
        {
         "name": "index",
         "rawType": "int64",
         "type": "integer"
        },
        {
         "name": "id",
         "rawType": "int64",
         "type": "integer"
        },
        {
         "name": "kode_provinsi",
         "rawType": "int64",
         "type": "integer"
        },
        {
         "name": "nama_provinsi",
         "rawType": "object",
         "type": "string"
        },
        {
         "name": "kode_kabupaten_kota",
         "rawType": "int64",
         "type": "integer"
        },
        {
         "name": "nama_kabupaten_kota",
         "rawType": "object",
         "type": "string"
        },
        {
         "name": "jumlah_penderita_dm",
         "rawType": "int64",
         "type": "integer"
        },
        {
         "name": "satuan",
         "rawType": "object",
         "type": "string"
        },
        {
         "name": "tahun",
         "rawType": "int64",
         "type": "integer"
        }
       ],
       "ref": "07ab4ad1-acff-40c9-8e79-67509cc4dbdc",
       "rows": [
        [
         "0",
         "1",
         "32",
         "JAWA BARAT",
         "3201",
         "KABUPATEN BOGOR",
         "57769",
         "ORANG",
         "2019"
        ],
        [
         "1",
         "2",
         "32",
         "JAWA BARAT",
         "3202",
         "KABUPATEN SUKABUMI",
         "148447",
         "ORANG",
         "2019"
        ],
        [
         "2",
         "3",
         "32",
         "JAWA BARAT",
         "3203",
         "KABUPATEN CIANJUR",
         "12100",
         "ORANG",
         "2019"
        ],
        [
         "3",
         "4",
         "32",
         "JAWA BARAT",
         "3204",
         "KABUPATEN BANDUNG",
         "45412",
         "ORANG",
         "2019"
        ],
        [
         "4",
         "5",
         "32",
         "JAWA BARAT",
         "3205",
         "KABUPATEN GARUT",
         "0",
         "ORANG",
         "2019"
        ],
        [
         "5",
         "6",
         "32",
         "JAWA BARAT",
         "3206",
         "KABUPATEN TASIKMALAYA",
         "10930",
         "ORANG",
         "2019"
        ],
        [
         "6",
         "7",
         "32",
         "JAWA BARAT",
         "3207",
         "KABUPATEN CIAMIS",
         "69113",
         "ORANG",
         "2019"
        ],
        [
         "7",
         "8",
         "32",
         "JAWA BARAT",
         "3208",
         "KABUPATEN KUNINGAN",
         "31582",
         "ORANG",
         "2019"
        ],
        [
         "8",
         "9",
         "32",
         "JAWA BARAT",
         "3209",
         "KABUPATEN CIREBON",
         "21981",
         "ORANG",
         "2019"
        ],
        [
         "9",
         "10",
         "32",
         "JAWA BARAT",
         "3210",
         "KABUPATEN MAJALENGKA",
         "12915",
         "ORANG",
         "2019"
        ],
        [
         "10",
         "11",
         "32",
         "JAWA BARAT",
         "3211",
         "KABUPATEN SUMEDANG",
         "0",
         "ORANG",
         "2019"
        ],
        [
         "11",
         "12",
         "32",
         "JAWA BARAT",
         "3212",
         "KABUPATEN INDRAMAYU",
         "5504",
         "ORANG",
         "2019"
        ],
        [
         "12",
         "13",
         "32",
         "JAWA BARAT",
         "3213",
         "KABUPATEN SUBANG",
         "21691",
         "ORANG",
         "2019"
        ],
        [
         "13",
         "14",
         "32",
         "JAWA BARAT",
         "3214",
         "KABUPATEN PURWAKARTA",
         "11783",
         "ORANG",
         "2019"
        ],
        [
         "14",
         "15",
         "32",
         "JAWA BARAT",
         "3215",
         "KABUPATEN KARAWANG",
         "149537",
         "ORANG",
         "2019"
        ],
        [
         "15",
         "16",
         "32",
         "JAWA BARAT",
         "3216",
         "KABUPATEN BEKASI",
         "89055",
         "ORANG",
         "2019"
        ],
        [
         "16",
         "17",
         "32",
         "JAWA BARAT",
         "3217",
         "KABUPATEN BANDUNG BARAT",
         "0",
         "ORANG",
         "2019"
        ],
        [
         "17",
         "18",
         "32",
         "JAWA BARAT",
         "3218",
         "KABUPATEN PANGANDARAN",
         "0",
         "ORANG",
         "2019"
        ],
        [
         "18",
         "19",
         "32",
         "JAWA BARAT",
         "3271",
         "KOTA BOGOR",
         "12273",
         "ORANG",
         "2019"
        ],
        [
         "19",
         "20",
         "32",
         "JAWA BARAT",
         "3272",
         "KOTA SUKABUMI",
         "0",
         "ORANG",
         "2019"
        ],
        [
         "20",
         "21",
         "32",
         "JAWA BARAT",
         "3273",
         "KOTA BANDUNG",
         "45430",
         "ORANG",
         "2019"
        ],
        [
         "21",
         "22",
         "32",
         "JAWA BARAT",
         "3274",
         "KOTA CIREBON",
         "0",
         "ORANG",
         "2019"
        ],
        [
         "22",
         "23",
         "32",
         "JAWA BARAT",
         "3275",
         "KOTA BEKASI",
         "42517",
         "ORANG",
         "2019"
        ],
        [
         "23",
         "24",
         "32",
         "JAWA BARAT",
         "3276",
         "KOTA DEPOK",
         "48899",
         "ORANG",
         "2019"
        ],
        [
         "24",
         "25",
         "32",
         "JAWA BARAT",
         "3277",
         "KOTA CIMAHI",
         "9571",
         "ORANG",
         "2019"
        ],
        [
         "25",
         "26",
         "32",
         "JAWA BARAT",
         "3278",
         "KOTA TASIKMALAYA",
         "0",
         "ORANG",
         "2019"
        ],
        [
         "26",
         "27",
         "32",
         "JAWA BARAT",
         "3279",
         "KOTA BANJAR",
         "1946",
         "ORANG",
         "2019"
        ],
        [
         "27",
         "28",
         "32",
         "JAWA BARAT",
         "3201",
         "KABUPATEN BOGOR",
         "71462",
         "ORANG",
         "2020"
        ],
        [
         "28",
         "29",
         "32",
         "JAWA BARAT",
         "3202",
         "KABUPATEN SUKABUMI",
         "37523",
         "ORANG",
         "2020"
        ],
        [
         "29",
         "30",
         "32",
         "JAWA BARAT",
         "3203",
         "KABUPATEN CIANJUR",
         "14208",
         "ORANG",
         "2020"
        ],
        [
         "30",
         "31",
         "32",
         "JAWA BARAT",
         "3204",
         "KABUPATEN BANDUNG",
         "32847",
         "ORANG",
         "2020"
        ],
        [
         "31",
         "32",
         "32",
         "JAWA BARAT",
         "3205",
         "KABUPATEN GARUT",
         "17732",
         "ORANG",
         "2020"
        ],
        [
         "32",
         "33",
         "32",
         "JAWA BARAT",
         "3206",
         "KABUPATEN TASIKMALAYA",
         "15049",
         "ORANG",
         "2020"
        ],
        [
         "33",
         "34",
         "32",
         "JAWA BARAT",
         "3207",
         "KABUPATEN CIAMIS",
         "79252",
         "ORANG",
         "2020"
        ],
        [
         "34",
         "35",
         "32",
         "JAWA BARAT",
         "3208",
         "KABUPATEN KUNINGAN",
         "17663",
         "ORANG",
         "2020"
        ],
        [
         "35",
         "36",
         "32",
         "JAWA BARAT",
         "3209",
         "KABUPATEN CIREBON",
         "22345",
         "ORANG",
         "2020"
        ],
        [
         "36",
         "37",
         "32",
         "JAWA BARAT",
         "3210",
         "KABUPATEN MAJALENGKA",
         "13024",
         "ORANG",
         "2020"
        ],
        [
         "37",
         "38",
         "32",
         "JAWA BARAT",
         "3211",
         "KABUPATEN SUMEDANG",
         "79656",
         "ORANG",
         "2020"
        ],
        [
         "38",
         "39",
         "32",
         "JAWA BARAT",
         "3212",
         "KABUPATEN INDRAMAYU",
         "30709",
         "ORANG",
         "2020"
        ],
        [
         "39",
         "40",
         "32",
         "JAWA BARAT",
         "3213",
         "KABUPATEN SUBANG",
         "16830",
         "ORANG",
         "2020"
        ],
        [
         "40",
         "41",
         "32",
         "JAWA BARAT",
         "3214",
         "KABUPATEN PURWAKARTA",
         "12405",
         "ORANG",
         "2020"
        ],
        [
         "41",
         "42",
         "32",
         "JAWA BARAT",
         "3215",
         "KABUPATEN KARAWANG",
         "139392",
         "ORANG",
         "2020"
        ],
        [
         "42",
         "43",
         "32",
         "JAWA BARAT",
         "3216",
         "KABUPATEN BEKASI",
         "242169",
         "ORANG",
         "2020"
        ],
        [
         "43",
         "44",
         "32",
         "JAWA BARAT",
         "3217",
         "KABUPATEN BANDUNG BARAT",
         "17009",
         "ORANG",
         "2020"
        ],
        [
         "44",
         "45",
         "32",
         "JAWA BARAT",
         "3218",
         "KABUPATEN PANGANDARAN",
         "16376",
         "ORANG",
         "2020"
        ],
        [
         "45",
         "46",
         "32",
         "JAWA BARAT",
         "3271",
         "KOTA BOGOR",
         "19694",
         "ORANG",
         "2020"
        ],
        [
         "46",
         "47",
         "32",
         "JAWA BARAT",
         "3272",
         "KOTA SUKABUMI",
         "2465",
         "ORANG",
         "2020"
        ],
        [
         "47",
         "48",
         "32",
         "JAWA BARAT",
         "3273",
         "KOTA BANDUNG",
         "43906",
         "ORANG",
         "2020"
        ],
        [
         "48",
         "49",
         "32",
         "JAWA BARAT",
         "3274",
         "KOTA CIREBON",
         "20834",
         "ORANG",
         "2020"
        ],
        [
         "49",
         "50",
         "32",
         "JAWA BARAT",
         "3275",
         "KOTA BEKASI",
         "44714",
         "ORANG",
         "2020"
        ]
       ],
       "shape": {
        "columns": 8,
        "rows": 162
       }
      },
      "text/html": [
       "<div>\n",
       "<style scoped>\n",
       "    .dataframe tbody tr th:only-of-type {\n",
       "        vertical-align: middle;\n",
       "    }\n",
       "\n",
       "    .dataframe tbody tr th {\n",
       "        vertical-align: top;\n",
       "    }\n",
       "\n",
       "    .dataframe thead th {\n",
       "        text-align: right;\n",
       "    }\n",
       "</style>\n",
       "<table border=\"1\" class=\"dataframe\">\n",
       "  <thead>\n",
       "    <tr style=\"text-align: right;\">\n",
       "      <th></th>\n",
       "      <th>id</th>\n",
       "      <th>kode_provinsi</th>\n",
       "      <th>nama_provinsi</th>\n",
       "      <th>kode_kabupaten_kota</th>\n",
       "      <th>nama_kabupaten_kota</th>\n",
       "      <th>jumlah_penderita_dm</th>\n",
       "      <th>satuan</th>\n",
       "      <th>tahun</th>\n",
       "    </tr>\n",
       "  </thead>\n",
       "  <tbody>\n",
       "    <tr>\n",
       "      <th>0</th>\n",
       "      <td>1</td>\n",
       "      <td>32</td>\n",
       "      <td>JAWA BARAT</td>\n",
       "      <td>3201</td>\n",
       "      <td>KABUPATEN BOGOR</td>\n",
       "      <td>57769</td>\n",
       "      <td>ORANG</td>\n",
       "      <td>2019</td>\n",
       "    </tr>\n",
       "    <tr>\n",
       "      <th>1</th>\n",
       "      <td>2</td>\n",
       "      <td>32</td>\n",
       "      <td>JAWA BARAT</td>\n",
       "      <td>3202</td>\n",
       "      <td>KABUPATEN SUKABUMI</td>\n",
       "      <td>148447</td>\n",
       "      <td>ORANG</td>\n",
       "      <td>2019</td>\n",
       "    </tr>\n",
       "    <tr>\n",
       "      <th>2</th>\n",
       "      <td>3</td>\n",
       "      <td>32</td>\n",
       "      <td>JAWA BARAT</td>\n",
       "      <td>3203</td>\n",
       "      <td>KABUPATEN CIANJUR</td>\n",
       "      <td>12100</td>\n",
       "      <td>ORANG</td>\n",
       "      <td>2019</td>\n",
       "    </tr>\n",
       "    <tr>\n",
       "      <th>3</th>\n",
       "      <td>4</td>\n",
       "      <td>32</td>\n",
       "      <td>JAWA BARAT</td>\n",
       "      <td>3204</td>\n",
       "      <td>KABUPATEN BANDUNG</td>\n",
       "      <td>45412</td>\n",
       "      <td>ORANG</td>\n",
       "      <td>2019</td>\n",
       "    </tr>\n",
       "    <tr>\n",
       "      <th>4</th>\n",
       "      <td>5</td>\n",
       "      <td>32</td>\n",
       "      <td>JAWA BARAT</td>\n",
       "      <td>3205</td>\n",
       "      <td>KABUPATEN GARUT</td>\n",
       "      <td>0</td>\n",
       "      <td>ORANG</td>\n",
       "      <td>2019</td>\n",
       "    </tr>\n",
       "    <tr>\n",
       "      <th>...</th>\n",
       "      <td>...</td>\n",
       "      <td>...</td>\n",
       "      <td>...</td>\n",
       "      <td>...</td>\n",
       "      <td>...</td>\n",
       "      <td>...</td>\n",
       "      <td>...</td>\n",
       "      <td>...</td>\n",
       "    </tr>\n",
       "    <tr>\n",
       "      <th>157</th>\n",
       "      <td>158</td>\n",
       "      <td>32</td>\n",
       "      <td>JAWA BARAT</td>\n",
       "      <td>3279</td>\n",
       "      <td>KOTA BANJAR</td>\n",
       "      <td>46481</td>\n",
       "      <td>ORANG</td>\n",
       "      <td>2024</td>\n",
       "    </tr>\n",
       "    <tr>\n",
       "      <th>158</th>\n",
       "      <td>159</td>\n",
       "      <td>32</td>\n",
       "      <td>JAWA BARAT</td>\n",
       "      <td>3279</td>\n",
       "      <td>KOTA BANJAR</td>\n",
       "      <td>44061</td>\n",
       "      <td>ORANG</td>\n",
       "      <td>2024</td>\n",
       "    </tr>\n",
       "    <tr>\n",
       "      <th>159</th>\n",
       "      <td>160</td>\n",
       "      <td>32</td>\n",
       "      <td>JAWA BARAT</td>\n",
       "      <td>3279</td>\n",
       "      <td>KOTA BANJAR</td>\n",
       "      <td>10021</td>\n",
       "      <td>ORANG</td>\n",
       "      <td>2024</td>\n",
       "    </tr>\n",
       "    <tr>\n",
       "      <th>160</th>\n",
       "      <td>161</td>\n",
       "      <td>32</td>\n",
       "      <td>JAWA BARAT</td>\n",
       "      <td>3279</td>\n",
       "      <td>KOTA BANJAR</td>\n",
       "      <td>11782</td>\n",
       "      <td>ORANG</td>\n",
       "      <td>2024</td>\n",
       "    </tr>\n",
       "    <tr>\n",
       "      <th>161</th>\n",
       "      <td>162</td>\n",
       "      <td>32</td>\n",
       "      <td>JAWA BARAT</td>\n",
       "      <td>3279</td>\n",
       "      <td>KOTA BANJAR</td>\n",
       "      <td>2415</td>\n",
       "      <td>ORANG</td>\n",
       "      <td>2024</td>\n",
       "    </tr>\n",
       "  </tbody>\n",
       "</table>\n",
       "<p>162 rows × 8 columns</p>\n",
       "</div>"
      ],
      "text/plain": [
       "      id  kode_provinsi nama_provinsi  kode_kabupaten_kota  \\\n",
       "0      1             32    JAWA BARAT                 3201   \n",
       "1      2             32    JAWA BARAT                 3202   \n",
       "2      3             32    JAWA BARAT                 3203   \n",
       "3      4             32    JAWA BARAT                 3204   \n",
       "4      5             32    JAWA BARAT                 3205   \n",
       "..   ...            ...           ...                  ...   \n",
       "157  158             32    JAWA BARAT                 3279   \n",
       "158  159             32    JAWA BARAT                 3279   \n",
       "159  160             32    JAWA BARAT                 3279   \n",
       "160  161             32    JAWA BARAT                 3279   \n",
       "161  162             32    JAWA BARAT                 3279   \n",
       "\n",
       "    nama_kabupaten_kota  jumlah_penderita_dm satuan  tahun  \n",
       "0       KABUPATEN BOGOR                57769  ORANG   2019  \n",
       "1    KABUPATEN SUKABUMI               148447  ORANG   2019  \n",
       "2     KABUPATEN CIANJUR                12100  ORANG   2019  \n",
       "3     KABUPATEN BANDUNG                45412  ORANG   2019  \n",
       "4       KABUPATEN GARUT                    0  ORANG   2019  \n",
       "..                  ...                  ...    ...    ...  \n",
       "157         KOTA BANJAR                46481  ORANG   2024  \n",
       "158         KOTA BANJAR                44061  ORANG   2024  \n",
       "159         KOTA BANJAR                10021  ORANG   2024  \n",
       "160         KOTA BANJAR                11782  ORANG   2024  \n",
       "161         KOTA BANJAR                 2415  ORANG   2024  \n",
       "\n",
       "[162 rows x 8 columns]"
      ]
     },
     "execution_count": 156,
     "metadata": {},
     "output_type": "execute_result"
    }
   ],
   "source": [
    "df"
   ]
  },
  {
   "cell_type": "code",
   "execution_count": 157,
   "id": "0054f9a7",
   "metadata": {},
   "outputs": [],
   "source": [
    "df.drop([\"id\",\"kode_provinsi\",\"satuan\"], axis= 1 , inplace= True)\n"
   ]
  },
  {
   "cell_type": "code",
   "execution_count": 158,
   "id": "9f0e7ccd",
   "metadata": {},
   "outputs": [
    {
     "data": {
      "text/plain": [
       "0"
      ]
     },
     "execution_count": 158,
     "metadata": {},
     "output_type": "execute_result"
    }
   ],
   "source": [
    "df.duplicated().sum()"
   ]
  },
  {
   "cell_type": "code",
   "execution_count": 159,
   "id": "68878fb9",
   "metadata": {},
   "outputs": [
    {
     "data": {
      "application/vnd.microsoft.datawrangler.viewer.v0+json": {
       "columns": [
        {
         "name": "index",
         "rawType": "object",
         "type": "string"
        },
        {
         "name": "0",
         "rawType": "int64",
         "type": "integer"
        }
       ],
       "ref": "c3c49f87-2a92-4508-8e30-09ba299af2dc",
       "rows": [
        [
         "nama_provinsi",
         "0"
        ],
        [
         "kode_kabupaten_kota",
         "0"
        ],
        [
         "nama_kabupaten_kota",
         "0"
        ],
        [
         "jumlah_penderita_dm",
         "0"
        ],
        [
         "tahun",
         "0"
        ]
       ],
       "shape": {
        "columns": 1,
        "rows": 5
       }
      },
      "text/plain": [
       "nama_provinsi          0\n",
       "kode_kabupaten_kota    0\n",
       "nama_kabupaten_kota    0\n",
       "jumlah_penderita_dm    0\n",
       "tahun                  0\n",
       "dtype: int64"
      ]
     },
     "execution_count": 159,
     "metadata": {},
     "output_type": "execute_result"
    }
   ],
   "source": [
    "df.isnull().sum()"
   ]
  },
  {
   "cell_type": "code",
   "execution_count": 160,
   "id": "5e83cdc2",
   "metadata": {},
   "outputs": [
    {
     "name": "stdout",
     "output_type": "stream",
     "text": [
      "<class 'pandas.core.frame.DataFrame'>\n",
      "RangeIndex: 162 entries, 0 to 161\n",
      "Data columns (total 5 columns):\n",
      " #   Column               Non-Null Count  Dtype \n",
      "---  ------               --------------  ----- \n",
      " 0   nama_provinsi        162 non-null    object\n",
      " 1   kode_kabupaten_kota  162 non-null    int64 \n",
      " 2   nama_kabupaten_kota  162 non-null    object\n",
      " 3   jumlah_penderita_dm  162 non-null    int64 \n",
      " 4   tahun                162 non-null    int64 \n",
      "dtypes: int64(3), object(2)\n",
      "memory usage: 6.5+ KB\n"
     ]
    }
   ],
   "source": [
    "df.info()"
   ]
  },
  {
   "cell_type": "code",
   "execution_count": 161,
   "id": "b47c5f45",
   "metadata": {},
   "outputs": [
    {
     "data": {
      "application/vnd.microsoft.datawrangler.viewer.v0+json": {
       "columns": [
        {
         "name": "index",
         "rawType": "object",
         "type": "string"
        },
        {
         "name": "kode_kabupaten_kota",
         "rawType": "float64",
         "type": "float"
        },
        {
         "name": "jumlah_penderita_dm",
         "rawType": "float64",
         "type": "float"
        },
        {
         "name": "tahun",
         "rawType": "float64",
         "type": "float"
        }
       ],
       "ref": "7828d959-54c2-46e3-b522-e6375a35aab6",
       "rows": [
        [
         "count",
         "162.0",
         "162.0",
         "162.0"
        ],
        [
         "mean",
         "3239.277777777778",
         "29699.38888888889",
         "2021.5"
        ],
        [
         "std",
         "33.67293363559714",
         "31787.221501504566",
         "1.7131207221604823"
        ],
        [
         "min",
         "3201.0",
         "0.0",
         "2019.0"
        ],
        [
         "25%",
         "3209.0",
         "12306.0",
         "2020.0"
        ],
        [
         "50%",
         "3217.0",
         "19279.0",
         "2021.5"
        ],
        [
         "75%",
         "3277.0",
         "39988.75",
         "2023.0"
        ],
        [
         "max",
         "3279.0",
         "242169.0",
         "2024.0"
        ]
       ],
       "shape": {
        "columns": 3,
        "rows": 8
       }
      },
      "text/html": [
       "<div>\n",
       "<style scoped>\n",
       "    .dataframe tbody tr th:only-of-type {\n",
       "        vertical-align: middle;\n",
       "    }\n",
       "\n",
       "    .dataframe tbody tr th {\n",
       "        vertical-align: top;\n",
       "    }\n",
       "\n",
       "    .dataframe thead th {\n",
       "        text-align: right;\n",
       "    }\n",
       "</style>\n",
       "<table border=\"1\" class=\"dataframe\">\n",
       "  <thead>\n",
       "    <tr style=\"text-align: right;\">\n",
       "      <th></th>\n",
       "      <th>kode_kabupaten_kota</th>\n",
       "      <th>jumlah_penderita_dm</th>\n",
       "      <th>tahun</th>\n",
       "    </tr>\n",
       "  </thead>\n",
       "  <tbody>\n",
       "    <tr>\n",
       "      <th>count</th>\n",
       "      <td>162.000000</td>\n",
       "      <td>162.000000</td>\n",
       "      <td>162.000000</td>\n",
       "    </tr>\n",
       "    <tr>\n",
       "      <th>mean</th>\n",
       "      <td>3239.277778</td>\n",
       "      <td>29699.388889</td>\n",
       "      <td>2021.500000</td>\n",
       "    </tr>\n",
       "    <tr>\n",
       "      <th>std</th>\n",
       "      <td>33.672934</td>\n",
       "      <td>31787.221502</td>\n",
       "      <td>1.713121</td>\n",
       "    </tr>\n",
       "    <tr>\n",
       "      <th>min</th>\n",
       "      <td>3201.000000</td>\n",
       "      <td>0.000000</td>\n",
       "      <td>2019.000000</td>\n",
       "    </tr>\n",
       "    <tr>\n",
       "      <th>25%</th>\n",
       "      <td>3209.000000</td>\n",
       "      <td>12306.000000</td>\n",
       "      <td>2020.000000</td>\n",
       "    </tr>\n",
       "    <tr>\n",
       "      <th>50%</th>\n",
       "      <td>3217.000000</td>\n",
       "      <td>19279.000000</td>\n",
       "      <td>2021.500000</td>\n",
       "    </tr>\n",
       "    <tr>\n",
       "      <th>75%</th>\n",
       "      <td>3277.000000</td>\n",
       "      <td>39988.750000</td>\n",
       "      <td>2023.000000</td>\n",
       "    </tr>\n",
       "    <tr>\n",
       "      <th>max</th>\n",
       "      <td>3279.000000</td>\n",
       "      <td>242169.000000</td>\n",
       "      <td>2024.000000</td>\n",
       "    </tr>\n",
       "  </tbody>\n",
       "</table>\n",
       "</div>"
      ],
      "text/plain": [
       "       kode_kabupaten_kota  jumlah_penderita_dm        tahun\n",
       "count           162.000000           162.000000   162.000000\n",
       "mean           3239.277778         29699.388889  2021.500000\n",
       "std              33.672934         31787.221502     1.713121\n",
       "min            3201.000000             0.000000  2019.000000\n",
       "25%            3209.000000         12306.000000  2020.000000\n",
       "50%            3217.000000         19279.000000  2021.500000\n",
       "75%            3277.000000         39988.750000  2023.000000\n",
       "max            3279.000000        242169.000000  2024.000000"
      ]
     },
     "execution_count": 161,
     "metadata": {},
     "output_type": "execute_result"
    }
   ],
   "source": [
    "df.describe()"
   ]
  },
  {
   "cell_type": "code",
   "execution_count": 162,
   "id": "f832e20f",
   "metadata": {},
   "outputs": [],
   "source": [
    "df = df[df[\"tahun\"] < 2024] "
   ]
  },
  {
   "cell_type": "code",
   "execution_count": 163,
   "id": "c93b38e3",
   "metadata": {},
   "outputs": [],
   "source": [
    "df = df[df[\"jumlah_penderita_dm\"] > 0] "
   ]
  },
  {
   "cell_type": "code",
   "execution_count": 164,
   "id": "336a49d0",
   "metadata": {},
   "outputs": [
    {
     "data": {
      "application/vnd.microsoft.datawrangler.viewer.v0+json": {
       "columns": [
        {
         "name": "index",
         "rawType": "int64",
         "type": "integer"
        },
        {
         "name": "nama_provinsi",
         "rawType": "object",
         "type": "string"
        },
        {
         "name": "kode_kabupaten_kota",
         "rawType": "int64",
         "type": "integer"
        },
        {
         "name": "nama_kabupaten_kota",
         "rawType": "object",
         "type": "string"
        },
        {
         "name": "jumlah_penderita_dm",
         "rawType": "int64",
         "type": "integer"
        },
        {
         "name": "tahun",
         "rawType": "int64",
         "type": "integer"
        }
       ],
       "ref": "7be7d97d-d225-45b0-b2bf-8f9f10721a26",
       "rows": [
        [
         "0",
         "JAWA BARAT",
         "3201",
         "KABUPATEN BOGOR",
         "57769",
         "2019"
        ],
        [
         "1",
         "JAWA BARAT",
         "3202",
         "KABUPATEN SUKABUMI",
         "148447",
         "2019"
        ],
        [
         "2",
         "JAWA BARAT",
         "3203",
         "KABUPATEN CIANJUR",
         "12100",
         "2019"
        ],
        [
         "3",
         "JAWA BARAT",
         "3204",
         "KABUPATEN BANDUNG",
         "45412",
         "2019"
        ],
        [
         "5",
         "JAWA BARAT",
         "3206",
         "KABUPATEN TASIKMALAYA",
         "10930",
         "2019"
        ],
        [
         "6",
         "JAWA BARAT",
         "3207",
         "KABUPATEN CIAMIS",
         "69113",
         "2019"
        ],
        [
         "7",
         "JAWA BARAT",
         "3208",
         "KABUPATEN KUNINGAN",
         "31582",
         "2019"
        ],
        [
         "8",
         "JAWA BARAT",
         "3209",
         "KABUPATEN CIREBON",
         "21981",
         "2019"
        ],
        [
         "9",
         "JAWA BARAT",
         "3210",
         "KABUPATEN MAJALENGKA",
         "12915",
         "2019"
        ],
        [
         "11",
         "JAWA BARAT",
         "3212",
         "KABUPATEN INDRAMAYU",
         "5504",
         "2019"
        ],
        [
         "12",
         "JAWA BARAT",
         "3213",
         "KABUPATEN SUBANG",
         "21691",
         "2019"
        ],
        [
         "13",
         "JAWA BARAT",
         "3214",
         "KABUPATEN PURWAKARTA",
         "11783",
         "2019"
        ],
        [
         "14",
         "JAWA BARAT",
         "3215",
         "KABUPATEN KARAWANG",
         "149537",
         "2019"
        ],
        [
         "15",
         "JAWA BARAT",
         "3216",
         "KABUPATEN BEKASI",
         "89055",
         "2019"
        ],
        [
         "18",
         "JAWA BARAT",
         "3271",
         "KOTA BOGOR",
         "12273",
         "2019"
        ],
        [
         "20",
         "JAWA BARAT",
         "3273",
         "KOTA BANDUNG",
         "45430",
         "2019"
        ],
        [
         "22",
         "JAWA BARAT",
         "3275",
         "KOTA BEKASI",
         "42517",
         "2019"
        ],
        [
         "23",
         "JAWA BARAT",
         "3276",
         "KOTA DEPOK",
         "48899",
         "2019"
        ],
        [
         "24",
         "JAWA BARAT",
         "3277",
         "KOTA CIMAHI",
         "9571",
         "2019"
        ],
        [
         "26",
         "JAWA BARAT",
         "3279",
         "KOTA BANJAR",
         "1946",
         "2019"
        ],
        [
         "27",
         "JAWA BARAT",
         "3201",
         "KABUPATEN BOGOR",
         "71462",
         "2020"
        ],
        [
         "28",
         "JAWA BARAT",
         "3202",
         "KABUPATEN SUKABUMI",
         "37523",
         "2020"
        ],
        [
         "29",
         "JAWA BARAT",
         "3203",
         "KABUPATEN CIANJUR",
         "14208",
         "2020"
        ],
        [
         "30",
         "JAWA BARAT",
         "3204",
         "KABUPATEN BANDUNG",
         "32847",
         "2020"
        ],
        [
         "31",
         "JAWA BARAT",
         "3205",
         "KABUPATEN GARUT",
         "17732",
         "2020"
        ],
        [
         "32",
         "JAWA BARAT",
         "3206",
         "KABUPATEN TASIKMALAYA",
         "15049",
         "2020"
        ],
        [
         "33",
         "JAWA BARAT",
         "3207",
         "KABUPATEN CIAMIS",
         "79252",
         "2020"
        ],
        [
         "34",
         "JAWA BARAT",
         "3208",
         "KABUPATEN KUNINGAN",
         "17663",
         "2020"
        ],
        [
         "35",
         "JAWA BARAT",
         "3209",
         "KABUPATEN CIREBON",
         "22345",
         "2020"
        ],
        [
         "36",
         "JAWA BARAT",
         "3210",
         "KABUPATEN MAJALENGKA",
         "13024",
         "2020"
        ],
        [
         "37",
         "JAWA BARAT",
         "3211",
         "KABUPATEN SUMEDANG",
         "79656",
         "2020"
        ],
        [
         "38",
         "JAWA BARAT",
         "3212",
         "KABUPATEN INDRAMAYU",
         "30709",
         "2020"
        ],
        [
         "39",
         "JAWA BARAT",
         "3213",
         "KABUPATEN SUBANG",
         "16830",
         "2020"
        ],
        [
         "40",
         "JAWA BARAT",
         "3214",
         "KABUPATEN PURWAKARTA",
         "12405",
         "2020"
        ],
        [
         "41",
         "JAWA BARAT",
         "3215",
         "KABUPATEN KARAWANG",
         "139392",
         "2020"
        ],
        [
         "42",
         "JAWA BARAT",
         "3216",
         "KABUPATEN BEKASI",
         "242169",
         "2020"
        ],
        [
         "43",
         "JAWA BARAT",
         "3217",
         "KABUPATEN BANDUNG BARAT",
         "17009",
         "2020"
        ],
        [
         "44",
         "JAWA BARAT",
         "3218",
         "KABUPATEN PANGANDARAN",
         "16376",
         "2020"
        ],
        [
         "45",
         "JAWA BARAT",
         "3271",
         "KOTA BOGOR",
         "19694",
         "2020"
        ],
        [
         "46",
         "JAWA BARAT",
         "3272",
         "KOTA SUKABUMI",
         "2465",
         "2020"
        ],
        [
         "47",
         "JAWA BARAT",
         "3273",
         "KOTA BANDUNG",
         "43906",
         "2020"
        ],
        [
         "48",
         "JAWA BARAT",
         "3274",
         "KOTA CIREBON",
         "20834",
         "2020"
        ],
        [
         "49",
         "JAWA BARAT",
         "3275",
         "KOTA BEKASI",
         "44714",
         "2020"
        ],
        [
         "50",
         "JAWA BARAT",
         "3276",
         "KOTA DEPOK",
         "50631",
         "2020"
        ],
        [
         "51",
         "JAWA BARAT",
         "3277",
         "KOTA CIMAHI",
         "9716",
         "2020"
        ],
        [
         "52",
         "JAWA BARAT",
         "3278",
         "KOTA TASIKMALAYA",
         "8906",
         "2020"
        ],
        [
         "53",
         "JAWA BARAT",
         "3279",
         "KOTA BANJAR",
         "2340",
         "2020"
        ],
        [
         "54",
         "JAWA BARAT",
         "3201",
         "KABUPATEN BOGOR",
         "61139",
         "2021"
        ],
        [
         "55",
         "JAWA BARAT",
         "3202",
         "KABUPATEN SUKABUMI",
         "37523",
         "2021"
        ],
        [
         "56",
         "JAWA BARAT",
         "3203",
         "KABUPATEN CIANJUR",
         "14694",
         "2021"
        ]
       ],
       "shape": {
        "columns": 5,
        "rows": 128
       }
      },
      "text/html": [
       "<div>\n",
       "<style scoped>\n",
       "    .dataframe tbody tr th:only-of-type {\n",
       "        vertical-align: middle;\n",
       "    }\n",
       "\n",
       "    .dataframe tbody tr th {\n",
       "        vertical-align: top;\n",
       "    }\n",
       "\n",
       "    .dataframe thead th {\n",
       "        text-align: right;\n",
       "    }\n",
       "</style>\n",
       "<table border=\"1\" class=\"dataframe\">\n",
       "  <thead>\n",
       "    <tr style=\"text-align: right;\">\n",
       "      <th></th>\n",
       "      <th>nama_provinsi</th>\n",
       "      <th>kode_kabupaten_kota</th>\n",
       "      <th>nama_kabupaten_kota</th>\n",
       "      <th>jumlah_penderita_dm</th>\n",
       "      <th>tahun</th>\n",
       "    </tr>\n",
       "  </thead>\n",
       "  <tbody>\n",
       "    <tr>\n",
       "      <th>0</th>\n",
       "      <td>JAWA BARAT</td>\n",
       "      <td>3201</td>\n",
       "      <td>KABUPATEN BOGOR</td>\n",
       "      <td>57769</td>\n",
       "      <td>2019</td>\n",
       "    </tr>\n",
       "    <tr>\n",
       "      <th>1</th>\n",
       "      <td>JAWA BARAT</td>\n",
       "      <td>3202</td>\n",
       "      <td>KABUPATEN SUKABUMI</td>\n",
       "      <td>148447</td>\n",
       "      <td>2019</td>\n",
       "    </tr>\n",
       "    <tr>\n",
       "      <th>2</th>\n",
       "      <td>JAWA BARAT</td>\n",
       "      <td>3203</td>\n",
       "      <td>KABUPATEN CIANJUR</td>\n",
       "      <td>12100</td>\n",
       "      <td>2019</td>\n",
       "    </tr>\n",
       "    <tr>\n",
       "      <th>3</th>\n",
       "      <td>JAWA BARAT</td>\n",
       "      <td>3204</td>\n",
       "      <td>KABUPATEN BANDUNG</td>\n",
       "      <td>45412</td>\n",
       "      <td>2019</td>\n",
       "    </tr>\n",
       "    <tr>\n",
       "      <th>5</th>\n",
       "      <td>JAWA BARAT</td>\n",
       "      <td>3206</td>\n",
       "      <td>KABUPATEN TASIKMALAYA</td>\n",
       "      <td>10930</td>\n",
       "      <td>2019</td>\n",
       "    </tr>\n",
       "    <tr>\n",
       "      <th>...</th>\n",
       "      <td>...</td>\n",
       "      <td>...</td>\n",
       "      <td>...</td>\n",
       "      <td>...</td>\n",
       "      <td>...</td>\n",
       "    </tr>\n",
       "    <tr>\n",
       "      <th>130</th>\n",
       "      <td>JAWA BARAT</td>\n",
       "      <td>3275</td>\n",
       "      <td>KOTA BEKASI</td>\n",
       "      <td>43257</td>\n",
       "      <td>2023</td>\n",
       "    </tr>\n",
       "    <tr>\n",
       "      <th>131</th>\n",
       "      <td>JAWA BARAT</td>\n",
       "      <td>3276</td>\n",
       "      <td>KOTA DEPOK</td>\n",
       "      <td>43929</td>\n",
       "      <td>2023</td>\n",
       "    </tr>\n",
       "    <tr>\n",
       "      <th>132</th>\n",
       "      <td>JAWA BARAT</td>\n",
       "      <td>3277</td>\n",
       "      <td>KOTA CIMAHI</td>\n",
       "      <td>10016</td>\n",
       "      <td>2023</td>\n",
       "    </tr>\n",
       "    <tr>\n",
       "      <th>133</th>\n",
       "      <td>JAWA BARAT</td>\n",
       "      <td>3278</td>\n",
       "      <td>KOTA TASIKMALAYA</td>\n",
       "      <td>11782</td>\n",
       "      <td>2023</td>\n",
       "    </tr>\n",
       "    <tr>\n",
       "      <th>134</th>\n",
       "      <td>JAWA BARAT</td>\n",
       "      <td>3279</td>\n",
       "      <td>KOTA BANJAR</td>\n",
       "      <td>2385</td>\n",
       "      <td>2023</td>\n",
       "    </tr>\n",
       "  </tbody>\n",
       "</table>\n",
       "<p>128 rows × 5 columns</p>\n",
       "</div>"
      ],
      "text/plain": [
       "    nama_provinsi  kode_kabupaten_kota    nama_kabupaten_kota  \\\n",
       "0      JAWA BARAT                 3201        KABUPATEN BOGOR   \n",
       "1      JAWA BARAT                 3202     KABUPATEN SUKABUMI   \n",
       "2      JAWA BARAT                 3203      KABUPATEN CIANJUR   \n",
       "3      JAWA BARAT                 3204      KABUPATEN BANDUNG   \n",
       "5      JAWA BARAT                 3206  KABUPATEN TASIKMALAYA   \n",
       "..            ...                  ...                    ...   \n",
       "130    JAWA BARAT                 3275            KOTA BEKASI   \n",
       "131    JAWA BARAT                 3276             KOTA DEPOK   \n",
       "132    JAWA BARAT                 3277            KOTA CIMAHI   \n",
       "133    JAWA BARAT                 3278       KOTA TASIKMALAYA   \n",
       "134    JAWA BARAT                 3279            KOTA BANJAR   \n",
       "\n",
       "     jumlah_penderita_dm  tahun  \n",
       "0                  57769   2019  \n",
       "1                 148447   2019  \n",
       "2                  12100   2019  \n",
       "3                  45412   2019  \n",
       "5                  10930   2019  \n",
       "..                   ...    ...  \n",
       "130                43257   2023  \n",
       "131                43929   2023  \n",
       "132                10016   2023  \n",
       "133                11782   2023  \n",
       "134                 2385   2023  \n",
       "\n",
       "[128 rows x 5 columns]"
      ]
     },
     "execution_count": 164,
     "metadata": {},
     "output_type": "execute_result"
    }
   ],
   "source": [
    "df"
   ]
  },
  {
   "cell_type": "code",
   "execution_count": 165,
   "id": "4c26ef57",
   "metadata": {},
   "outputs": [
    {
     "data": {
      "application/vnd.microsoft.datawrangler.viewer.v0+json": {
       "columns": [
        {
         "name": "index",
         "rawType": "int64",
         "type": "integer"
        },
        {
         "name": "nama_provinsi",
         "rawType": "object",
         "type": "string"
        },
        {
         "name": "kode_kabupaten_kota",
         "rawType": "int64",
         "type": "integer"
        },
        {
         "name": "nama_kabupaten_kota",
         "rawType": "object",
         "type": "string"
        },
        {
         "name": "jumlah_penderita_dm",
         "rawType": "int64",
         "type": "integer"
        },
        {
         "name": "tahun",
         "rawType": "int64",
         "type": "integer"
        }
       ],
       "ref": "7f85cca0-45ef-4ed9-8512-1736ecb4c592",
       "rows": [
        [
         "0",
         "JAWA BARAT",
         "3201",
         "KABUPATEN BOGOR",
         "57769",
         "2019"
        ],
        [
         "1",
         "JAWA BARAT",
         "3202",
         "KABUPATEN SUKABUMI",
         "148447",
         "2019"
        ],
        [
         "2",
         "JAWA BARAT",
         "3203",
         "KABUPATEN CIANJUR",
         "12100",
         "2019"
        ],
        [
         "3",
         "JAWA BARAT",
         "3204",
         "KABUPATEN BANDUNG",
         "45412",
         "2019"
        ],
        [
         "5",
         "JAWA BARAT",
         "3206",
         "KABUPATEN TASIKMALAYA",
         "10930",
         "2019"
        ],
        [
         "6",
         "JAWA BARAT",
         "3207",
         "KABUPATEN CIAMIS",
         "69113",
         "2019"
        ],
        [
         "7",
         "JAWA BARAT",
         "3208",
         "KABUPATEN KUNINGAN",
         "31582",
         "2019"
        ],
        [
         "8",
         "JAWA BARAT",
         "3209",
         "KABUPATEN CIREBON",
         "21981",
         "2019"
        ],
        [
         "9",
         "JAWA BARAT",
         "3210",
         "KABUPATEN MAJALENGKA",
         "12915",
         "2019"
        ],
        [
         "11",
         "JAWA BARAT",
         "3212",
         "KABUPATEN INDRAMAYU",
         "5504",
         "2019"
        ],
        [
         "12",
         "JAWA BARAT",
         "3213",
         "KABUPATEN SUBANG",
         "21691",
         "2019"
        ],
        [
         "13",
         "JAWA BARAT",
         "3214",
         "KABUPATEN PURWAKARTA",
         "11783",
         "2019"
        ],
        [
         "14",
         "JAWA BARAT",
         "3215",
         "KABUPATEN KARAWANG",
         "149537",
         "2019"
        ],
        [
         "15",
         "JAWA BARAT",
         "3216",
         "KABUPATEN BEKASI",
         "89055",
         "2019"
        ],
        [
         "18",
         "JAWA BARAT",
         "3271",
         "KOTA BOGOR",
         "12273",
         "2019"
        ],
        [
         "20",
         "JAWA BARAT",
         "3273",
         "KOTA BANDUNG",
         "45430",
         "2019"
        ],
        [
         "22",
         "JAWA BARAT",
         "3275",
         "KOTA BEKASI",
         "42517",
         "2019"
        ],
        [
         "23",
         "JAWA BARAT",
         "3276",
         "KOTA DEPOK",
         "48899",
         "2019"
        ],
        [
         "24",
         "JAWA BARAT",
         "3277",
         "KOTA CIMAHI",
         "9571",
         "2019"
        ],
        [
         "26",
         "JAWA BARAT",
         "3279",
         "KOTA BANJAR",
         "1946",
         "2019"
        ],
        [
         "27",
         "JAWA BARAT",
         "3201",
         "KABUPATEN BOGOR",
         "71462",
         "2020"
        ],
        [
         "28",
         "JAWA BARAT",
         "3202",
         "KABUPATEN SUKABUMI",
         "37523",
         "2020"
        ],
        [
         "29",
         "JAWA BARAT",
         "3203",
         "KABUPATEN CIANJUR",
         "14208",
         "2020"
        ],
        [
         "30",
         "JAWA BARAT",
         "3204",
         "KABUPATEN BANDUNG",
         "32847",
         "2020"
        ],
        [
         "31",
         "JAWA BARAT",
         "3205",
         "KABUPATEN GARUT",
         "17732",
         "2020"
        ],
        [
         "32",
         "JAWA BARAT",
         "3206",
         "KABUPATEN TASIKMALAYA",
         "15049",
         "2020"
        ],
        [
         "33",
         "JAWA BARAT",
         "3207",
         "KABUPATEN CIAMIS",
         "79252",
         "2020"
        ],
        [
         "34",
         "JAWA BARAT",
         "3208",
         "KABUPATEN KUNINGAN",
         "17663",
         "2020"
        ],
        [
         "35",
         "JAWA BARAT",
         "3209",
         "KABUPATEN CIREBON",
         "22345",
         "2020"
        ],
        [
         "36",
         "JAWA BARAT",
         "3210",
         "KABUPATEN MAJALENGKA",
         "13024",
         "2020"
        ],
        [
         "37",
         "JAWA BARAT",
         "3211",
         "KABUPATEN SUMEDANG",
         "79656",
         "2020"
        ],
        [
         "38",
         "JAWA BARAT",
         "3212",
         "KABUPATEN INDRAMAYU",
         "30709",
         "2020"
        ],
        [
         "39",
         "JAWA BARAT",
         "3213",
         "KABUPATEN SUBANG",
         "16830",
         "2020"
        ],
        [
         "40",
         "JAWA BARAT",
         "3214",
         "KABUPATEN PURWAKARTA",
         "12405",
         "2020"
        ],
        [
         "41",
         "JAWA BARAT",
         "3215",
         "KABUPATEN KARAWANG",
         "139392",
         "2020"
        ],
        [
         "42",
         "JAWA BARAT",
         "3216",
         "KABUPATEN BEKASI",
         "242169",
         "2020"
        ],
        [
         "43",
         "JAWA BARAT",
         "3217",
         "KABUPATEN BANDUNG BARAT",
         "17009",
         "2020"
        ],
        [
         "44",
         "JAWA BARAT",
         "3218",
         "KABUPATEN PANGANDARAN",
         "16376",
         "2020"
        ],
        [
         "45",
         "JAWA BARAT",
         "3271",
         "KOTA BOGOR",
         "19694",
         "2020"
        ],
        [
         "46",
         "JAWA BARAT",
         "3272",
         "KOTA SUKABUMI",
         "2465",
         "2020"
        ],
        [
         "47",
         "JAWA BARAT",
         "3273",
         "KOTA BANDUNG",
         "43906",
         "2020"
        ],
        [
         "48",
         "JAWA BARAT",
         "3274",
         "KOTA CIREBON",
         "20834",
         "2020"
        ],
        [
         "49",
         "JAWA BARAT",
         "3275",
         "KOTA BEKASI",
         "44714",
         "2020"
        ],
        [
         "50",
         "JAWA BARAT",
         "3276",
         "KOTA DEPOK",
         "50631",
         "2020"
        ],
        [
         "51",
         "JAWA BARAT",
         "3277",
         "KOTA CIMAHI",
         "9716",
         "2020"
        ],
        [
         "52",
         "JAWA BARAT",
         "3278",
         "KOTA TASIKMALAYA",
         "8906",
         "2020"
        ],
        [
         "53",
         "JAWA BARAT",
         "3279",
         "KOTA BANJAR",
         "2340",
         "2020"
        ],
        [
         "54",
         "JAWA BARAT",
         "3201",
         "KABUPATEN BOGOR",
         "61139",
         "2021"
        ],
        [
         "55",
         "JAWA BARAT",
         "3202",
         "KABUPATEN SUKABUMI",
         "37523",
         "2021"
        ],
        [
         "56",
         "JAWA BARAT",
         "3203",
         "KABUPATEN CIANJUR",
         "14694",
         "2021"
        ]
       ],
       "shape": {
        "columns": 5,
        "rows": 128
       }
      },
      "text/html": [
       "<div>\n",
       "<style scoped>\n",
       "    .dataframe tbody tr th:only-of-type {\n",
       "        vertical-align: middle;\n",
       "    }\n",
       "\n",
       "    .dataframe tbody tr th {\n",
       "        vertical-align: top;\n",
       "    }\n",
       "\n",
       "    .dataframe thead th {\n",
       "        text-align: right;\n",
       "    }\n",
       "</style>\n",
       "<table border=\"1\" class=\"dataframe\">\n",
       "  <thead>\n",
       "    <tr style=\"text-align: right;\">\n",
       "      <th></th>\n",
       "      <th>nama_provinsi</th>\n",
       "      <th>kode_kabupaten_kota</th>\n",
       "      <th>nama_kabupaten_kota</th>\n",
       "      <th>jumlah_penderita_dm</th>\n",
       "      <th>tahun</th>\n",
       "    </tr>\n",
       "  </thead>\n",
       "  <tbody>\n",
       "    <tr>\n",
       "      <th>0</th>\n",
       "      <td>JAWA BARAT</td>\n",
       "      <td>3201</td>\n",
       "      <td>KABUPATEN BOGOR</td>\n",
       "      <td>57769</td>\n",
       "      <td>2019</td>\n",
       "    </tr>\n",
       "    <tr>\n",
       "      <th>1</th>\n",
       "      <td>JAWA BARAT</td>\n",
       "      <td>3202</td>\n",
       "      <td>KABUPATEN SUKABUMI</td>\n",
       "      <td>148447</td>\n",
       "      <td>2019</td>\n",
       "    </tr>\n",
       "    <tr>\n",
       "      <th>2</th>\n",
       "      <td>JAWA BARAT</td>\n",
       "      <td>3203</td>\n",
       "      <td>KABUPATEN CIANJUR</td>\n",
       "      <td>12100</td>\n",
       "      <td>2019</td>\n",
       "    </tr>\n",
       "    <tr>\n",
       "      <th>3</th>\n",
       "      <td>JAWA BARAT</td>\n",
       "      <td>3204</td>\n",
       "      <td>KABUPATEN BANDUNG</td>\n",
       "      <td>45412</td>\n",
       "      <td>2019</td>\n",
       "    </tr>\n",
       "    <tr>\n",
       "      <th>5</th>\n",
       "      <td>JAWA BARAT</td>\n",
       "      <td>3206</td>\n",
       "      <td>KABUPATEN TASIKMALAYA</td>\n",
       "      <td>10930</td>\n",
       "      <td>2019</td>\n",
       "    </tr>\n",
       "    <tr>\n",
       "      <th>...</th>\n",
       "      <td>...</td>\n",
       "      <td>...</td>\n",
       "      <td>...</td>\n",
       "      <td>...</td>\n",
       "      <td>...</td>\n",
       "    </tr>\n",
       "    <tr>\n",
       "      <th>130</th>\n",
       "      <td>JAWA BARAT</td>\n",
       "      <td>3275</td>\n",
       "      <td>KOTA BEKASI</td>\n",
       "      <td>43257</td>\n",
       "      <td>2023</td>\n",
       "    </tr>\n",
       "    <tr>\n",
       "      <th>131</th>\n",
       "      <td>JAWA BARAT</td>\n",
       "      <td>3276</td>\n",
       "      <td>KOTA DEPOK</td>\n",
       "      <td>43929</td>\n",
       "      <td>2023</td>\n",
       "    </tr>\n",
       "    <tr>\n",
       "      <th>132</th>\n",
       "      <td>JAWA BARAT</td>\n",
       "      <td>3277</td>\n",
       "      <td>KOTA CIMAHI</td>\n",
       "      <td>10016</td>\n",
       "      <td>2023</td>\n",
       "    </tr>\n",
       "    <tr>\n",
       "      <th>133</th>\n",
       "      <td>JAWA BARAT</td>\n",
       "      <td>3278</td>\n",
       "      <td>KOTA TASIKMALAYA</td>\n",
       "      <td>11782</td>\n",
       "      <td>2023</td>\n",
       "    </tr>\n",
       "    <tr>\n",
       "      <th>134</th>\n",
       "      <td>JAWA BARAT</td>\n",
       "      <td>3279</td>\n",
       "      <td>KOTA BANJAR</td>\n",
       "      <td>2385</td>\n",
       "      <td>2023</td>\n",
       "    </tr>\n",
       "  </tbody>\n",
       "</table>\n",
       "<p>128 rows × 5 columns</p>\n",
       "</div>"
      ],
      "text/plain": [
       "    nama_provinsi  kode_kabupaten_kota    nama_kabupaten_kota  \\\n",
       "0      JAWA BARAT                 3201        KABUPATEN BOGOR   \n",
       "1      JAWA BARAT                 3202     KABUPATEN SUKABUMI   \n",
       "2      JAWA BARAT                 3203      KABUPATEN CIANJUR   \n",
       "3      JAWA BARAT                 3204      KABUPATEN BANDUNG   \n",
       "5      JAWA BARAT                 3206  KABUPATEN TASIKMALAYA   \n",
       "..            ...                  ...                    ...   \n",
       "130    JAWA BARAT                 3275            KOTA BEKASI   \n",
       "131    JAWA BARAT                 3276             KOTA DEPOK   \n",
       "132    JAWA BARAT                 3277            KOTA CIMAHI   \n",
       "133    JAWA BARAT                 3278       KOTA TASIKMALAYA   \n",
       "134    JAWA BARAT                 3279            KOTA BANJAR   \n",
       "\n",
       "     jumlah_penderita_dm  tahun  \n",
       "0                  57769   2019  \n",
       "1                 148447   2019  \n",
       "2                  12100   2019  \n",
       "3                  45412   2019  \n",
       "5                  10930   2019  \n",
       "..                   ...    ...  \n",
       "130                43257   2023  \n",
       "131                43929   2023  \n",
       "132                10016   2023  \n",
       "133                11782   2023  \n",
       "134                 2385   2023  \n",
       "\n",
       "[128 rows x 5 columns]"
      ]
     },
     "execution_count": 165,
     "metadata": {},
     "output_type": "execute_result"
    }
   ],
   "source": [
    "df"
   ]
  },
  {
   "cell_type": "code",
   "execution_count": 166,
   "id": "1a193516",
   "metadata": {},
   "outputs": [],
   "source": [
    "jumalah_penderita_pertahun = df.groupby(\"tahun\", as_index=False)[\"jumlah_penderita_dm\"].sum()"
   ]
  },
  {
   "cell_type": "code",
   "execution_count": 167,
   "id": "13d981e0",
   "metadata": {},
   "outputs": [
    {
     "data": {
      "application/vnd.microsoft.datawrangler.viewer.v0+json": {
       "columns": [
        {
         "name": "index",
         "rawType": "int64",
         "type": "integer"
        },
        {
         "name": "tahun",
         "rawType": "int64",
         "type": "integer"
        },
        {
         "name": "jumlah_penderita_dm",
         "rawType": "int64",
         "type": "integer"
        }
       ],
       "ref": "ad89fabc-7ad4-414a-9f4c-ef39be33d18d",
       "rows": [
        [
         "0",
         "2019",
         "848455"
        ],
        [
         "1",
         "2020",
         "1078857"
        ],
        [
         "2",
         "2021",
         "925675"
        ],
        [
         "3",
         "2022",
         "644704"
        ],
        [
         "4",
         "2023",
         "645390"
        ]
       ],
       "shape": {
        "columns": 2,
        "rows": 5
       }
      },
      "text/html": [
       "<div>\n",
       "<style scoped>\n",
       "    .dataframe tbody tr th:only-of-type {\n",
       "        vertical-align: middle;\n",
       "    }\n",
       "\n",
       "    .dataframe tbody tr th {\n",
       "        vertical-align: top;\n",
       "    }\n",
       "\n",
       "    .dataframe thead th {\n",
       "        text-align: right;\n",
       "    }\n",
       "</style>\n",
       "<table border=\"1\" class=\"dataframe\">\n",
       "  <thead>\n",
       "    <tr style=\"text-align: right;\">\n",
       "      <th></th>\n",
       "      <th>tahun</th>\n",
       "      <th>jumlah_penderita_dm</th>\n",
       "    </tr>\n",
       "  </thead>\n",
       "  <tbody>\n",
       "    <tr>\n",
       "      <th>0</th>\n",
       "      <td>2019</td>\n",
       "      <td>848455</td>\n",
       "    </tr>\n",
       "    <tr>\n",
       "      <th>1</th>\n",
       "      <td>2020</td>\n",
       "      <td>1078857</td>\n",
       "    </tr>\n",
       "    <tr>\n",
       "      <th>2</th>\n",
       "      <td>2021</td>\n",
       "      <td>925675</td>\n",
       "    </tr>\n",
       "    <tr>\n",
       "      <th>3</th>\n",
       "      <td>2022</td>\n",
       "      <td>644704</td>\n",
       "    </tr>\n",
       "    <tr>\n",
       "      <th>4</th>\n",
       "      <td>2023</td>\n",
       "      <td>645390</td>\n",
       "    </tr>\n",
       "  </tbody>\n",
       "</table>\n",
       "</div>"
      ],
      "text/plain": [
       "   tahun  jumlah_penderita_dm\n",
       "0   2019               848455\n",
       "1   2020              1078857\n",
       "2   2021               925675\n",
       "3   2022               644704\n",
       "4   2023               645390"
      ]
     },
     "execution_count": 167,
     "metadata": {},
     "output_type": "execute_result"
    }
   ],
   "source": [
    "jumalah_penderita_pertahun"
   ]
  },
  {
   "cell_type": "code",
   "execution_count": 168,
   "id": "66ef64cf",
   "metadata": {},
   "outputs": [
    {
     "data": {
      "application/vnd.microsoft.datawrangler.viewer.v0+json": {
       "columns": [
        {
         "name": "index",
         "rawType": "int64",
         "type": "integer"
        },
        {
         "name": "tahun",
         "rawType": "int64",
         "type": "integer"
        }
       ],
       "ref": "7247ff8e-91ab-4b04-88bc-82bd66491c26",
       "rows": [
        [
         "0",
         "2019"
        ],
        [
         "1",
         "2020"
        ],
        [
         "2",
         "2021"
        ],
        [
         "3",
         "2022"
        ],
        [
         "4",
         "2023"
        ]
       ],
       "shape": {
        "columns": 1,
        "rows": 5
       }
      },
      "text/plain": [
       "0    2019\n",
       "1    2020\n",
       "2    2021\n",
       "3    2022\n",
       "4    2023\n",
       "Name: tahun, dtype: int64"
      ]
     },
     "execution_count": 168,
     "metadata": {},
     "output_type": "execute_result"
    }
   ],
   "source": [
    "jumalah_penderita_pertahun[\"tahun\"]"
   ]
  },
  {
   "cell_type": "code",
   "execution_count": 169,
   "id": "0a36978d",
   "metadata": {},
   "outputs": [
    {
     "data": {
      "application/vnd.microsoft.datawrangler.viewer.v0+json": {
       "columns": [
        {
         "name": "index",
         "rawType": "int64",
         "type": "integer"
        },
        {
         "name": "jumlah_penderita_dm",
         "rawType": "int64",
         "type": "integer"
        }
       ],
       "ref": "9f02854d-f7c4-4a5f-ba64-13081ac02a07",
       "rows": [
        [
         "0",
         "848455"
        ],
        [
         "1",
         "1078857"
        ],
        [
         "2",
         "925675"
        ],
        [
         "3",
         "644704"
        ],
        [
         "4",
         "645390"
        ]
       ],
       "shape": {
        "columns": 1,
        "rows": 5
       }
      },
      "text/plain": [
       "0     848455\n",
       "1    1078857\n",
       "2     925675\n",
       "3     644704\n",
       "4     645390\n",
       "Name: jumlah_penderita_dm, dtype: int64"
      ]
     },
     "execution_count": 169,
     "metadata": {},
     "output_type": "execute_result"
    }
   ],
   "source": [
    "jumalah_penderita_pertahun[\"jumlah_penderita_dm\"]"
   ]
  },
  {
   "cell_type": "code",
   "execution_count": 203,
   "id": "69b33be5",
   "metadata": {},
   "outputs": [
    {
     "data": {
      "application/vnd.plotly.v1+json": {
       "config": {
        "plotlyServerURL": "https://plot.ly"
       },
       "data": [
        {
         "hovertemplate": "tahun=%{x}<br>jumlah_penderita_dm=%{marker.color}<extra></extra>",
         "legendgroup": "",
         "marker": {
          "color": {
           "bdata": "R/IMAEl2EADrHw4AYNYJAA7ZCQA=",
           "dtype": "i4"
          },
          "coloraxis": "coloraxis",
          "pattern": {
           "shape": ""
          }
         },
         "name": "",
         "orientation": "v",
         "showlegend": false,
         "textposition": "auto",
         "type": "bar",
         "x": {
          "bdata": "4wfkB+UH5gfnBw==",
          "dtype": "i2"
         },
         "xaxis": "x",
         "y": {
          "bdata": "R/IMAEl2EADrHw4AYNYJAA7ZCQA=",
          "dtype": "i4"
         },
         "yaxis": "y"
        }
       ],
       "layout": {
        "barmode": "relative",
        "coloraxis": {
         "colorbar": {
          "title": {
           "text": "jumlah_penderita_dm"
          }
         },
         "colorscale": [
          [
           0,
           "#0d0887"
          ],
          [
           0.1111111111111111,
           "#46039f"
          ],
          [
           0.2222222222222222,
           "#7201a8"
          ],
          [
           0.3333333333333333,
           "#9c179e"
          ],
          [
           0.4444444444444444,
           "#bd3786"
          ],
          [
           0.5555555555555556,
           "#d8576b"
          ],
          [
           0.6666666666666666,
           "#ed7953"
          ],
          [
           0.7777777777777778,
           "#fb9f3a"
          ],
          [
           0.8888888888888888,
           "#fdca26"
          ],
          [
           1,
           "#f0f921"
          ]
         ]
        },
        "height": 500,
        "legend": {
         "tracegroupgap": 0
        },
        "margin": {
         "t": 60
        },
        "template": {
         "data": {
          "bar": [
           {
            "error_x": {
             "color": "#2a3f5f"
            },
            "error_y": {
             "color": "#2a3f5f"
            },
            "marker": {
             "line": {
              "color": "#E5ECF6",
              "width": 0.5
             },
             "pattern": {
              "fillmode": "overlay",
              "size": 10,
              "solidity": 0.2
             }
            },
            "type": "bar"
           }
          ],
          "barpolar": [
           {
            "marker": {
             "line": {
              "color": "#E5ECF6",
              "width": 0.5
             },
             "pattern": {
              "fillmode": "overlay",
              "size": 10,
              "solidity": 0.2
             }
            },
            "type": "barpolar"
           }
          ],
          "carpet": [
           {
            "aaxis": {
             "endlinecolor": "#2a3f5f",
             "gridcolor": "white",
             "linecolor": "white",
             "minorgridcolor": "white",
             "startlinecolor": "#2a3f5f"
            },
            "baxis": {
             "endlinecolor": "#2a3f5f",
             "gridcolor": "white",
             "linecolor": "white",
             "minorgridcolor": "white",
             "startlinecolor": "#2a3f5f"
            },
            "type": "carpet"
           }
          ],
          "choropleth": [
           {
            "colorbar": {
             "outlinewidth": 0,
             "ticks": ""
            },
            "type": "choropleth"
           }
          ],
          "contour": [
           {
            "colorbar": {
             "outlinewidth": 0,
             "ticks": ""
            },
            "colorscale": [
             [
              0,
              "#0d0887"
             ],
             [
              0.1111111111111111,
              "#46039f"
             ],
             [
              0.2222222222222222,
              "#7201a8"
             ],
             [
              0.3333333333333333,
              "#9c179e"
             ],
             [
              0.4444444444444444,
              "#bd3786"
             ],
             [
              0.5555555555555556,
              "#d8576b"
             ],
             [
              0.6666666666666666,
              "#ed7953"
             ],
             [
              0.7777777777777778,
              "#fb9f3a"
             ],
             [
              0.8888888888888888,
              "#fdca26"
             ],
             [
              1,
              "#f0f921"
             ]
            ],
            "type": "contour"
           }
          ],
          "contourcarpet": [
           {
            "colorbar": {
             "outlinewidth": 0,
             "ticks": ""
            },
            "type": "contourcarpet"
           }
          ],
          "heatmap": [
           {
            "colorbar": {
             "outlinewidth": 0,
             "ticks": ""
            },
            "colorscale": [
             [
              0,
              "#0d0887"
             ],
             [
              0.1111111111111111,
              "#46039f"
             ],
             [
              0.2222222222222222,
              "#7201a8"
             ],
             [
              0.3333333333333333,
              "#9c179e"
             ],
             [
              0.4444444444444444,
              "#bd3786"
             ],
             [
              0.5555555555555556,
              "#d8576b"
             ],
             [
              0.6666666666666666,
              "#ed7953"
             ],
             [
              0.7777777777777778,
              "#fb9f3a"
             ],
             [
              0.8888888888888888,
              "#fdca26"
             ],
             [
              1,
              "#f0f921"
             ]
            ],
            "type": "heatmap"
           }
          ],
          "histogram": [
           {
            "marker": {
             "pattern": {
              "fillmode": "overlay",
              "size": 10,
              "solidity": 0.2
             }
            },
            "type": "histogram"
           }
          ],
          "histogram2d": [
           {
            "colorbar": {
             "outlinewidth": 0,
             "ticks": ""
            },
            "colorscale": [
             [
              0,
              "#0d0887"
             ],
             [
              0.1111111111111111,
              "#46039f"
             ],
             [
              0.2222222222222222,
              "#7201a8"
             ],
             [
              0.3333333333333333,
              "#9c179e"
             ],
             [
              0.4444444444444444,
              "#bd3786"
             ],
             [
              0.5555555555555556,
              "#d8576b"
             ],
             [
              0.6666666666666666,
              "#ed7953"
             ],
             [
              0.7777777777777778,
              "#fb9f3a"
             ],
             [
              0.8888888888888888,
              "#fdca26"
             ],
             [
              1,
              "#f0f921"
             ]
            ],
            "type": "histogram2d"
           }
          ],
          "histogram2dcontour": [
           {
            "colorbar": {
             "outlinewidth": 0,
             "ticks": ""
            },
            "colorscale": [
             [
              0,
              "#0d0887"
             ],
             [
              0.1111111111111111,
              "#46039f"
             ],
             [
              0.2222222222222222,
              "#7201a8"
             ],
             [
              0.3333333333333333,
              "#9c179e"
             ],
             [
              0.4444444444444444,
              "#bd3786"
             ],
             [
              0.5555555555555556,
              "#d8576b"
             ],
             [
              0.6666666666666666,
              "#ed7953"
             ],
             [
              0.7777777777777778,
              "#fb9f3a"
             ],
             [
              0.8888888888888888,
              "#fdca26"
             ],
             [
              1,
              "#f0f921"
             ]
            ],
            "type": "histogram2dcontour"
           }
          ],
          "mesh3d": [
           {
            "colorbar": {
             "outlinewidth": 0,
             "ticks": ""
            },
            "type": "mesh3d"
           }
          ],
          "parcoords": [
           {
            "line": {
             "colorbar": {
              "outlinewidth": 0,
              "ticks": ""
             }
            },
            "type": "parcoords"
           }
          ],
          "pie": [
           {
            "automargin": true,
            "type": "pie"
           }
          ],
          "scatter": [
           {
            "fillpattern": {
             "fillmode": "overlay",
             "size": 10,
             "solidity": 0.2
            },
            "type": "scatter"
           }
          ],
          "scatter3d": [
           {
            "line": {
             "colorbar": {
              "outlinewidth": 0,
              "ticks": ""
             }
            },
            "marker": {
             "colorbar": {
              "outlinewidth": 0,
              "ticks": ""
             }
            },
            "type": "scatter3d"
           }
          ],
          "scattercarpet": [
           {
            "marker": {
             "colorbar": {
              "outlinewidth": 0,
              "ticks": ""
             }
            },
            "type": "scattercarpet"
           }
          ],
          "scattergeo": [
           {
            "marker": {
             "colorbar": {
              "outlinewidth": 0,
              "ticks": ""
             }
            },
            "type": "scattergeo"
           }
          ],
          "scattergl": [
           {
            "marker": {
             "colorbar": {
              "outlinewidth": 0,
              "ticks": ""
             }
            },
            "type": "scattergl"
           }
          ],
          "scattermap": [
           {
            "marker": {
             "colorbar": {
              "outlinewidth": 0,
              "ticks": ""
             }
            },
            "type": "scattermap"
           }
          ],
          "scattermapbox": [
           {
            "marker": {
             "colorbar": {
              "outlinewidth": 0,
              "ticks": ""
             }
            },
            "type": "scattermapbox"
           }
          ],
          "scatterpolar": [
           {
            "marker": {
             "colorbar": {
              "outlinewidth": 0,
              "ticks": ""
             }
            },
            "type": "scatterpolar"
           }
          ],
          "scatterpolargl": [
           {
            "marker": {
             "colorbar": {
              "outlinewidth": 0,
              "ticks": ""
             }
            },
            "type": "scatterpolargl"
           }
          ],
          "scatterternary": [
           {
            "marker": {
             "colorbar": {
              "outlinewidth": 0,
              "ticks": ""
             }
            },
            "type": "scatterternary"
           }
          ],
          "surface": [
           {
            "colorbar": {
             "outlinewidth": 0,
             "ticks": ""
            },
            "colorscale": [
             [
              0,
              "#0d0887"
             ],
             [
              0.1111111111111111,
              "#46039f"
             ],
             [
              0.2222222222222222,
              "#7201a8"
             ],
             [
              0.3333333333333333,
              "#9c179e"
             ],
             [
              0.4444444444444444,
              "#bd3786"
             ],
             [
              0.5555555555555556,
              "#d8576b"
             ],
             [
              0.6666666666666666,
              "#ed7953"
             ],
             [
              0.7777777777777778,
              "#fb9f3a"
             ],
             [
              0.8888888888888888,
              "#fdca26"
             ],
             [
              1,
              "#f0f921"
             ]
            ],
            "type": "surface"
           }
          ],
          "table": [
           {
            "cells": {
             "fill": {
              "color": "#EBF0F8"
             },
             "line": {
              "color": "white"
             }
            },
            "header": {
             "fill": {
              "color": "#C8D4E3"
             },
             "line": {
              "color": "white"
             }
            },
            "type": "table"
           }
          ]
         },
         "layout": {
          "annotationdefaults": {
           "arrowcolor": "#2a3f5f",
           "arrowhead": 0,
           "arrowwidth": 1
          },
          "autotypenumbers": "strict",
          "coloraxis": {
           "colorbar": {
            "outlinewidth": 0,
            "ticks": ""
           }
          },
          "colorscale": {
           "diverging": [
            [
             0,
             "#8e0152"
            ],
            [
             0.1,
             "#c51b7d"
            ],
            [
             0.2,
             "#de77ae"
            ],
            [
             0.3,
             "#f1b6da"
            ],
            [
             0.4,
             "#fde0ef"
            ],
            [
             0.5,
             "#f7f7f7"
            ],
            [
             0.6,
             "#e6f5d0"
            ],
            [
             0.7,
             "#b8e186"
            ],
            [
             0.8,
             "#7fbc41"
            ],
            [
             0.9,
             "#4d9221"
            ],
            [
             1,
             "#276419"
            ]
           ],
           "sequential": [
            [
             0,
             "#0d0887"
            ],
            [
             0.1111111111111111,
             "#46039f"
            ],
            [
             0.2222222222222222,
             "#7201a8"
            ],
            [
             0.3333333333333333,
             "#9c179e"
            ],
            [
             0.4444444444444444,
             "#bd3786"
            ],
            [
             0.5555555555555556,
             "#d8576b"
            ],
            [
             0.6666666666666666,
             "#ed7953"
            ],
            [
             0.7777777777777778,
             "#fb9f3a"
            ],
            [
             0.8888888888888888,
             "#fdca26"
            ],
            [
             1,
             "#f0f921"
            ]
           ],
           "sequentialminus": [
            [
             0,
             "#0d0887"
            ],
            [
             0.1111111111111111,
             "#46039f"
            ],
            [
             0.2222222222222222,
             "#7201a8"
            ],
            [
             0.3333333333333333,
             "#9c179e"
            ],
            [
             0.4444444444444444,
             "#bd3786"
            ],
            [
             0.5555555555555556,
             "#d8576b"
            ],
            [
             0.6666666666666666,
             "#ed7953"
            ],
            [
             0.7777777777777778,
             "#fb9f3a"
            ],
            [
             0.8888888888888888,
             "#fdca26"
            ],
            [
             1,
             "#f0f921"
            ]
           ]
          },
          "colorway": [
           "#636efa",
           "#EF553B",
           "#00cc96",
           "#ab63fa",
           "#FFA15A",
           "#19d3f3",
           "#FF6692",
           "#B6E880",
           "#FF97FF",
           "#FECB52"
          ],
          "font": {
           "color": "#2a3f5f"
          },
          "geo": {
           "bgcolor": "white",
           "lakecolor": "white",
           "landcolor": "#E5ECF6",
           "showlakes": true,
           "showland": true,
           "subunitcolor": "white"
          },
          "hoverlabel": {
           "align": "left"
          },
          "hovermode": "closest",
          "mapbox": {
           "style": "light"
          },
          "paper_bgcolor": "white",
          "plot_bgcolor": "#E5ECF6",
          "polar": {
           "angularaxis": {
            "gridcolor": "white",
            "linecolor": "white",
            "ticks": ""
           },
           "bgcolor": "#E5ECF6",
           "radialaxis": {
            "gridcolor": "white",
            "linecolor": "white",
            "ticks": ""
           }
          },
          "scene": {
           "xaxis": {
            "backgroundcolor": "#E5ECF6",
            "gridcolor": "white",
            "gridwidth": 2,
            "linecolor": "white",
            "showbackground": true,
            "ticks": "",
            "zerolinecolor": "white"
           },
           "yaxis": {
            "backgroundcolor": "#E5ECF6",
            "gridcolor": "white",
            "gridwidth": 2,
            "linecolor": "white",
            "showbackground": true,
            "ticks": "",
            "zerolinecolor": "white"
           },
           "zaxis": {
            "backgroundcolor": "#E5ECF6",
            "gridcolor": "white",
            "gridwidth": 2,
            "linecolor": "white",
            "showbackground": true,
            "ticks": "",
            "zerolinecolor": "white"
           }
          },
          "shapedefaults": {
           "line": {
            "color": "#2a3f5f"
           }
          },
          "ternary": {
           "aaxis": {
            "gridcolor": "white",
            "linecolor": "white",
            "ticks": ""
           },
           "baxis": {
            "gridcolor": "white",
            "linecolor": "white",
            "ticks": ""
           },
           "bgcolor": "#E5ECF6",
           "caxis": {
            "gridcolor": "white",
            "linecolor": "white",
            "ticks": ""
           }
          },
          "title": {
           "x": 0.05
          },
          "xaxis": {
           "automargin": true,
           "gridcolor": "white",
           "linecolor": "white",
           "ticks": "",
           "title": {
            "standoff": 15
           },
           "zerolinecolor": "white",
           "zerolinewidth": 2
          },
          "yaxis": {
           "automargin": true,
           "gridcolor": "white",
           "linecolor": "white",
           "ticks": "",
           "title": {
            "standoff": 15
           },
           "zerolinecolor": "white",
           "zerolinewidth": 2
          }
         }
        },
        "title": {
         "text": "Penderita setiap tahun"
        },
        "xaxis": {
         "anchor": "y",
         "domain": [
          0,
          1
         ],
         "title": {
          "text": "tahun"
         }
        },
        "yaxis": {
         "anchor": "x",
         "domain": [
          0,
          1
         ],
         "title": {
          "text": "jumlah_penderita_dm"
         }
        }
       }
      },
      "text/html": [
       "<div>            <script src=\"https://cdnjs.cloudflare.com/ajax/libs/mathjax/2.7.5/MathJax.js?config=TeX-AMS-MML_SVG\"></script><script type=\"text/javascript\">if (window.MathJax && window.MathJax.Hub && window.MathJax.Hub.Config) {window.MathJax.Hub.Config({SVG: {font: \"STIX-Web\"}});}</script>                <script type=\"text/javascript\">window.PlotlyConfig = {MathJaxConfig: 'local'};</script>\n",
       "        <script charset=\"utf-8\" src=\"https://cdn.plot.ly/plotly-3.0.1.min.js\"></script>                <div id=\"bf15e773-3c84-4882-b048-c1afa38c6bf2\" class=\"plotly-graph-div\" style=\"height:500px; width:100%;\"></div>            <script type=\"text/javascript\">                window.PLOTLYENV=window.PLOTLYENV || {};                                if (document.getElementById(\"bf15e773-3c84-4882-b048-c1afa38c6bf2\")) {                    Plotly.newPlot(                        \"bf15e773-3c84-4882-b048-c1afa38c6bf2\",                        [{\"hovertemplate\":\"tahun=%{x}\\u003cbr\\u003ejumlah_penderita_dm=%{marker.color}\\u003cextra\\u003e\\u003c\\u002fextra\\u003e\",\"legendgroup\":\"\",\"marker\":{\"color\":{\"dtype\":\"i4\",\"bdata\":\"R\\u002fIMAEl2EADrHw4AYNYJAA7ZCQA=\"},\"coloraxis\":\"coloraxis\",\"pattern\":{\"shape\":\"\"}},\"name\":\"\",\"orientation\":\"v\",\"showlegend\":false,\"textposition\":\"auto\",\"x\":{\"dtype\":\"i2\",\"bdata\":\"4wfkB+UH5gfnBw==\"},\"xaxis\":\"x\",\"y\":{\"dtype\":\"i4\",\"bdata\":\"R\\u002fIMAEl2EADrHw4AYNYJAA7ZCQA=\"},\"yaxis\":\"y\",\"type\":\"bar\"}],                        {\"template\":{\"data\":{\"histogram2dcontour\":[{\"type\":\"histogram2dcontour\",\"colorbar\":{\"outlinewidth\":0,\"ticks\":\"\"},\"colorscale\":[[0.0,\"#0d0887\"],[0.1111111111111111,\"#46039f\"],[0.2222222222222222,\"#7201a8\"],[0.3333333333333333,\"#9c179e\"],[0.4444444444444444,\"#bd3786\"],[0.5555555555555556,\"#d8576b\"],[0.6666666666666666,\"#ed7953\"],[0.7777777777777778,\"#fb9f3a\"],[0.8888888888888888,\"#fdca26\"],[1.0,\"#f0f921\"]]}],\"choropleth\":[{\"type\":\"choropleth\",\"colorbar\":{\"outlinewidth\":0,\"ticks\":\"\"}}],\"histogram2d\":[{\"type\":\"histogram2d\",\"colorbar\":{\"outlinewidth\":0,\"ticks\":\"\"},\"colorscale\":[[0.0,\"#0d0887\"],[0.1111111111111111,\"#46039f\"],[0.2222222222222222,\"#7201a8\"],[0.3333333333333333,\"#9c179e\"],[0.4444444444444444,\"#bd3786\"],[0.5555555555555556,\"#d8576b\"],[0.6666666666666666,\"#ed7953\"],[0.7777777777777778,\"#fb9f3a\"],[0.8888888888888888,\"#fdca26\"],[1.0,\"#f0f921\"]]}],\"heatmap\":[{\"type\":\"heatmap\",\"colorbar\":{\"outlinewidth\":0,\"ticks\":\"\"},\"colorscale\":[[0.0,\"#0d0887\"],[0.1111111111111111,\"#46039f\"],[0.2222222222222222,\"#7201a8\"],[0.3333333333333333,\"#9c179e\"],[0.4444444444444444,\"#bd3786\"],[0.5555555555555556,\"#d8576b\"],[0.6666666666666666,\"#ed7953\"],[0.7777777777777778,\"#fb9f3a\"],[0.8888888888888888,\"#fdca26\"],[1.0,\"#f0f921\"]]}],\"contourcarpet\":[{\"type\":\"contourcarpet\",\"colorbar\":{\"outlinewidth\":0,\"ticks\":\"\"}}],\"contour\":[{\"type\":\"contour\",\"colorbar\":{\"outlinewidth\":0,\"ticks\":\"\"},\"colorscale\":[[0.0,\"#0d0887\"],[0.1111111111111111,\"#46039f\"],[0.2222222222222222,\"#7201a8\"],[0.3333333333333333,\"#9c179e\"],[0.4444444444444444,\"#bd3786\"],[0.5555555555555556,\"#d8576b\"],[0.6666666666666666,\"#ed7953\"],[0.7777777777777778,\"#fb9f3a\"],[0.8888888888888888,\"#fdca26\"],[1.0,\"#f0f921\"]]}],\"surface\":[{\"type\":\"surface\",\"colorbar\":{\"outlinewidth\":0,\"ticks\":\"\"},\"colorscale\":[[0.0,\"#0d0887\"],[0.1111111111111111,\"#46039f\"],[0.2222222222222222,\"#7201a8\"],[0.3333333333333333,\"#9c179e\"],[0.4444444444444444,\"#bd3786\"],[0.5555555555555556,\"#d8576b\"],[0.6666666666666666,\"#ed7953\"],[0.7777777777777778,\"#fb9f3a\"],[0.8888888888888888,\"#fdca26\"],[1.0,\"#f0f921\"]]}],\"mesh3d\":[{\"type\":\"mesh3d\",\"colorbar\":{\"outlinewidth\":0,\"ticks\":\"\"}}],\"scatter\":[{\"fillpattern\":{\"fillmode\":\"overlay\",\"size\":10,\"solidity\":0.2},\"type\":\"scatter\"}],\"parcoords\":[{\"type\":\"parcoords\",\"line\":{\"colorbar\":{\"outlinewidth\":0,\"ticks\":\"\"}}}],\"scatterpolargl\":[{\"type\":\"scatterpolargl\",\"marker\":{\"colorbar\":{\"outlinewidth\":0,\"ticks\":\"\"}}}],\"bar\":[{\"error_x\":{\"color\":\"#2a3f5f\"},\"error_y\":{\"color\":\"#2a3f5f\"},\"marker\":{\"line\":{\"color\":\"#E5ECF6\",\"width\":0.5},\"pattern\":{\"fillmode\":\"overlay\",\"size\":10,\"solidity\":0.2}},\"type\":\"bar\"}],\"scattergeo\":[{\"type\":\"scattergeo\",\"marker\":{\"colorbar\":{\"outlinewidth\":0,\"ticks\":\"\"}}}],\"scatterpolar\":[{\"type\":\"scatterpolar\",\"marker\":{\"colorbar\":{\"outlinewidth\":0,\"ticks\":\"\"}}}],\"histogram\":[{\"marker\":{\"pattern\":{\"fillmode\":\"overlay\",\"size\":10,\"solidity\":0.2}},\"type\":\"histogram\"}],\"scattergl\":[{\"type\":\"scattergl\",\"marker\":{\"colorbar\":{\"outlinewidth\":0,\"ticks\":\"\"}}}],\"scatter3d\":[{\"type\":\"scatter3d\",\"line\":{\"colorbar\":{\"outlinewidth\":0,\"ticks\":\"\"}},\"marker\":{\"colorbar\":{\"outlinewidth\":0,\"ticks\":\"\"}}}],\"scattermap\":[{\"type\":\"scattermap\",\"marker\":{\"colorbar\":{\"outlinewidth\":0,\"ticks\":\"\"}}}],\"scattermapbox\":[{\"type\":\"scattermapbox\",\"marker\":{\"colorbar\":{\"outlinewidth\":0,\"ticks\":\"\"}}}],\"scatterternary\":[{\"type\":\"scatterternary\",\"marker\":{\"colorbar\":{\"outlinewidth\":0,\"ticks\":\"\"}}}],\"scattercarpet\":[{\"type\":\"scattercarpet\",\"marker\":{\"colorbar\":{\"outlinewidth\":0,\"ticks\":\"\"}}}],\"carpet\":[{\"aaxis\":{\"endlinecolor\":\"#2a3f5f\",\"gridcolor\":\"white\",\"linecolor\":\"white\",\"minorgridcolor\":\"white\",\"startlinecolor\":\"#2a3f5f\"},\"baxis\":{\"endlinecolor\":\"#2a3f5f\",\"gridcolor\":\"white\",\"linecolor\":\"white\",\"minorgridcolor\":\"white\",\"startlinecolor\":\"#2a3f5f\"},\"type\":\"carpet\"}],\"table\":[{\"cells\":{\"fill\":{\"color\":\"#EBF0F8\"},\"line\":{\"color\":\"white\"}},\"header\":{\"fill\":{\"color\":\"#C8D4E3\"},\"line\":{\"color\":\"white\"}},\"type\":\"table\"}],\"barpolar\":[{\"marker\":{\"line\":{\"color\":\"#E5ECF6\",\"width\":0.5},\"pattern\":{\"fillmode\":\"overlay\",\"size\":10,\"solidity\":0.2}},\"type\":\"barpolar\"}],\"pie\":[{\"automargin\":true,\"type\":\"pie\"}]},\"layout\":{\"autotypenumbers\":\"strict\",\"colorway\":[\"#636efa\",\"#EF553B\",\"#00cc96\",\"#ab63fa\",\"#FFA15A\",\"#19d3f3\",\"#FF6692\",\"#B6E880\",\"#FF97FF\",\"#FECB52\"],\"font\":{\"color\":\"#2a3f5f\"},\"hovermode\":\"closest\",\"hoverlabel\":{\"align\":\"left\"},\"paper_bgcolor\":\"white\",\"plot_bgcolor\":\"#E5ECF6\",\"polar\":{\"bgcolor\":\"#E5ECF6\",\"angularaxis\":{\"gridcolor\":\"white\",\"linecolor\":\"white\",\"ticks\":\"\"},\"radialaxis\":{\"gridcolor\":\"white\",\"linecolor\":\"white\",\"ticks\":\"\"}},\"ternary\":{\"bgcolor\":\"#E5ECF6\",\"aaxis\":{\"gridcolor\":\"white\",\"linecolor\":\"white\",\"ticks\":\"\"},\"baxis\":{\"gridcolor\":\"white\",\"linecolor\":\"white\",\"ticks\":\"\"},\"caxis\":{\"gridcolor\":\"white\",\"linecolor\":\"white\",\"ticks\":\"\"}},\"coloraxis\":{\"colorbar\":{\"outlinewidth\":0,\"ticks\":\"\"}},\"colorscale\":{\"sequential\":[[0.0,\"#0d0887\"],[0.1111111111111111,\"#46039f\"],[0.2222222222222222,\"#7201a8\"],[0.3333333333333333,\"#9c179e\"],[0.4444444444444444,\"#bd3786\"],[0.5555555555555556,\"#d8576b\"],[0.6666666666666666,\"#ed7953\"],[0.7777777777777778,\"#fb9f3a\"],[0.8888888888888888,\"#fdca26\"],[1.0,\"#f0f921\"]],\"sequentialminus\":[[0.0,\"#0d0887\"],[0.1111111111111111,\"#46039f\"],[0.2222222222222222,\"#7201a8\"],[0.3333333333333333,\"#9c179e\"],[0.4444444444444444,\"#bd3786\"],[0.5555555555555556,\"#d8576b\"],[0.6666666666666666,\"#ed7953\"],[0.7777777777777778,\"#fb9f3a\"],[0.8888888888888888,\"#fdca26\"],[1.0,\"#f0f921\"]],\"diverging\":[[0,\"#8e0152\"],[0.1,\"#c51b7d\"],[0.2,\"#de77ae\"],[0.3,\"#f1b6da\"],[0.4,\"#fde0ef\"],[0.5,\"#f7f7f7\"],[0.6,\"#e6f5d0\"],[0.7,\"#b8e186\"],[0.8,\"#7fbc41\"],[0.9,\"#4d9221\"],[1,\"#276419\"]]},\"xaxis\":{\"gridcolor\":\"white\",\"linecolor\":\"white\",\"ticks\":\"\",\"title\":{\"standoff\":15},\"zerolinecolor\":\"white\",\"automargin\":true,\"zerolinewidth\":2},\"yaxis\":{\"gridcolor\":\"white\",\"linecolor\":\"white\",\"ticks\":\"\",\"title\":{\"standoff\":15},\"zerolinecolor\":\"white\",\"automargin\":true,\"zerolinewidth\":2},\"scene\":{\"xaxis\":{\"backgroundcolor\":\"#E5ECF6\",\"gridcolor\":\"white\",\"linecolor\":\"white\",\"showbackground\":true,\"ticks\":\"\",\"zerolinecolor\":\"white\",\"gridwidth\":2},\"yaxis\":{\"backgroundcolor\":\"#E5ECF6\",\"gridcolor\":\"white\",\"linecolor\":\"white\",\"showbackground\":true,\"ticks\":\"\",\"zerolinecolor\":\"white\",\"gridwidth\":2},\"zaxis\":{\"backgroundcolor\":\"#E5ECF6\",\"gridcolor\":\"white\",\"linecolor\":\"white\",\"showbackground\":true,\"ticks\":\"\",\"zerolinecolor\":\"white\",\"gridwidth\":2}},\"shapedefaults\":{\"line\":{\"color\":\"#2a3f5f\"}},\"annotationdefaults\":{\"arrowcolor\":\"#2a3f5f\",\"arrowhead\":0,\"arrowwidth\":1},\"geo\":{\"bgcolor\":\"white\",\"landcolor\":\"#E5ECF6\",\"subunitcolor\":\"white\",\"showland\":true,\"showlakes\":true,\"lakecolor\":\"white\"},\"title\":{\"x\":0.05},\"mapbox\":{\"style\":\"light\"}}},\"xaxis\":{\"anchor\":\"y\",\"domain\":[0.0,1.0],\"title\":{\"text\":\"tahun\"}},\"yaxis\":{\"anchor\":\"x\",\"domain\":[0.0,1.0],\"title\":{\"text\":\"jumlah_penderita_dm\"}},\"coloraxis\":{\"colorbar\":{\"title\":{\"text\":\"jumlah_penderita_dm\"}},\"colorscale\":[[0.0,\"#0d0887\"],[0.1111111111111111,\"#46039f\"],[0.2222222222222222,\"#7201a8\"],[0.3333333333333333,\"#9c179e\"],[0.4444444444444444,\"#bd3786\"],[0.5555555555555556,\"#d8576b\"],[0.6666666666666666,\"#ed7953\"],[0.7777777777777778,\"#fb9f3a\"],[0.8888888888888888,\"#fdca26\"],[1.0,\"#f0f921\"]]},\"legend\":{\"tracegroupgap\":0},\"margin\":{\"t\":60},\"barmode\":\"relative\",\"height\":500,\"title\":{\"text\":\"Penderita setiap tahun\"}},                        {\"responsive\": true}                    ).then(function(){\n",
       "                            \n",
       "var gd = document.getElementById('bf15e773-3c84-4882-b048-c1afa38c6bf2');\n",
       "var x = new MutationObserver(function (mutations, observer) {{\n",
       "        var display = window.getComputedStyle(gd).display;\n",
       "        if (!display || display === 'none') {{\n",
       "            console.log([gd, 'removed!']);\n",
       "            Plotly.purge(gd);\n",
       "            observer.disconnect();\n",
       "        }}\n",
       "}});\n",
       "\n",
       "// Listen for the removal of the full notebook cells\n",
       "var notebookContainer = gd.closest('#notebook-container');\n",
       "if (notebookContainer) {{\n",
       "    x.observe(notebookContainer, {childList: true});\n",
       "}}\n",
       "\n",
       "// Listen for the clearing of the current output cell\n",
       "var outputEl = gd.closest('.output');\n",
       "if (outputEl) {{\n",
       "    x.observe(outputEl, {childList: true});\n",
       "}}\n",
       "\n",
       "                        })                };            </script>        </div>"
      ]
     },
     "metadata": {},
     "output_type": "display_data"
    }
   ],
   "source": [
    "\n",
    "\n",
    "fig = px.bar(jumalah_penderita_pertahun,y = \"jumlah_penderita_dm\",x = \"tahun\",color = \"jumlah_penderita_dm\",height=500)\n",
    "fig.update_layout(title=\"Penderita setiap tahun\")\n",
    "\n",
    "fig.show()"
   ]
  },
  {
   "cell_type": "code",
   "execution_count": 172,
   "id": "af0f1fbe",
   "metadata": {},
   "outputs": [
    {
     "data": {
      "application/vnd.microsoft.datawrangler.viewer.v0+json": {
       "columns": [
        {
         "name": "index",
         "rawType": "int64",
         "type": "integer"
        },
        {
         "name": "jumlah_penderita_dm",
         "rawType": "float64",
         "type": "float"
        }
       ],
       "ref": "4b099f1b-10e2-4174-990a-5520fed01dfc",
       "rows": [
        [
         "0",
         null
        ],
        [
         "1",
         "27.15547671944889"
        ],
        [
         "2",
         "-14.198545312307376"
        ],
        [
         "3",
         "-30.353093688389553"
        ],
        [
         "4",
         "0.10640542016180365"
        ]
       ],
       "shape": {
        "columns": 1,
        "rows": 5
       }
      },
      "text/plain": [
       "0          NaN\n",
       "1    27.155477\n",
       "2   -14.198545\n",
       "3   -30.353094\n",
       "4     0.106405\n",
       "Name: jumlah_penderita_dm, dtype: float64"
      ]
     },
     "execution_count": 172,
     "metadata": {},
     "output_type": "execute_result"
    }
   ],
   "source": [
    "jumalah_penderita_pertahun[\"jumlah_penderita_dm\"].pct_change()*100"
   ]
  },
  {
   "cell_type": "code",
   "execution_count": 173,
   "id": "53db5bea",
   "metadata": {},
   "outputs": [
    {
     "data": {
      "text/plain": [
       "Index(['nama_provinsi', 'kode_kabupaten_kota', 'nama_kabupaten_kota',\n",
       "       'jumlah_penderita_dm', 'tahun'],\n",
       "      dtype='object')"
      ]
     },
     "execution_count": 173,
     "metadata": {},
     "output_type": "execute_result"
    }
   ],
   "source": [
    "df.columns"
   ]
  },
  {
   "cell_type": "code",
   "execution_count": 174,
   "id": "c42fba2c",
   "metadata": {},
   "outputs": [],
   "source": [
    "kota_diabet = df.groupby([\"nama_kabupaten_kota\"],as_index=False)[\"jumlah_penderita_dm\"].sum()"
   ]
  },
  {
   "cell_type": "code",
   "execution_count": 175,
   "id": "a22f061d",
   "metadata": {},
   "outputs": [
    {
     "data": {
      "application/vnd.microsoft.datawrangler.viewer.v0+json": {
       "columns": [
        {
         "name": "index",
         "rawType": "int64",
         "type": "integer"
        },
        {
         "name": "nama_kabupaten_kota",
         "rawType": "object",
         "type": "string"
        },
        {
         "name": "jumlah_penderita_dm",
         "rawType": "int64",
         "type": "integer"
        }
       ],
       "ref": "f5412137-b684-4dff-94be-e01c6eec1316",
       "rows": [
        [
         "0",
         "KABUPATEN BANDUNG",
         "265716"
        ],
        [
         "1",
         "KABUPATEN BANDUNG BARAT",
         "69567"
        ],
        [
         "2",
         "KABUPATEN BEKASI",
         "448380"
        ],
        [
         "3",
         "KABUPATEN BOGOR",
         "319968"
        ],
        [
         "4",
         "KABUPATEN CIAMIS",
         "214918"
        ],
        [
         "5",
         "KABUPATEN CIANJUR",
         "70341"
        ],
        [
         "6",
         "KABUPATEN CIREBON",
         "104020"
        ],
        [
         "7",
         "KABUPATEN GARUT",
         "100391"
        ],
        [
         "8",
         "KABUPATEN INDRAMAYU",
         "131444"
        ],
        [
         "9",
         "KABUPATEN KARAWANG",
         "515661"
        ],
        [
         "10",
         "KABUPATEN KUNINGAN",
         "107304"
        ],
        [
         "11",
         "KABUPATEN MAJALENGKA",
         "65668"
        ],
        [
         "12",
         "KABUPATEN PANGANDARAN",
         "35291"
        ],
        [
         "13",
         "KABUPATEN PURWAKARTA",
         "63373"
        ],
        [
         "14",
         "KABUPATEN SUBANG",
         "118431"
        ],
        [
         "15",
         "KABUPATEN SUKABUMI",
         "255654"
        ],
        [
         "16",
         "KABUPATEN SUMEDANG",
         "188359"
        ],
        [
         "17",
         "KABUPATEN TASIKMALAYA",
         "92672"
        ],
        [
         "18",
         "KOTA BANDUNG",
         "218839"
        ],
        [
         "19",
         "KOTA BANJAR",
         "19249"
        ],
        [
         "20",
         "KOTA BEKASI",
         "228133"
        ],
        [
         "21",
         "KOTA BOGOR",
         "86024"
        ],
        [
         "22",
         "KOTA CIMAHI",
         "48882"
        ],
        [
         "23",
         "KOTA CIREBON",
         "69233"
        ],
        [
         "24",
         "KOTA DEPOK",
         "232569"
        ],
        [
         "25",
         "KOTA SUKABUMI",
         "31580"
        ],
        [
         "26",
         "KOTA TASIKMALAYA",
         "41414"
        ]
       ],
       "shape": {
        "columns": 2,
        "rows": 27
       }
      },
      "text/html": [
       "<div>\n",
       "<style scoped>\n",
       "    .dataframe tbody tr th:only-of-type {\n",
       "        vertical-align: middle;\n",
       "    }\n",
       "\n",
       "    .dataframe tbody tr th {\n",
       "        vertical-align: top;\n",
       "    }\n",
       "\n",
       "    .dataframe thead th {\n",
       "        text-align: right;\n",
       "    }\n",
       "</style>\n",
       "<table border=\"1\" class=\"dataframe\">\n",
       "  <thead>\n",
       "    <tr style=\"text-align: right;\">\n",
       "      <th></th>\n",
       "      <th>nama_kabupaten_kota</th>\n",
       "      <th>jumlah_penderita_dm</th>\n",
       "    </tr>\n",
       "  </thead>\n",
       "  <tbody>\n",
       "    <tr>\n",
       "      <th>0</th>\n",
       "      <td>KABUPATEN BANDUNG</td>\n",
       "      <td>265716</td>\n",
       "    </tr>\n",
       "    <tr>\n",
       "      <th>1</th>\n",
       "      <td>KABUPATEN BANDUNG BARAT</td>\n",
       "      <td>69567</td>\n",
       "    </tr>\n",
       "    <tr>\n",
       "      <th>2</th>\n",
       "      <td>KABUPATEN BEKASI</td>\n",
       "      <td>448380</td>\n",
       "    </tr>\n",
       "    <tr>\n",
       "      <th>3</th>\n",
       "      <td>KABUPATEN BOGOR</td>\n",
       "      <td>319968</td>\n",
       "    </tr>\n",
       "    <tr>\n",
       "      <th>4</th>\n",
       "      <td>KABUPATEN CIAMIS</td>\n",
       "      <td>214918</td>\n",
       "    </tr>\n",
       "    <tr>\n",
       "      <th>5</th>\n",
       "      <td>KABUPATEN CIANJUR</td>\n",
       "      <td>70341</td>\n",
       "    </tr>\n",
       "    <tr>\n",
       "      <th>6</th>\n",
       "      <td>KABUPATEN CIREBON</td>\n",
       "      <td>104020</td>\n",
       "    </tr>\n",
       "    <tr>\n",
       "      <th>7</th>\n",
       "      <td>KABUPATEN GARUT</td>\n",
       "      <td>100391</td>\n",
       "    </tr>\n",
       "    <tr>\n",
       "      <th>8</th>\n",
       "      <td>KABUPATEN INDRAMAYU</td>\n",
       "      <td>131444</td>\n",
       "    </tr>\n",
       "    <tr>\n",
       "      <th>9</th>\n",
       "      <td>KABUPATEN KARAWANG</td>\n",
       "      <td>515661</td>\n",
       "    </tr>\n",
       "    <tr>\n",
       "      <th>10</th>\n",
       "      <td>KABUPATEN KUNINGAN</td>\n",
       "      <td>107304</td>\n",
       "    </tr>\n",
       "    <tr>\n",
       "      <th>11</th>\n",
       "      <td>KABUPATEN MAJALENGKA</td>\n",
       "      <td>65668</td>\n",
       "    </tr>\n",
       "    <tr>\n",
       "      <th>12</th>\n",
       "      <td>KABUPATEN PANGANDARAN</td>\n",
       "      <td>35291</td>\n",
       "    </tr>\n",
       "    <tr>\n",
       "      <th>13</th>\n",
       "      <td>KABUPATEN PURWAKARTA</td>\n",
       "      <td>63373</td>\n",
       "    </tr>\n",
       "    <tr>\n",
       "      <th>14</th>\n",
       "      <td>KABUPATEN SUBANG</td>\n",
       "      <td>118431</td>\n",
       "    </tr>\n",
       "    <tr>\n",
       "      <th>15</th>\n",
       "      <td>KABUPATEN SUKABUMI</td>\n",
       "      <td>255654</td>\n",
       "    </tr>\n",
       "    <tr>\n",
       "      <th>16</th>\n",
       "      <td>KABUPATEN SUMEDANG</td>\n",
       "      <td>188359</td>\n",
       "    </tr>\n",
       "    <tr>\n",
       "      <th>17</th>\n",
       "      <td>KABUPATEN TASIKMALAYA</td>\n",
       "      <td>92672</td>\n",
       "    </tr>\n",
       "    <tr>\n",
       "      <th>18</th>\n",
       "      <td>KOTA BANDUNG</td>\n",
       "      <td>218839</td>\n",
       "    </tr>\n",
       "    <tr>\n",
       "      <th>19</th>\n",
       "      <td>KOTA BANJAR</td>\n",
       "      <td>19249</td>\n",
       "    </tr>\n",
       "    <tr>\n",
       "      <th>20</th>\n",
       "      <td>KOTA BEKASI</td>\n",
       "      <td>228133</td>\n",
       "    </tr>\n",
       "    <tr>\n",
       "      <th>21</th>\n",
       "      <td>KOTA BOGOR</td>\n",
       "      <td>86024</td>\n",
       "    </tr>\n",
       "    <tr>\n",
       "      <th>22</th>\n",
       "      <td>KOTA CIMAHI</td>\n",
       "      <td>48882</td>\n",
       "    </tr>\n",
       "    <tr>\n",
       "      <th>23</th>\n",
       "      <td>KOTA CIREBON</td>\n",
       "      <td>69233</td>\n",
       "    </tr>\n",
       "    <tr>\n",
       "      <th>24</th>\n",
       "      <td>KOTA DEPOK</td>\n",
       "      <td>232569</td>\n",
       "    </tr>\n",
       "    <tr>\n",
       "      <th>25</th>\n",
       "      <td>KOTA SUKABUMI</td>\n",
       "      <td>31580</td>\n",
       "    </tr>\n",
       "    <tr>\n",
       "      <th>26</th>\n",
       "      <td>KOTA TASIKMALAYA</td>\n",
       "      <td>41414</td>\n",
       "    </tr>\n",
       "  </tbody>\n",
       "</table>\n",
       "</div>"
      ],
      "text/plain": [
       "        nama_kabupaten_kota  jumlah_penderita_dm\n",
       "0         KABUPATEN BANDUNG               265716\n",
       "1   KABUPATEN BANDUNG BARAT                69567\n",
       "2          KABUPATEN BEKASI               448380\n",
       "3           KABUPATEN BOGOR               319968\n",
       "4          KABUPATEN CIAMIS               214918\n",
       "5         KABUPATEN CIANJUR                70341\n",
       "6         KABUPATEN CIREBON               104020\n",
       "7           KABUPATEN GARUT               100391\n",
       "8       KABUPATEN INDRAMAYU               131444\n",
       "9        KABUPATEN KARAWANG               515661\n",
       "10       KABUPATEN KUNINGAN               107304\n",
       "11     KABUPATEN MAJALENGKA                65668\n",
       "12    KABUPATEN PANGANDARAN                35291\n",
       "13     KABUPATEN PURWAKARTA                63373\n",
       "14         KABUPATEN SUBANG               118431\n",
       "15       KABUPATEN SUKABUMI               255654\n",
       "16       KABUPATEN SUMEDANG               188359\n",
       "17    KABUPATEN TASIKMALAYA                92672\n",
       "18             KOTA BANDUNG               218839\n",
       "19              KOTA BANJAR                19249\n",
       "20              KOTA BEKASI               228133\n",
       "21               KOTA BOGOR                86024\n",
       "22              KOTA CIMAHI                48882\n",
       "23             KOTA CIREBON                69233\n",
       "24               KOTA DEPOK               232569\n",
       "25            KOTA SUKABUMI                31580\n",
       "26         KOTA TASIKMALAYA                41414"
      ]
     },
     "execution_count": 175,
     "metadata": {},
     "output_type": "execute_result"
    }
   ],
   "source": [
    "kota_diabet"
   ]
  },
  {
   "cell_type": "markdown",
   "id": "85f70416",
   "metadata": {},
   "source": [
    "# Total"
   ]
  },
  {
   "cell_type": "code",
   "execution_count": 176,
   "id": "464aca09",
   "metadata": {},
   "outputs": [],
   "source": [
    "total = kota_diabet.sort_values(by=\"jumlah_penderita_dm\", ascending= False)"
   ]
  },
  {
   "cell_type": "code",
   "execution_count": 177,
   "id": "44b60d05",
   "metadata": {},
   "outputs": [],
   "source": [
    "kota_diabet_tahun = df.groupby([\"nama_kabupaten_kota\",\"tahun\"],as_index=False)[\"jumlah_penderita_dm\"].sum()"
   ]
  },
  {
   "cell_type": "code",
   "execution_count": 178,
   "id": "568f3f80",
   "metadata": {},
   "outputs": [
    {
     "data": {
      "text/plain": [
       "array([2019, 2020, 2021, 2022, 2023], dtype=int64)"
      ]
     },
     "execution_count": 178,
     "metadata": {},
     "output_type": "execute_result"
    }
   ],
   "source": [
    "kota_diabet_tahun[\"tahun\"].unique()"
   ]
  },
  {
   "cell_type": "code",
   "execution_count": 179,
   "id": "01effd8a",
   "metadata": {},
   "outputs": [],
   "source": [
    "def year_finder(year):  \n",
    "    return kota_diabet_tahun[kota_diabet_tahun[\"tahun\"] == year].sort_values(by=\"jumlah_penderita_dm\",ascending=False).head(5)"
   ]
  },
  {
   "cell_type": "code",
   "execution_count": 180,
   "id": "b15c77ad",
   "metadata": {},
   "outputs": [
    {
     "data": {
      "application/vnd.microsoft.datawrangler.viewer.v0+json": {
       "columns": [
        {
         "name": "index",
         "rawType": "int64",
         "type": "integer"
        },
        {
         "name": "nama_kabupaten_kota",
         "rawType": "object",
         "type": "string"
        },
        {
         "name": "tahun",
         "rawType": "int64",
         "type": "integer"
        },
        {
         "name": "jumlah_penderita_dm",
         "rawType": "int64",
         "type": "integer"
        }
       ],
       "ref": "81a008c3-edb9-4463-8cdb-d82d410c707d",
       "rows": [
        [
         "43",
         "KABUPATEN KARAWANG",
         "2019",
         "149537"
        ],
        [
         "72",
         "KABUPATEN SUKABUMI",
         "2019",
         "148447"
        ],
        [
         "9",
         "KABUPATEN BEKASI",
         "2019",
         "89055"
        ],
        [
         "19",
         "KABUPATEN CIAMIS",
         "2019",
         "69113"
        ],
        [
         "14",
         "KABUPATEN BOGOR",
         "2019",
         "57769"
        ]
       ],
       "shape": {
        "columns": 3,
        "rows": 5
       }
      },
      "text/html": [
       "<div>\n",
       "<style scoped>\n",
       "    .dataframe tbody tr th:only-of-type {\n",
       "        vertical-align: middle;\n",
       "    }\n",
       "\n",
       "    .dataframe tbody tr th {\n",
       "        vertical-align: top;\n",
       "    }\n",
       "\n",
       "    .dataframe thead th {\n",
       "        text-align: right;\n",
       "    }\n",
       "</style>\n",
       "<table border=\"1\" class=\"dataframe\">\n",
       "  <thead>\n",
       "    <tr style=\"text-align: right;\">\n",
       "      <th></th>\n",
       "      <th>nama_kabupaten_kota</th>\n",
       "      <th>tahun</th>\n",
       "      <th>jumlah_penderita_dm</th>\n",
       "    </tr>\n",
       "  </thead>\n",
       "  <tbody>\n",
       "    <tr>\n",
       "      <th>43</th>\n",
       "      <td>KABUPATEN KARAWANG</td>\n",
       "      <td>2019</td>\n",
       "      <td>149537</td>\n",
       "    </tr>\n",
       "    <tr>\n",
       "      <th>72</th>\n",
       "      <td>KABUPATEN SUKABUMI</td>\n",
       "      <td>2019</td>\n",
       "      <td>148447</td>\n",
       "    </tr>\n",
       "    <tr>\n",
       "      <th>9</th>\n",
       "      <td>KABUPATEN BEKASI</td>\n",
       "      <td>2019</td>\n",
       "      <td>89055</td>\n",
       "    </tr>\n",
       "    <tr>\n",
       "      <th>19</th>\n",
       "      <td>KABUPATEN CIAMIS</td>\n",
       "      <td>2019</td>\n",
       "      <td>69113</td>\n",
       "    </tr>\n",
       "    <tr>\n",
       "      <th>14</th>\n",
       "      <td>KABUPATEN BOGOR</td>\n",
       "      <td>2019</td>\n",
       "      <td>57769</td>\n",
       "    </tr>\n",
       "  </tbody>\n",
       "</table>\n",
       "</div>"
      ],
      "text/plain": [
       "   nama_kabupaten_kota  tahun  jumlah_penderita_dm\n",
       "43  KABUPATEN KARAWANG   2019               149537\n",
       "72  KABUPATEN SUKABUMI   2019               148447\n",
       "9     KABUPATEN BEKASI   2019                89055\n",
       "19    KABUPATEN CIAMIS   2019                69113\n",
       "14     KABUPATEN BOGOR   2019                57769"
      ]
     },
     "execution_count": 180,
     "metadata": {},
     "output_type": "execute_result"
    }
   ],
   "source": [
    "year_finder(2019)"
   ]
  },
  {
   "cell_type": "code",
   "execution_count": 181,
   "id": "de2f3892",
   "metadata": {},
   "outputs": [],
   "source": [
    "\n",
    "\n",
    "def auto_year_bar(x):\n",
    "    plt.bar(x[\"nama_kabupaten_kota\"],x[\"jumlah_penderita_dm\"])\n",
    "    plt.xticks(rotation = 90)"
   ]
  },
  {
   "cell_type": "code",
   "execution_count": 182,
   "id": "d2e97714",
   "metadata": {},
   "outputs": [
    {
     "data": {
      "image/png": "[encoded data removed]",
      "text/plain": [
       "<Figure size 1500x1500 with 5 Axes>"
      ]
     },
     "metadata": {},
     "output_type": "display_data"
    }
   ],
   "source": [
    "years = [2019, 2020, 2021, 2022, 2023]\n",
    "plt.figure(figsize=(15,15))\n",
    "for i,y in enumerate(years,1):\n",
    "    \n",
    "    plt.subplot(3,2,i)\n",
    "    plt.bar(year_finder(y)[\"nama_kabupaten_kota\"],year_finder(y)[\"jumlah_penderita_dm\"])\n",
    "    plt.title(y)\n",
    "    plt.tight_layout(pad=1.0)\n",
    "    plt.xticks(rotation = 90)\n",
    "    \n"
   ]
  },
  {
   "cell_type": "code",
   "execution_count": 183,
   "id": "33508a75",
   "metadata": {},
   "outputs": [],
   "source": [
    "def year_finder2(year):  \n",
    "    return kota_diabet_tahun[kota_diabet_tahun[\"tahun\"] == year].sort_values(by=\"jumlah_penderita_dm\").head(5)"
   ]
  },
  {
   "cell_type": "code",
   "execution_count": 184,
   "id": "6b826e1d",
   "metadata": {},
   "outputs": [
    {
     "data": {
      "application/vnd.microsoft.datawrangler.viewer.v0+json": {
       "columns": [
        {
         "name": "index",
         "rawType": "int64",
         "type": "integer"
        },
        {
         "name": "nama_kabupaten_kota",
         "rawType": "object",
         "type": "string"
        },
        {
         "name": "tahun",
         "rawType": "int64",
         "type": "integer"
        },
        {
         "name": "jumlah_penderita_dm",
         "rawType": "int64",
         "type": "integer"
        }
       ],
       "ref": "8c7c53e9-6087-4189-bc74-ed42043e3499",
       "rows": [
        [
         "91",
         "KOTA BANJAR",
         "2019",
         "1946"
        ],
        [
         "38",
         "KABUPATEN INDRAMAYU",
         "2019",
         "5504"
        ],
        [
         "106",
         "KOTA CIMAHI",
         "2019",
         "9571"
        ],
        [
         "81",
         "KABUPATEN TASIKMALAYA",
         "2019",
         "10930"
        ],
        [
         "62",
         "KABUPATEN PURWAKARTA",
         "2019",
         "11783"
        ],
        [
         "24",
         "KABUPATEN CIANJUR",
         "2019",
         "12100"
        ],
        [
         "101",
         "KOTA BOGOR",
         "2019",
         "12273"
        ],
        [
         "53",
         "KABUPATEN MAJALENGKA",
         "2019",
         "12915"
        ],
        [
         "67",
         "KABUPATEN SUBANG",
         "2019",
         "21691"
        ],
        [
         "29",
         "KABUPATEN CIREBON",
         "2019",
         "21981"
        ],
        [
         "48",
         "KABUPATEN KUNINGAN",
         "2019",
         "31582"
        ],
        [
         "96",
         "KOTA BEKASI",
         "2019",
         "42517"
        ],
        [
         "0",
         "KABUPATEN BANDUNG",
         "2019",
         "45412"
        ],
        [
         "86",
         "KOTA BANDUNG",
         "2019",
         "45430"
        ],
        [
         "115",
         "KOTA DEPOK",
         "2019",
         "48899"
        ],
        [
         "14",
         "KABUPATEN BOGOR",
         "2019",
         "57769"
        ],
        [
         "19",
         "KABUPATEN CIAMIS",
         "2019",
         "69113"
        ],
        [
         "9",
         "KABUPATEN BEKASI",
         "2019",
         "89055"
        ],
        [
         "72",
         "KABUPATEN SUKABUMI",
         "2019",
         "148447"
        ],
        [
         "43",
         "KABUPATEN KARAWANG",
         "2019",
         "149537"
        ]
       ],
       "shape": {
        "columns": 3,
        "rows": 20
       }
      },
      "text/html": [
       "<div>\n",
       "<style scoped>\n",
       "    .dataframe tbody tr th:only-of-type {\n",
       "        vertical-align: middle;\n",
       "    }\n",
       "\n",
       "    .dataframe tbody tr th {\n",
       "        vertical-align: top;\n",
       "    }\n",
       "\n",
       "    .dataframe thead th {\n",
       "        text-align: right;\n",
       "    }\n",
       "</style>\n",
       "<table border=\"1\" class=\"dataframe\">\n",
       "  <thead>\n",
       "    <tr style=\"text-align: right;\">\n",
       "      <th></th>\n",
       "      <th>nama_kabupaten_kota</th>\n",
       "      <th>tahun</th>\n",
       "      <th>jumlah_penderita_dm</th>\n",
       "    </tr>\n",
       "  </thead>\n",
       "  <tbody>\n",
       "    <tr>\n",
       "      <th>91</th>\n",
       "      <td>KOTA BANJAR</td>\n",
       "      <td>2019</td>\n",
       "      <td>1946</td>\n",
       "    </tr>\n",
       "    <tr>\n",
       "      <th>38</th>\n",
       "      <td>KABUPATEN INDRAMAYU</td>\n",
       "      <td>2019</td>\n",
       "      <td>5504</td>\n",
       "    </tr>\n",
       "    <tr>\n",
       "      <th>106</th>\n",
       "      <td>KOTA CIMAHI</td>\n",
       "      <td>2019</td>\n",
       "      <td>9571</td>\n",
       "    </tr>\n",
       "    <tr>\n",
       "      <th>81</th>\n",
       "      <td>KABUPATEN TASIKMALAYA</td>\n",
       "      <td>2019</td>\n",
       "      <td>10930</td>\n",
       "    </tr>\n",
       "    <tr>\n",
       "      <th>62</th>\n",
       "      <td>KABUPATEN PURWAKARTA</td>\n",
       "      <td>2019</td>\n",
       "      <td>11783</td>\n",
       "    </tr>\n",
       "    <tr>\n",
       "      <th>24</th>\n",
       "      <td>KABUPATEN CIANJUR</td>\n",
       "      <td>2019</td>\n",
       "      <td>12100</td>\n",
       "    </tr>\n",
       "    <tr>\n",
       "      <th>101</th>\n",
       "      <td>KOTA BOGOR</td>\n",
       "      <td>2019</td>\n",
       "      <td>12273</td>\n",
       "    </tr>\n",
       "    <tr>\n",
       "      <th>53</th>\n",
       "      <td>KABUPATEN MAJALENGKA</td>\n",
       "      <td>2019</td>\n",
       "      <td>12915</td>\n",
       "    </tr>\n",
       "    <tr>\n",
       "      <th>67</th>\n",
       "      <td>KABUPATEN SUBANG</td>\n",
       "      <td>2019</td>\n",
       "      <td>21691</td>\n",
       "    </tr>\n",
       "    <tr>\n",
       "      <th>29</th>\n",
       "      <td>KABUPATEN CIREBON</td>\n",
       "      <td>2019</td>\n",
       "      <td>21981</td>\n",
       "    </tr>\n",
       "    <tr>\n",
       "      <th>48</th>\n",
       "      <td>KABUPATEN KUNINGAN</td>\n",
       "      <td>2019</td>\n",
       "      <td>31582</td>\n",
       "    </tr>\n",
       "    <tr>\n",
       "      <th>96</th>\n",
       "      <td>KOTA BEKASI</td>\n",
       "      <td>2019</td>\n",
       "      <td>42517</td>\n",
       "    </tr>\n",
       "    <tr>\n",
       "      <th>0</th>\n",
       "      <td>KABUPATEN BANDUNG</td>\n",
       "      <td>2019</td>\n",
       "      <td>45412</td>\n",
       "    </tr>\n",
       "    <tr>\n",
       "      <th>86</th>\n",
       "      <td>KOTA BANDUNG</td>\n",
       "      <td>2019</td>\n",
       "      <td>45430</td>\n",
       "    </tr>\n",
       "    <tr>\n",
       "      <th>115</th>\n",
       "      <td>KOTA DEPOK</td>\n",
       "      <td>2019</td>\n",
       "      <td>48899</td>\n",
       "    </tr>\n",
       "    <tr>\n",
       "      <th>14</th>\n",
       "      <td>KABUPATEN BOGOR</td>\n",
       "      <td>2019</td>\n",
       "      <td>57769</td>\n",
       "    </tr>\n",
       "    <tr>\n",
       "      <th>19</th>\n",
       "      <td>KABUPATEN CIAMIS</td>\n",
       "      <td>2019</td>\n",
       "      <td>69113</td>\n",
       "    </tr>\n",
       "    <tr>\n",
       "      <th>9</th>\n",
       "      <td>KABUPATEN BEKASI</td>\n",
       "      <td>2019</td>\n",
       "      <td>89055</td>\n",
       "    </tr>\n",
       "    <tr>\n",
       "      <th>72</th>\n",
       "      <td>KABUPATEN SUKABUMI</td>\n",
       "      <td>2019</td>\n",
       "      <td>148447</td>\n",
       "    </tr>\n",
       "    <tr>\n",
       "      <th>43</th>\n",
       "      <td>KABUPATEN KARAWANG</td>\n",
       "      <td>2019</td>\n",
       "      <td>149537</td>\n",
       "    </tr>\n",
       "  </tbody>\n",
       "</table>\n",
       "</div>"
      ],
      "text/plain": [
       "       nama_kabupaten_kota  tahun  jumlah_penderita_dm\n",
       "91             KOTA BANJAR   2019                 1946\n",
       "38     KABUPATEN INDRAMAYU   2019                 5504\n",
       "106            KOTA CIMAHI   2019                 9571\n",
       "81   KABUPATEN TASIKMALAYA   2019                10930\n",
       "62    KABUPATEN PURWAKARTA   2019                11783\n",
       "24       KABUPATEN CIANJUR   2019                12100\n",
       "101             KOTA BOGOR   2019                12273\n",
       "53    KABUPATEN MAJALENGKA   2019                12915\n",
       "67        KABUPATEN SUBANG   2019                21691\n",
       "29       KABUPATEN CIREBON   2019                21981\n",
       "48      KABUPATEN KUNINGAN   2019                31582\n",
       "96             KOTA BEKASI   2019                42517\n",
       "0        KABUPATEN BANDUNG   2019                45412\n",
       "86            KOTA BANDUNG   2019                45430\n",
       "115             KOTA DEPOK   2019                48899\n",
       "14         KABUPATEN BOGOR   2019                57769\n",
       "19        KABUPATEN CIAMIS   2019                69113\n",
       "9         KABUPATEN BEKASI   2019                89055\n",
       "72      KABUPATEN SUKABUMI   2019               148447\n",
       "43      KABUPATEN KARAWANG   2019               149537"
      ]
     },
     "execution_count": 184,
     "metadata": {},
     "output_type": "execute_result"
    }
   ],
   "source": [
    "kota_diabet_tahun[kota_diabet_tahun[\"tahun\"] == 2019].sort_values(by=\"jumlah_penderita_dm\")"
   ]
  },
  {
   "cell_type": "code",
   "execution_count": 185,
   "id": "30d7078d",
   "metadata": {},
   "outputs": [],
   "source": [
    "kota_diabet_tahun.replace(0, np.nan, inplace=True)"
   ]
  },
  {
   "cell_type": "code",
   "execution_count": 186,
   "id": "39613abd",
   "metadata": {},
   "outputs": [],
   "source": [
    "kota_diabet_tahun.dropna(inplace=True)"
   ]
  },
  {
   "cell_type": "code",
   "execution_count": 187,
   "id": "055a467c",
   "metadata": {},
   "outputs": [
    {
     "data": {
      "image/png": "[encoded data removed]",
      "text/plain": [
       "<Figure size 1500x1000 with 5 Axes>"
      ]
     },
     "metadata": {},
     "output_type": "display_data"
    }
   ],
   "source": [
    "plt.figure(figsize=(15,10))\n",
    "for i,y in enumerate(years,1):\n",
    "    \n",
    "    plt.subplot(2,3,i)\n",
    "    plt.bar(year_finder2(y)[\"nama_kabupaten_kota\"],year_finder2(y)[\"jumlah_penderita_dm\"])\n",
    "    plt.title(y)\n",
    "    plt.tight_layout(pad=1.0)\n",
    "    plt.xticks(rotation = 90)"
   ]
  },
  {
   "cell_type": "code",
   "execution_count": 188,
   "id": "00bfdf0f",
   "metadata": {},
   "outputs": [
    {
     "data": {
      "application/vnd.microsoft.datawrangler.viewer.v0+json": {
       "columns": [
        {
         "name": "index",
         "rawType": "int64",
         "type": "integer"
        },
        {
         "name": "nama_kabupaten_kota",
         "rawType": "object",
         "type": "string"
        },
        {
         "name": "tahun",
         "rawType": "int64",
         "type": "integer"
        },
        {
         "name": "jumlah_penderita_dm",
         "rawType": "int64",
         "type": "integer"
        }
       ],
       "ref": "fa91b608-a8cd-40a2-a56e-3d35bfb0f95d",
       "rows": [
        [
         "91",
         "KOTA BANJAR",
         "2019",
         "1946"
        ],
        [
         "38",
         "KABUPATEN INDRAMAYU",
         "2019",
         "5504"
        ],
        [
         "106",
         "KOTA CIMAHI",
         "2019",
         "9571"
        ],
        [
         "81",
         "KABUPATEN TASIKMALAYA",
         "2019",
         "10930"
        ],
        [
         "62",
         "KABUPATEN PURWAKARTA",
         "2019",
         "11783"
        ]
       ],
       "shape": {
        "columns": 3,
        "rows": 5
       }
      },
      "text/html": [
       "<div>\n",
       "<style scoped>\n",
       "    .dataframe tbody tr th:only-of-type {\n",
       "        vertical-align: middle;\n",
       "    }\n",
       "\n",
       "    .dataframe tbody tr th {\n",
       "        vertical-align: top;\n",
       "    }\n",
       "\n",
       "    .dataframe thead th {\n",
       "        text-align: right;\n",
       "    }\n",
       "</style>\n",
       "<table border=\"1\" class=\"dataframe\">\n",
       "  <thead>\n",
       "    <tr style=\"text-align: right;\">\n",
       "      <th></th>\n",
       "      <th>nama_kabupaten_kota</th>\n",
       "      <th>tahun</th>\n",
       "      <th>jumlah_penderita_dm</th>\n",
       "    </tr>\n",
       "  </thead>\n",
       "  <tbody>\n",
       "    <tr>\n",
       "      <th>91</th>\n",
       "      <td>KOTA BANJAR</td>\n",
       "      <td>2019</td>\n",
       "      <td>1946</td>\n",
       "    </tr>\n",
       "    <tr>\n",
       "      <th>38</th>\n",
       "      <td>KABUPATEN INDRAMAYU</td>\n",
       "      <td>2019</td>\n",
       "      <td>5504</td>\n",
       "    </tr>\n",
       "    <tr>\n",
       "      <th>106</th>\n",
       "      <td>KOTA CIMAHI</td>\n",
       "      <td>2019</td>\n",
       "      <td>9571</td>\n",
       "    </tr>\n",
       "    <tr>\n",
       "      <th>81</th>\n",
       "      <td>KABUPATEN TASIKMALAYA</td>\n",
       "      <td>2019</td>\n",
       "      <td>10930</td>\n",
       "    </tr>\n",
       "    <tr>\n",
       "      <th>62</th>\n",
       "      <td>KABUPATEN PURWAKARTA</td>\n",
       "      <td>2019</td>\n",
       "      <td>11783</td>\n",
       "    </tr>\n",
       "  </tbody>\n",
       "</table>\n",
       "</div>"
      ],
      "text/plain": [
       "       nama_kabupaten_kota  tahun  jumlah_penderita_dm\n",
       "91             KOTA BANJAR   2019                 1946\n",
       "38     KABUPATEN INDRAMAYU   2019                 5504\n",
       "106            KOTA CIMAHI   2019                 9571\n",
       "81   KABUPATEN TASIKMALAYA   2019                10930\n",
       "62    KABUPATEN PURWAKARTA   2019                11783"
      ]
     },
     "execution_count": 188,
     "metadata": {},
     "output_type": "execute_result"
    }
   ],
   "source": [
    "year_finder2(2019)"
   ]
  },
  {
   "cell_type": "code",
   "execution_count": 219,
   "id": "63f96e30",
   "metadata": {},
   "outputs": [
    {
     "data": {
      "application/vnd.microsoft.datawrangler.viewer.v0+json": {
       "columns": [
        {
         "name": "index",
         "rawType": "int64",
         "type": "integer"
        },
        {
         "name": "nama_kabupaten_kota",
         "rawType": "object",
         "type": "string"
        },
        {
         "name": "tahun",
         "rawType": "int64",
         "type": "integer"
        },
        {
         "name": "jumlah_penderita_dm",
         "rawType": "int64",
         "type": "integer"
        }
       ],
       "ref": "e73d6609-b10a-4312-9766-7267c0cc5414",
       "rows": [
        [
         "0",
         "KABUPATEN BANDUNG",
         "2019",
         "45412"
        ],
        [
         "1",
         "KABUPATEN BANDUNG",
         "2020",
         "32847"
        ],
        [
         "2",
         "KABUPATEN BANDUNG",
         "2021",
         "82787"
        ],
        [
         "3",
         "KABUPATEN BANDUNG",
         "2022",
         "45465"
        ],
        [
         "4",
         "KABUPATEN BANDUNG",
         "2023",
         "59205"
        ],
        [
         "5",
         "KABUPATEN BANDUNG BARAT",
         "2020",
         "17009"
        ],
        [
         "6",
         "KABUPATEN BANDUNG BARAT",
         "2021",
         "17009"
        ],
        [
         "7",
         "KABUPATEN BANDUNG BARAT",
         "2022",
         "19675"
        ],
        [
         "8",
         "KABUPATEN BANDUNG BARAT",
         "2023",
         "15874"
        ],
        [
         "9",
         "KABUPATEN BEKASI",
         "2019",
         "89055"
        ],
        [
         "10",
         "KABUPATEN BEKASI",
         "2020",
         "242169"
        ],
        [
         "11",
         "KABUPATEN BEKASI",
         "2021",
         "37185"
        ],
        [
         "12",
         "KABUPATEN BEKASI",
         "2022",
         "39992"
        ],
        [
         "13",
         "KABUPATEN BEKASI",
         "2023",
         "39979"
        ],
        [
         "14",
         "KABUPATEN BOGOR",
         "2019",
         "57769"
        ],
        [
         "15",
         "KABUPATEN BOGOR",
         "2020",
         "71462"
        ],
        [
         "16",
         "KABUPATEN BOGOR",
         "2021",
         "61139"
        ],
        [
         "17",
         "KABUPATEN BOGOR",
         "2022",
         "63978"
        ],
        [
         "18",
         "KABUPATEN BOGOR",
         "2023",
         "65620"
        ],
        [
         "19",
         "KABUPATEN CIAMIS",
         "2019",
         "69113"
        ],
        [
         "20",
         "KABUPATEN CIAMIS",
         "2020",
         "79252"
        ],
        [
         "21",
         "KABUPATEN CIAMIS",
         "2021",
         "34730"
        ],
        [
         "22",
         "KABUPATEN CIAMIS",
         "2022",
         "16847"
        ],
        [
         "23",
         "KABUPATEN CIAMIS",
         "2023",
         "14976"
        ],
        [
         "24",
         "KABUPATEN CIANJUR",
         "2019",
         "12100"
        ],
        [
         "25",
         "KABUPATEN CIANJUR",
         "2020",
         "14208"
        ],
        [
         "26",
         "KABUPATEN CIANJUR",
         "2021",
         "14694"
        ],
        [
         "27",
         "KABUPATEN CIANJUR",
         "2022",
         "15941"
        ],
        [
         "28",
         "KABUPATEN CIANJUR",
         "2023",
         "13398"
        ],
        [
         "29",
         "KABUPATEN CIREBON",
         "2019",
         "21981"
        ],
        [
         "30",
         "KABUPATEN CIREBON",
         "2020",
         "22345"
        ],
        [
         "31",
         "KABUPATEN CIREBON",
         "2021",
         "22465"
        ],
        [
         "32",
         "KABUPATEN CIREBON",
         "2022",
         "23174"
        ],
        [
         "33",
         "KABUPATEN CIREBON",
         "2023",
         "14055"
        ],
        [
         "34",
         "KABUPATEN GARUT",
         "2020",
         "17732"
        ],
        [
         "35",
         "KABUPATEN GARUT",
         "2021",
         "43698"
        ],
        [
         "36",
         "KABUPATEN GARUT",
         "2022",
         "22594"
        ],
        [
         "37",
         "KABUPATEN GARUT",
         "2023",
         "16367"
        ],
        [
         "38",
         "KABUPATEN INDRAMAYU",
         "2019",
         "5504"
        ],
        [
         "39",
         "KABUPATEN INDRAMAYU",
         "2020",
         "30709"
        ],
        [
         "40",
         "KABUPATEN INDRAMAYU",
         "2021",
         "30136"
        ],
        [
         "41",
         "KABUPATEN INDRAMAYU",
         "2022",
         "33131"
        ],
        [
         "42",
         "KABUPATEN INDRAMAYU",
         "2023",
         "31964"
        ],
        [
         "43",
         "KABUPATEN KARAWANG",
         "2019",
         "149537"
        ],
        [
         "44",
         "KABUPATEN KARAWANG",
         "2020",
         "139392"
        ],
        [
         "45",
         "KABUPATEN KARAWANG",
         "2021",
         "153547"
        ],
        [
         "46",
         "KABUPATEN KARAWANG",
         "2022",
         "36259"
        ],
        [
         "47",
         "KABUPATEN KARAWANG",
         "2023",
         "36926"
        ],
        [
         "48",
         "KABUPATEN KUNINGAN",
         "2019",
         "31582"
        ],
        [
         "49",
         "KABUPATEN KUNINGAN",
         "2020",
         "17663"
        ]
       ],
       "shape": {
        "columns": 3,
        "rows": 128
       }
      },
      "text/html": [
       "<div>\n",
       "<style scoped>\n",
       "    .dataframe tbody tr th:only-of-type {\n",
       "        vertical-align: middle;\n",
       "    }\n",
       "\n",
       "    .dataframe tbody tr th {\n",
       "        vertical-align: top;\n",
       "    }\n",
       "\n",
       "    .dataframe thead th {\n",
       "        text-align: right;\n",
       "    }\n",
       "</style>\n",
       "<table border=\"1\" class=\"dataframe\">\n",
       "  <thead>\n",
       "    <tr style=\"text-align: right;\">\n",
       "      <th></th>\n",
       "      <th>nama_kabupaten_kota</th>\n",
       "      <th>tahun</th>\n",
       "      <th>jumlah_penderita_dm</th>\n",
       "    </tr>\n",
       "  </thead>\n",
       "  <tbody>\n",
       "    <tr>\n",
       "      <th>0</th>\n",
       "      <td>KABUPATEN BANDUNG</td>\n",
       "      <td>2019</td>\n",
       "      <td>45412</td>\n",
       "    </tr>\n",
       "    <tr>\n",
       "      <th>1</th>\n",
       "      <td>KABUPATEN BANDUNG</td>\n",
       "      <td>2020</td>\n",
       "      <td>32847</td>\n",
       "    </tr>\n",
       "    <tr>\n",
       "      <th>2</th>\n",
       "      <td>KABUPATEN BANDUNG</td>\n",
       "      <td>2021</td>\n",
       "      <td>82787</td>\n",
       "    </tr>\n",
       "    <tr>\n",
       "      <th>3</th>\n",
       "      <td>KABUPATEN BANDUNG</td>\n",
       "      <td>2022</td>\n",
       "      <td>45465</td>\n",
       "    </tr>\n",
       "    <tr>\n",
       "      <th>4</th>\n",
       "      <td>KABUPATEN BANDUNG</td>\n",
       "      <td>2023</td>\n",
       "      <td>59205</td>\n",
       "    </tr>\n",
       "    <tr>\n",
       "      <th>...</th>\n",
       "      <td>...</td>\n",
       "      <td>...</td>\n",
       "      <td>...</td>\n",
       "    </tr>\n",
       "    <tr>\n",
       "      <th>123</th>\n",
       "      <td>KOTA SUKABUMI</td>\n",
       "      <td>2023</td>\n",
       "      <td>4336</td>\n",
       "    </tr>\n",
       "    <tr>\n",
       "      <th>124</th>\n",
       "      <td>KOTA TASIKMALAYA</td>\n",
       "      <td>2020</td>\n",
       "      <td>8906</td>\n",
       "    </tr>\n",
       "    <tr>\n",
       "      <th>125</th>\n",
       "      <td>KOTA TASIKMALAYA</td>\n",
       "      <td>2021</td>\n",
       "      <td>9729</td>\n",
       "    </tr>\n",
       "    <tr>\n",
       "      <th>126</th>\n",
       "      <td>KOTA TASIKMALAYA</td>\n",
       "      <td>2022</td>\n",
       "      <td>10997</td>\n",
       "    </tr>\n",
       "    <tr>\n",
       "      <th>127</th>\n",
       "      <td>KOTA TASIKMALAYA</td>\n",
       "      <td>2023</td>\n",
       "      <td>11782</td>\n",
       "    </tr>\n",
       "  </tbody>\n",
       "</table>\n",
       "<p>128 rows × 3 columns</p>\n",
       "</div>"
      ],
      "text/plain": [
       "    nama_kabupaten_kota  tahun  jumlah_penderita_dm\n",
       "0     KABUPATEN BANDUNG   2019                45412\n",
       "1     KABUPATEN BANDUNG   2020                32847\n",
       "2     KABUPATEN BANDUNG   2021                82787\n",
       "3     KABUPATEN BANDUNG   2022                45465\n",
       "4     KABUPATEN BANDUNG   2023                59205\n",
       "..                  ...    ...                  ...\n",
       "123       KOTA SUKABUMI   2023                 4336\n",
       "124    KOTA TASIKMALAYA   2020                 8906\n",
       "125    KOTA TASIKMALAYA   2021                 9729\n",
       "126    KOTA TASIKMALAYA   2022                10997\n",
       "127    KOTA TASIKMALAYA   2023                11782\n",
       "\n",
       "[128 rows x 3 columns]"
      ]
     },
     "execution_count": 219,
     "metadata": {},
     "output_type": "execute_result"
    }
   ],
   "source": [
    "df.groupby([\"nama_kabupaten_kota\",\"tahun\"], as_index=False)[\"jumlah_penderita_dm\"].sum()"
   ]
  },
  {
   "cell_type": "code",
   "execution_count": 212,
   "id": "2e449c85",
   "metadata": {},
   "outputs": [
    {
     "data": {
      "application/vnd.microsoft.datawrangler.viewer.v0+json": {
       "columns": [
        {
         "name": "index",
         "rawType": "int64",
         "type": "integer"
        },
        {
         "name": "tahun",
         "rawType": "int64",
         "type": "integer"
        },
        {
         "name": "jumlah_penderita_dm",
         "rawType": "int64",
         "type": "integer"
        }
       ],
       "ref": "8788a4f2-500e-4084-a363-2307410f45a3",
       "rows": [
        [
         "0",
         "2019",
         "848455"
        ],
        [
         "1",
         "2020",
         "1078857"
        ],
        [
         "2",
         "2021",
         "925675"
        ],
        [
         "3",
         "2022",
         "644704"
        ],
        [
         "4",
         "2023",
         "645390"
        ]
       ],
       "shape": {
        "columns": 2,
        "rows": 5
       }
      },
      "text/html": [
       "<div>\n",
       "<style scoped>\n",
       "    .dataframe tbody tr th:only-of-type {\n",
       "        vertical-align: middle;\n",
       "    }\n",
       "\n",
       "    .dataframe tbody tr th {\n",
       "        vertical-align: top;\n",
       "    }\n",
       "\n",
       "    .dataframe thead th {\n",
       "        text-align: right;\n",
       "    }\n",
       "</style>\n",
       "<table border=\"1\" class=\"dataframe\">\n",
       "  <thead>\n",
       "    <tr style=\"text-align: right;\">\n",
       "      <th></th>\n",
       "      <th>tahun</th>\n",
       "      <th>jumlah_penderita_dm</th>\n",
       "    </tr>\n",
       "  </thead>\n",
       "  <tbody>\n",
       "    <tr>\n",
       "      <th>0</th>\n",
       "      <td>2019</td>\n",
       "      <td>848455</td>\n",
       "    </tr>\n",
       "    <tr>\n",
       "      <th>1</th>\n",
       "      <td>2020</td>\n",
       "      <td>1078857</td>\n",
       "    </tr>\n",
       "    <tr>\n",
       "      <th>2</th>\n",
       "      <td>2021</td>\n",
       "      <td>925675</td>\n",
       "    </tr>\n",
       "    <tr>\n",
       "      <th>3</th>\n",
       "      <td>2022</td>\n",
       "      <td>644704</td>\n",
       "    </tr>\n",
       "    <tr>\n",
       "      <th>4</th>\n",
       "      <td>2023</td>\n",
       "      <td>645390</td>\n",
       "    </tr>\n",
       "  </tbody>\n",
       "</table>\n",
       "</div>"
      ],
      "text/plain": [
       "   tahun  jumlah_penderita_dm\n",
       "0   2019               848455\n",
       "1   2020              1078857\n",
       "2   2021               925675\n",
       "3   2022               644704\n",
       "4   2023               645390"
      ]
     },
     "execution_count": 212,
     "metadata": {},
     "output_type": "execute_result"
    }
   ],
   "source": [
    "jumalah_penderita_pertahun"
   ]
  },
  {
   "cell_type": "code",
   "execution_count": 220,
   "id": "50bd3f6d",
   "metadata": {},
   "outputs": [
    {
     "data": {
      "text/plain": [
       "<matplotlib.collections.PathCollection at 0x191ac2cab50>"
      ]
     },
     "execution_count": 220,
     "metadata": {},
     "output_type": "execute_result"
    },
    {
     "data": {
      "image/png": "[encoded data removed]",
      "text/plain": [
       "<Figure size 640x480 with 1 Axes>"
      ]
     },
     "metadata": {},
     "output_type": "display_data"
    }
   ],
   "source": [
    "plt.scatter(jumalah_penderita_pertahun[\"tahun\"],jumalah_penderita_pertahun[\"jumlah_penderita_dm\"])"
   ]
  },
  {
   "cell_type": "code",
   "execution_count": 222,
   "id": "6a2ff9bf",
   "metadata": {},
   "outputs": [],
   "source": [
    "from sklearn.model_selection import train_test_split\n",
    "import sklearn.linear_model as lm\n",
    "import sklearn.model_selection as ms"
   ]
  },
  {
   "cell_type": "code",
   "execution_count": 226,
   "id": "62b7aa54",
   "metadata": {},
   "outputs": [],
   "source": [
    "model = lm.LinearRegression()"
   ]
  },
  {
   "cell_type": "code",
   "execution_count": 223,
   "id": "c4d18735",
   "metadata": {},
   "outputs": [],
   "source": [
    "x = jumalah_penderita_pertahun[[\"tahun\"]]\n",
    "y = jumalah_penderita_pertahun[[\"jumlah_penderita_dm\"]]"
   ]
  },
  {
   "cell_type": "code",
   "execution_count": 224,
   "id": "efc86e18",
   "metadata": {},
   "outputs": [],
   "source": [
    "X_train, X_test, y_train, y_test = ms.train_test_split(x, y, test_size=0.2, random_state=0)"
   ]
  },
  {
   "cell_type": "code",
   "execution_count": 227,
   "id": "0370bb4d",
   "metadata": {},
   "outputs": [
    {
     "data": {
      "text/html": [
       "<style>#sk-container-id-1 {\n",
       "  /* Definition of color scheme common for light and dark mode */\n",
       "  --sklearn-color-text: #000;\n",
       "  --sklearn-color-text-muted: #666;\n",
       "  --sklearn-color-line: gray;\n",
       "  /* Definition of color scheme for unfitted estimators */\n",
       "  --sklearn-color-unfitted-level-0: #fff5e6;\n",
       "  --sklearn-color-unfitted-level-1: #f6e4d2;\n",
       "  --sklearn-color-unfitted-level-2: #ffe0b3;\n",
       "  --sklearn-color-unfitted-level-3: chocolate;\n",
       "  /* Definition of color scheme for fitted estimators */\n",
       "  --sklearn-color-fitted-level-0: #f0f8ff;\n",
       "  --sklearn-color-fitted-level-1: #d4ebff;\n",
       "  --sklearn-color-fitted-level-2: #b3dbfd;\n",
       "  --sklearn-color-fitted-level-3: cornflowerblue;\n",
       "\n",
       "  /* Specific color for light theme */\n",
       "  --sklearn-color-text-on-default-background: var(--sg-text-color, var(--theme-code-foreground, var(--jp-content-font-color1, black)));\n",
       "  --sklearn-color-background: var(--sg-background-color, var(--theme-background, var(--jp-layout-color0, white)));\n",
       "  --sklearn-color-border-box: var(--sg-text-color, var(--theme-code-foreground, var(--jp-content-font-color1, black)));\n",
       "  --sklearn-color-icon: #696969;\n",
       "\n",
       "  @media (prefers-color-scheme: dark) {\n",
       "    /* Redefinition of color scheme for dark theme */\n",
       "    --sklearn-color-text-on-default-background: var(--sg-text-color, var(--theme-code-foreground, var(--jp-content-font-color1, white)));\n",
       "    --sklearn-color-background: var(--sg-background-color, var(--theme-background, var(--jp-layout-color0, #111)));\n",
       "    --sklearn-color-border-box: var(--sg-text-color, var(--theme-code-foreground, var(--jp-content-font-color1, white)));\n",
       "    --sklearn-color-icon: #878787;\n",
       "  }\n",
       "}\n",
       "\n",
       "#sk-container-id-1 {\n",
       "  color: var(--sklearn-color-text);\n",
       "}\n",
       "\n",
       "#sk-container-id-1 pre {\n",
       "  padding: 0;\n",
       "}\n",
       "\n",
       "#sk-container-id-1 input.sk-hidden--visually {\n",
       "  border: 0;\n",
       "  clip: rect(1px 1px 1px 1px);\n",
       "  clip: rect(1px, 1px, 1px, 1px);\n",
       "  height: 1px;\n",
       "  margin: -1px;\n",
       "  overflow: hidden;\n",
       "  padding: 0;\n",
       "  position: absolute;\n",
       "  width: 1px;\n",
       "}\n",
       "\n",
       "#sk-container-id-1 div.sk-dashed-wrapped {\n",
       "  border: 1px dashed var(--sklearn-color-line);\n",
       "  margin: 0 0.4em 0.5em 0.4em;\n",
       "  box-sizing: border-box;\n",
       "  padding-bottom: 0.4em;\n",
       "  background-color: var(--sklearn-color-background);\n",
       "}\n",
       "\n",
       "#sk-container-id-1 div.sk-container {\n",
       "  /* jupyter's `normalize.less` sets `[hidden] { display: none; }`\n",
       "     but bootstrap.min.css set `[hidden] { display: none !important; }`\n",
       "     so we also need the `!important` here to be able to override the\n",
       "     default hidden behavior on the sphinx rendered scikit-learn.org.\n",
       "     See: https://github.com/scikit-learn/scikit-learn/issues/21755 */\n",
       "  display: inline-block !important;\n",
       "  position: relative;\n",
       "}\n",
       "\n",
       "#sk-container-id-1 div.sk-text-repr-fallback {\n",
       "  display: none;\n",
       "}\n",
       "\n",
       "div.sk-parallel-item,\n",
       "div.sk-serial,\n",
       "div.sk-item {\n",
       "  /* draw centered vertical line to link estimators */\n",
       "  background-image: linear-gradient(var(--sklearn-color-text-on-default-background), var(--sklearn-color-text-on-default-background));\n",
       "  background-size: 2px 100%;\n",
       "  background-repeat: no-repeat;\n",
       "  background-position: center center;\n",
       "}\n",
       "\n",
       "/* Parallel-specific style estimator block */\n",
       "\n",
       "#sk-container-id-1 div.sk-parallel-item::after {\n",
       "  content: \"\";\n",
       "  width: 100%;\n",
       "  border-bottom: 2px solid var(--sklearn-color-text-on-default-background);\n",
       "  flex-grow: 1;\n",
       "}\n",
       "\n",
       "#sk-container-id-1 div.sk-parallel {\n",
       "  display: flex;\n",
       "  align-items: stretch;\n",
       "  justify-content: center;\n",
       "  background-color: var(--sklearn-color-background);\n",
       "  position: relative;\n",
       "}\n",
       "\n",
       "#sk-container-id-1 div.sk-parallel-item {\n",
       "  display: flex;\n",
       "  flex-direction: column;\n",
       "}\n",
       "\n",
       "#sk-container-id-1 div.sk-parallel-item:first-child::after {\n",
       "  align-self: flex-end;\n",
       "  width: 50%;\n",
       "}\n",
       "\n",
       "#sk-container-id-1 div.sk-parallel-item:last-child::after {\n",
       "  align-self: flex-start;\n",
       "  width: 50%;\n",
       "}\n",
       "\n",
       "#sk-container-id-1 div.sk-parallel-item:only-child::after {\n",
       "  width: 0;\n",
       "}\n",
       "\n",
       "/* Serial-specific style estimator block */\n",
       "\n",
       "#sk-container-id-1 div.sk-serial {\n",
       "  display: flex;\n",
       "  flex-direction: column;\n",
       "  align-items: center;\n",
       "  background-color: var(--sklearn-color-background);\n",
       "  padding-right: 1em;\n",
       "  padding-left: 1em;\n",
       "}\n",
       "\n",
       "\n",
       "/* Toggleable style: style used for estimator/Pipeline/ColumnTransformer box that is\n",
       "clickable and can be expanded/collapsed.\n",
       "- Pipeline and ColumnTransformer use this feature and define the default style\n",
       "- Estimators will overwrite some part of the style using the `sk-estimator` class\n",
       "*/\n",
       "\n",
       "/* Pipeline and ColumnTransformer style (default) */\n",
       "\n",
       "#sk-container-id-1 div.sk-toggleable {\n",
       "  /* Default theme specific background. It is overwritten whether we have a\n",
       "  specific estimator or a Pipeline/ColumnTransformer */\n",
       "  background-color: var(--sklearn-color-background);\n",
       "}\n",
       "\n",
       "/* Toggleable label */\n",
       "#sk-container-id-1 label.sk-toggleable__label {\n",
       "  cursor: pointer;\n",
       "  display: flex;\n",
       "  width: 100%;\n",
       "  margin-bottom: 0;\n",
       "  padding: 0.5em;\n",
       "  box-sizing: border-box;\n",
       "  text-align: center;\n",
       "  align-items: start;\n",
       "  justify-content: space-between;\n",
       "  gap: 0.5em;\n",
       "}\n",
       "\n",
       "#sk-container-id-1 label.sk-toggleable__label .caption {\n",
       "  font-size: 0.6rem;\n",
       "  font-weight: lighter;\n",
       "  color: var(--sklearn-color-text-muted);\n",
       "}\n",
       "\n",
       "#sk-container-id-1 label.sk-toggleable__label-arrow:before {\n",
       "  /* Arrow on the left of the label */\n",
       "  content: \"▸\";\n",
       "  float: left;\n",
       "  margin-right: 0.25em;\n",
       "  color: var(--sklearn-color-icon);\n",
       "}\n",
       "\n",
       "#sk-container-id-1 label.sk-toggleable__label-arrow:hover:before {\n",
       "  color: var(--sklearn-color-text);\n",
       "}\n",
       "\n",
       "/* Toggleable content - dropdown */\n",
       "\n",
       "#sk-container-id-1 div.sk-toggleable__content {\n",
       "  max-height: 0;\n",
       "  max-width: 0;\n",
       "  overflow: hidden;\n",
       "  text-align: left;\n",
       "  /* unfitted */\n",
       "  background-color: var(--sklearn-color-unfitted-level-0);\n",
       "}\n",
       "\n",
       "#sk-container-id-1 div.sk-toggleable__content.fitted {\n",
       "  /* fitted */\n",
       "  background-color: var(--sklearn-color-fitted-level-0);\n",
       "}\n",
       "\n",
       "#sk-container-id-1 div.sk-toggleable__content pre {\n",
       "  margin: 0.2em;\n",
       "  border-radius: 0.25em;\n",
       "  color: var(--sklearn-color-text);\n",
       "  /* unfitted */\n",
       "  background-color: var(--sklearn-color-unfitted-level-0);\n",
       "}\n",
       "\n",
       "#sk-container-id-1 div.sk-toggleable__content.fitted pre {\n",
       "  /* unfitted */\n",
       "  background-color: var(--sklearn-color-fitted-level-0);\n",
       "}\n",
       "\n",
       "#sk-container-id-1 input.sk-toggleable__control:checked~div.sk-toggleable__content {\n",
       "  /* Expand drop-down */\n",
       "  max-height: 200px;\n",
       "  max-width: 100%;\n",
       "  overflow: auto;\n",
       "}\n",
       "\n",
       "#sk-container-id-1 input.sk-toggleable__control:checked~label.sk-toggleable__label-arrow:before {\n",
       "  content: \"▾\";\n",
       "}\n",
       "\n",
       "/* Pipeline/ColumnTransformer-specific style */\n",
       "\n",
       "#sk-container-id-1 div.sk-label input.sk-toggleable__control:checked~label.sk-toggleable__label {\n",
       "  color: var(--sklearn-color-text);\n",
       "  background-color: var(--sklearn-color-unfitted-level-2);\n",
       "}\n",
       "\n",
       "#sk-container-id-1 div.sk-label.fitted input.sk-toggleable__control:checked~label.sk-toggleable__label {\n",
       "  background-color: var(--sklearn-color-fitted-level-2);\n",
       "}\n",
       "\n",
       "/* Estimator-specific style */\n",
       "\n",
       "/* Colorize estimator box */\n",
       "#sk-container-id-1 div.sk-estimator input.sk-toggleable__control:checked~label.sk-toggleable__label {\n",
       "  /* unfitted */\n",
       "  background-color: var(--sklearn-color-unfitted-level-2);\n",
       "}\n",
       "\n",
       "#sk-container-id-1 div.sk-estimator.fitted input.sk-toggleable__control:checked~label.sk-toggleable__label {\n",
       "  /* fitted */\n",
       "  background-color: var(--sklearn-color-fitted-level-2);\n",
       "}\n",
       "\n",
       "#sk-container-id-1 div.sk-label label.sk-toggleable__label,\n",
       "#sk-container-id-1 div.sk-label label {\n",
       "  /* The background is the default theme color */\n",
       "  color: var(--sklearn-color-text-on-default-background);\n",
       "}\n",
       "\n",
       "/* On hover, darken the color of the background */\n",
       "#sk-container-id-1 div.sk-label:hover label.sk-toggleable__label {\n",
       "  color: var(--sklearn-color-text);\n",
       "  background-color: var(--sklearn-color-unfitted-level-2);\n",
       "}\n",
       "\n",
       "/* Label box, darken color on hover, fitted */\n",
       "#sk-container-id-1 div.sk-label.fitted:hover label.sk-toggleable__label.fitted {\n",
       "  color: var(--sklearn-color-text);\n",
       "  background-color: var(--sklearn-color-fitted-level-2);\n",
       "}\n",
       "\n",
       "/* Estimator label */\n",
       "\n",
       "#sk-container-id-1 div.sk-label label {\n",
       "  font-family: monospace;\n",
       "  font-weight: bold;\n",
       "  display: inline-block;\n",
       "  line-height: 1.2em;\n",
       "}\n",
       "\n",
       "#sk-container-id-1 div.sk-label-container {\n",
       "  text-align: center;\n",
       "}\n",
       "\n",
       "/* Estimator-specific */\n",
       "#sk-container-id-1 div.sk-estimator {\n",
       "  font-family: monospace;\n",
       "  border: 1px dotted var(--sklearn-color-border-box);\n",
       "  border-radius: 0.25em;\n",
       "  box-sizing: border-box;\n",
       "  margin-bottom: 0.5em;\n",
       "  /* unfitted */\n",
       "  background-color: var(--sklearn-color-unfitted-level-0);\n",
       "}\n",
       "\n",
       "#sk-container-id-1 div.sk-estimator.fitted {\n",
       "  /* fitted */\n",
       "  background-color: var(--sklearn-color-fitted-level-0);\n",
       "}\n",
       "\n",
       "/* on hover */\n",
       "#sk-container-id-1 div.sk-estimator:hover {\n",
       "  /* unfitted */\n",
       "  background-color: var(--sklearn-color-unfitted-level-2);\n",
       "}\n",
       "\n",
       "#sk-container-id-1 div.sk-estimator.fitted:hover {\n",
       "  /* fitted */\n",
       "  background-color: var(--sklearn-color-fitted-level-2);\n",
       "}\n",
       "\n",
       "/* Specification for estimator info (e.g. \"i\" and \"?\") */\n",
       "\n",
       "/* Common style for \"i\" and \"?\" */\n",
       "\n",
       ".sk-estimator-doc-link,\n",
       "a:link.sk-estimator-doc-link,\n",
       "a:visited.sk-estimator-doc-link {\n",
       "  float: right;\n",
       "  font-size: smaller;\n",
       "  line-height: 1em;\n",
       "  font-family: monospace;\n",
       "  background-color: var(--sklearn-color-background);\n",
       "  border-radius: 1em;\n",
       "  height: 1em;\n",
       "  width: 1em;\n",
       "  text-decoration: none !important;\n",
       "  margin-left: 0.5em;\n",
       "  text-align: center;\n",
       "  /* unfitted */\n",
       "  border: var(--sklearn-color-unfitted-level-1) 1pt solid;\n",
       "  color: var(--sklearn-color-unfitted-level-1);\n",
       "}\n",
       "\n",
       ".sk-estimator-doc-link.fitted,\n",
       "a:link.sk-estimator-doc-link.fitted,\n",
       "a:visited.sk-estimator-doc-link.fitted {\n",
       "  /* fitted */\n",
       "  border: var(--sklearn-color-fitted-level-1) 1pt solid;\n",
       "  color: var(--sklearn-color-fitted-level-1);\n",
       "}\n",
       "\n",
       "/* On hover */\n",
       "div.sk-estimator:hover .sk-estimator-doc-link:hover,\n",
       ".sk-estimator-doc-link:hover,\n",
       "div.sk-label-container:hover .sk-estimator-doc-link:hover,\n",
       ".sk-estimator-doc-link:hover {\n",
       "  /* unfitted */\n",
       "  background-color: var(--sklearn-color-unfitted-level-3);\n",
       "  color: var(--sklearn-color-background);\n",
       "  text-decoration: none;\n",
       "}\n",
       "\n",
       "div.sk-estimator.fitted:hover .sk-estimator-doc-link.fitted:hover,\n",
       ".sk-estimator-doc-link.fitted:hover,\n",
       "div.sk-label-container:hover .sk-estimator-doc-link.fitted:hover,\n",
       ".sk-estimator-doc-link.fitted:hover {\n",
       "  /* fitted */\n",
       "  background-color: var(--sklearn-color-fitted-level-3);\n",
       "  color: var(--sklearn-color-background);\n",
       "  text-decoration: none;\n",
       "}\n",
       "\n",
       "/* Span, style for the box shown on hovering the info icon */\n",
       ".sk-estimator-doc-link span {\n",
       "  display: none;\n",
       "  z-index: 9999;\n",
       "  position: relative;\n",
       "  font-weight: normal;\n",
       "  right: .2ex;\n",
       "  padding: .5ex;\n",
       "  margin: .5ex;\n",
       "  width: min-content;\n",
       "  min-width: 20ex;\n",
       "  max-width: 50ex;\n",
       "  color: var(--sklearn-color-text);\n",
       "  box-shadow: 2pt 2pt 4pt #999;\n",
       "  /* unfitted */\n",
       "  background: var(--sklearn-color-unfitted-level-0);\n",
       "  border: .5pt solid var(--sklearn-color-unfitted-level-3);\n",
       "}\n",
       "\n",
       ".sk-estimator-doc-link.fitted span {\n",
       "  /* fitted */\n",
       "  background: var(--sklearn-color-fitted-level-0);\n",
       "  border: var(--sklearn-color-fitted-level-3);\n",
       "}\n",
       "\n",
       ".sk-estimator-doc-link:hover span {\n",
       "  display: block;\n",
       "}\n",
       "\n",
       "/* \"?\"-specific style due to the `<a>` HTML tag */\n",
       "\n",
       "#sk-container-id-1 a.estimator_doc_link {\n",
       "  float: right;\n",
       "  font-size: 1rem;\n",
       "  line-height: 1em;\n",
       "  font-family: monospace;\n",
       "  background-color: var(--sklearn-color-background);\n",
       "  border-radius: 1rem;\n",
       "  height: 1rem;\n",
       "  width: 1rem;\n",
       "  text-decoration: none;\n",
       "  /* unfitted */\n",
       "  color: var(--sklearn-color-unfitted-level-1);\n",
       "  border: var(--sklearn-color-unfitted-level-1) 1pt solid;\n",
       "}\n",
       "\n",
       "#sk-container-id-1 a.estimator_doc_link.fitted {\n",
       "  /* fitted */\n",
       "  border: var(--sklearn-color-fitted-level-1) 1pt solid;\n",
       "  color: var(--sklearn-color-fitted-level-1);\n",
       "}\n",
       "\n",
       "/* On hover */\n",
       "#sk-container-id-1 a.estimator_doc_link:hover {\n",
       "  /* unfitted */\n",
       "  background-color: var(--sklearn-color-unfitted-level-3);\n",
       "  color: var(--sklearn-color-background);\n",
       "  text-decoration: none;\n",
       "}\n",
       "\n",
       "#sk-container-id-1 a.estimator_doc_link.fitted:hover {\n",
       "  /* fitted */\n",
       "  background-color: var(--sklearn-color-fitted-level-3);\n",
       "}\n",
       "</style><div id=\"sk-container-id-1\" class=\"sk-top-container\"><div class=\"sk-text-repr-fallback\"><pre>LinearRegression()</pre><b>In a Jupyter environment, please rerun this cell to show the HTML representation or trust the notebook. <br />On GitHub, the HTML representation is unable to render, please try loading this page with nbviewer.org.</b></div><div class=\"sk-container\" hidden><div class=\"sk-item\"><div class=\"sk-estimator fitted sk-toggleable\"><input class=\"sk-toggleable__control sk-hidden--visually\" id=\"sk-estimator-id-1\" type=\"checkbox\" checked><label for=\"sk-estimator-id-1\" class=\"sk-toggleable__label fitted sk-toggleable__label-arrow\"><div><div>LinearRegression</div></div><div><a class=\"sk-estimator-doc-link fitted\" rel=\"noreferrer\" target=\"_blank\" href=\"https://scikit-learn.org/1.6/modules/generated/sklearn.linear_model.LinearRegression.html\">?<span>Documentation for LinearRegression</span></a><span class=\"sk-estimator-doc-link fitted\">i<span>Fitted</span></span></div></label><div class=\"sk-toggleable__content fitted\"><pre>LinearRegression()</pre></div> </div></div></div></div>"
      ],
      "text/plain": [
       "LinearRegression()"
      ]
     },
     "execution_count": 227,
     "metadata": {},
     "output_type": "execute_result"
    }
   ],
   "source": [
    "model.fit(X_train, y_train)"
   ]
  },
  {
   "cell_type": "code",
   "execution_count": 230,
   "id": "e3260f5f",
   "metadata": {},
   "outputs": [
    {
     "data": {
      "text/plain": [
       "array([[804351.5]])"
      ]
     },
     "execution_count": 230,
     "metadata": {},
     "output_type": "execute_result"
    }
   ],
   "source": [
    "model.predict(X_test)"
   ]
  }
 ],
 "metadata": {
  "kernelspec": {
   "display_name": "Python 3",
   "language": "python",
   "name": "python3"
  },
  "language_info": {
   "codemirror_mode": {
    "name": "ipython",
    "version": 3
   },
   "file_extension": ".py",
   "mimetype": "text/x-python",
   "name": "python",
   "nbconvert_exporter": "python",
   "pygments_lexer": "ipython3",
   "version": "3.11.9"
  }
 },
 "nbformat": 4,
 "nbformat_minor": 5
}
