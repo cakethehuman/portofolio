{
 "cells": [
  {
   "cell_type": "markdown",
   "id": "1123efa6",
   "metadata": {},
   "source": [
    "# Goals\n",
    "\n",
    "- Find the changes in diabetes year by year\n",
    "- which city have the most penderita\n",
    "- find the changes year by year\n",
    "- find the healtry ones\n",
    "- see the changes\n",
    "\n"
   ]
  },
  {
   "cell_type": "code",
   "execution_count": 332,
   "id": "30f64a4f",
   "metadata": {},
   "outputs": [],
   "source": [
    "import pandas as pd\n",
    "import numpy as np\n",
    "import matplotlib.pyplot as plt\n",
    "import seaborn as sns"
   ]
  },
  {
   "cell_type": "code",
   "execution_count": 333,
   "id": "5d5d640b",
   "metadata": {},
   "outputs": [],
   "source": [
    "df = pd.read_csv(r\"C:\\Users\\wilsen\\OneDrive\\Desktop\\important projects\\Diabetes\\dinkes-od_17448_jml_penderita_diabetes_melitus__kabupatenkota_v3_data.csv\")"
   ]
  },
  {
   "cell_type": "code",
   "execution_count": 334,
   "id": "fddcd803",
   "metadata": {},
   "outputs": [
    {
     "data": {
      "application/vnd.microsoft.datawrangler.viewer.v0+json": {
       "columns": [
        {
         "name": "index",
         "rawType": "int64",
         "type": "integer"
        },
        {
         "name": "id",
         "rawType": "int64",
         "type": "integer"
        },
        {
         "name": "kode_provinsi",
         "rawType": "int64",
         "type": "integer"
        },
        {
         "name": "nama_provinsi",
         "rawType": "object",
         "type": "string"
        },
        {
         "name": "kode_kabupaten_kota",
         "rawType": "int64",
         "type": "integer"
        },
        {
         "name": "nama_kabupaten_kota",
         "rawType": "object",
         "type": "string"
        },
        {
         "name": "jumlah_penderita_dm",
         "rawType": "int64",
         "type": "integer"
        },
        {
         "name": "satuan",
         "rawType": "object",
         "type": "string"
        },
        {
         "name": "tahun",
         "rawType": "int64",
         "type": "integer"
        }
       ],
       "ref": "9fcb2b1e-6336-4fb6-873b-37f188e6abc6",
       "rows": [
        [
         "0",
         "1",
         "32",
         "JAWA BARAT",
         "3201",
         "KABUPATEN BOGOR",
         "57769",
         "ORANG",
         "2019"
        ],
        [
         "1",
         "2",
         "32",
         "JAWA BARAT",
         "3202",
         "KABUPATEN SUKABUMI",
         "148447",
         "ORANG",
         "2019"
        ],
        [
         "2",
         "3",
         "32",
         "JAWA BARAT",
         "3203",
         "KABUPATEN CIANJUR",
         "12100",
         "ORANG",
         "2019"
        ],
        [
         "3",
         "4",
         "32",
         "JAWA BARAT",
         "3204",
         "KABUPATEN BANDUNG",
         "45412",
         "ORANG",
         "2019"
        ],
        [
         "4",
         "5",
         "32",
         "JAWA BARAT",
         "3205",
         "KABUPATEN GARUT",
         "0",
         "ORANG",
         "2019"
        ],
        [
         "5",
         "6",
         "32",
         "JAWA BARAT",
         "3206",
         "KABUPATEN TASIKMALAYA",
         "10930",
         "ORANG",
         "2019"
        ],
        [
         "6",
         "7",
         "32",
         "JAWA BARAT",
         "3207",
         "KABUPATEN CIAMIS",
         "69113",
         "ORANG",
         "2019"
        ],
        [
         "7",
         "8",
         "32",
         "JAWA BARAT",
         "3208",
         "KABUPATEN KUNINGAN",
         "31582",
         "ORANG",
         "2019"
        ],
        [
         "8",
         "9",
         "32",
         "JAWA BARAT",
         "3209",
         "KABUPATEN CIREBON",
         "21981",
         "ORANG",
         "2019"
        ],
        [
         "9",
         "10",
         "32",
         "JAWA BARAT",
         "3210",
         "KABUPATEN MAJALENGKA",
         "12915",
         "ORANG",
         "2019"
        ],
        [
         "10",
         "11",
         "32",
         "JAWA BARAT",
         "3211",
         "KABUPATEN SUMEDANG",
         "0",
         "ORANG",
         "2019"
        ],
        [
         "11",
         "12",
         "32",
         "JAWA BARAT",
         "3212",
         "KABUPATEN INDRAMAYU",
         "5504",
         "ORANG",
         "2019"
        ],
        [
         "12",
         "13",
         "32",
         "JAWA BARAT",
         "3213",
         "KABUPATEN SUBANG",
         "21691",
         "ORANG",
         "2019"
        ],
        [
         "13",
         "14",
         "32",
         "JAWA BARAT",
         "3214",
         "KABUPATEN PURWAKARTA",
         "11783",
         "ORANG",
         "2019"
        ],
        [
         "14",
         "15",
         "32",
         "JAWA BARAT",
         "3215",
         "KABUPATEN KARAWANG",
         "149537",
         "ORANG",
         "2019"
        ],
        [
         "15",
         "16",
         "32",
         "JAWA BARAT",
         "3216",
         "KABUPATEN BEKASI",
         "89055",
         "ORANG",
         "2019"
        ],
        [
         "16",
         "17",
         "32",
         "JAWA BARAT",
         "3217",
         "KABUPATEN BANDUNG BARAT",
         "0",
         "ORANG",
         "2019"
        ],
        [
         "17",
         "18",
         "32",
         "JAWA BARAT",
         "3218",
         "KABUPATEN PANGANDARAN",
         "0",
         "ORANG",
         "2019"
        ],
        [
         "18",
         "19",
         "32",
         "JAWA BARAT",
         "3271",
         "KOTA BOGOR",
         "12273",
         "ORANG",
         "2019"
        ],
        [
         "19",
         "20",
         "32",
         "JAWA BARAT",
         "3272",
         "KOTA SUKABUMI",
         "0",
         "ORANG",
         "2019"
        ],
        [
         "20",
         "21",
         "32",
         "JAWA BARAT",
         "3273",
         "KOTA BANDUNG",
         "45430",
         "ORANG",
         "2019"
        ],
        [
         "21",
         "22",
         "32",
         "JAWA BARAT",
         "3274",
         "KOTA CIREBON",
         "0",
         "ORANG",
         "2019"
        ],
        [
         "22",
         "23",
         "32",
         "JAWA BARAT",
         "3275",
         "KOTA BEKASI",
         "42517",
         "ORANG",
         "2019"
        ],
        [
         "23",
         "24",
         "32",
         "JAWA BARAT",
         "3276",
         "KOTA DEPOK",
         "48899",
         "ORANG",
         "2019"
        ],
        [
         "24",
         "25",
         "32",
         "JAWA BARAT",
         "3277",
         "KOTA CIMAHI",
         "9571",
         "ORANG",
         "2019"
        ],
        [
         "25",
         "26",
         "32",
         "JAWA BARAT",
         "3278",
         "KOTA TASIKMALAYA",
         "0",
         "ORANG",
         "2019"
        ],
        [
         "26",
         "27",
         "32",
         "JAWA BARAT",
         "3279",
         "KOTA BANJAR",
         "1946",
         "ORANG",
         "2019"
        ],
        [
         "27",
         "28",
         "32",
         "JAWA BARAT",
         "3201",
         "KABUPATEN BOGOR",
         "71462",
         "ORANG",
         "2020"
        ],
        [
         "28",
         "29",
         "32",
         "JAWA BARAT",
         "3202",
         "KABUPATEN SUKABUMI",
         "37523",
         "ORANG",
         "2020"
        ],
        [
         "29",
         "30",
         "32",
         "JAWA BARAT",
         "3203",
         "KABUPATEN CIANJUR",
         "14208",
         "ORANG",
         "2020"
        ],
        [
         "30",
         "31",
         "32",
         "JAWA BARAT",
         "3204",
         "KABUPATEN BANDUNG",
         "32847",
         "ORANG",
         "2020"
        ],
        [
         "31",
         "32",
         "32",
         "JAWA BARAT",
         "3205",
         "KABUPATEN GARUT",
         "17732",
         "ORANG",
         "2020"
        ],
        [
         "32",
         "33",
         "32",
         "JAWA BARAT",
         "3206",
         "KABUPATEN TASIKMALAYA",
         "15049",
         "ORANG",
         "2020"
        ],
        [
         "33",
         "34",
         "32",
         "JAWA BARAT",
         "3207",
         "KABUPATEN CIAMIS",
         "79252",
         "ORANG",
         "2020"
        ],
        [
         "34",
         "35",
         "32",
         "JAWA BARAT",
         "3208",
         "KABUPATEN KUNINGAN",
         "17663",
         "ORANG",
         "2020"
        ],
        [
         "35",
         "36",
         "32",
         "JAWA BARAT",
         "3209",
         "KABUPATEN CIREBON",
         "22345",
         "ORANG",
         "2020"
        ],
        [
         "36",
         "37",
         "32",
         "JAWA BARAT",
         "3210",
         "KABUPATEN MAJALENGKA",
         "13024",
         "ORANG",
         "2020"
        ],
        [
         "37",
         "38",
         "32",
         "JAWA BARAT",
         "3211",
         "KABUPATEN SUMEDANG",
         "79656",
         "ORANG",
         "2020"
        ],
        [
         "38",
         "39",
         "32",
         "JAWA BARAT",
         "3212",
         "KABUPATEN INDRAMAYU",
         "30709",
         "ORANG",
         "2020"
        ],
        [
         "39",
         "40",
         "32",
         "JAWA BARAT",
         "3213",
         "KABUPATEN SUBANG",
         "16830",
         "ORANG",
         "2020"
        ],
        [
         "40",
         "41",
         "32",
         "JAWA BARAT",
         "3214",
         "KABUPATEN PURWAKARTA",
         "12405",
         "ORANG",
         "2020"
        ],
        [
         "41",
         "42",
         "32",
         "JAWA BARAT",
         "3215",
         "KABUPATEN KARAWANG",
         "139392",
         "ORANG",
         "2020"
        ],
        [
         "42",
         "43",
         "32",
         "JAWA BARAT",
         "3216",
         "KABUPATEN BEKASI",
         "242169",
         "ORANG",
         "2020"
        ],
        [
         "43",
         "44",
         "32",
         "JAWA BARAT",
         "3217",
         "KABUPATEN BANDUNG BARAT",
         "17009",
         "ORANG",
         "2020"
        ],
        [
         "44",
         "45",
         "32",
         "JAWA BARAT",
         "3218",
         "KABUPATEN PANGANDARAN",
         "16376",
         "ORANG",
         "2020"
        ],
        [
         "45",
         "46",
         "32",
         "JAWA BARAT",
         "3271",
         "KOTA BOGOR",
         "19694",
         "ORANG",
         "2020"
        ],
        [
         "46",
         "47",
         "32",
         "JAWA BARAT",
         "3272",
         "KOTA SUKABUMI",
         "2465",
         "ORANG",
         "2020"
        ],
        [
         "47",
         "48",
         "32",
         "JAWA BARAT",
         "3273",
         "KOTA BANDUNG",
         "43906",
         "ORANG",
         "2020"
        ],
        [
         "48",
         "49",
         "32",
         "JAWA BARAT",
         "3274",
         "KOTA CIREBON",
         "20834",
         "ORANG",
         "2020"
        ],
        [
         "49",
         "50",
         "32",
         "JAWA BARAT",
         "3275",
         "KOTA BEKASI",
         "44714",
         "ORANG",
         "2020"
        ]
       ],
       "shape": {
        "columns": 8,
        "rows": 162
       }
      },
      "text/html": [
       "<div>\n",
       "<style scoped>\n",
       "    .dataframe tbody tr th:only-of-type {\n",
       "        vertical-align: middle;\n",
       "    }\n",
       "\n",
       "    .dataframe tbody tr th {\n",
       "        vertical-align: top;\n",
       "    }\n",
       "\n",
       "    .dataframe thead th {\n",
       "        text-align: right;\n",
       "    }\n",
       "</style>\n",
       "<table border=\"1\" class=\"dataframe\">\n",
       "  <thead>\n",
       "    <tr style=\"text-align: right;\">\n",
       "      <th></th>\n",
       "      <th>id</th>\n",
       "      <th>kode_provinsi</th>\n",
       "      <th>nama_provinsi</th>\n",
       "      <th>kode_kabupaten_kota</th>\n",
       "      <th>nama_kabupaten_kota</th>\n",
       "      <th>jumlah_penderita_dm</th>\n",
       "      <th>satuan</th>\n",
       "      <th>tahun</th>\n",
       "    </tr>\n",
       "  </thead>\n",
       "  <tbody>\n",
       "    <tr>\n",
       "      <th>0</th>\n",
       "      <td>1</td>\n",
       "      <td>32</td>\n",
       "      <td>JAWA BARAT</td>\n",
       "      <td>3201</td>\n",
       "      <td>KABUPATEN BOGOR</td>\n",
       "      <td>57769</td>\n",
       "      <td>ORANG</td>\n",
       "      <td>2019</td>\n",
       "    </tr>\n",
       "    <tr>\n",
       "      <th>1</th>\n",
       "      <td>2</td>\n",
       "      <td>32</td>\n",
       "      <td>JAWA BARAT</td>\n",
       "      <td>3202</td>\n",
       "      <td>KABUPATEN SUKABUMI</td>\n",
       "      <td>148447</td>\n",
       "      <td>ORANG</td>\n",
       "      <td>2019</td>\n",
       "    </tr>\n",
       "    <tr>\n",
       "      <th>2</th>\n",
       "      <td>3</td>\n",
       "      <td>32</td>\n",
       "      <td>JAWA BARAT</td>\n",
       "      <td>3203</td>\n",
       "      <td>KABUPATEN CIANJUR</td>\n",
       "      <td>12100</td>\n",
       "      <td>ORANG</td>\n",
       "      <td>2019</td>\n",
       "    </tr>\n",
       "    <tr>\n",
       "      <th>3</th>\n",
       "      <td>4</td>\n",
       "      <td>32</td>\n",
       "      <td>JAWA BARAT</td>\n",
       "      <td>3204</td>\n",
       "      <td>KABUPATEN BANDUNG</td>\n",
       "      <td>45412</td>\n",
       "      <td>ORANG</td>\n",
       "      <td>2019</td>\n",
       "    </tr>\n",
       "    <tr>\n",
       "      <th>4</th>\n",
       "      <td>5</td>\n",
       "      <td>32</td>\n",
       "      <td>JAWA BARAT</td>\n",
       "      <td>3205</td>\n",
       "      <td>KABUPATEN GARUT</td>\n",
       "      <td>0</td>\n",
       "      <td>ORANG</td>\n",
       "      <td>2019</td>\n",
       "    </tr>\n",
       "    <tr>\n",
       "      <th>...</th>\n",
       "      <td>...</td>\n",
       "      <td>...</td>\n",
       "      <td>...</td>\n",
       "      <td>...</td>\n",
       "      <td>...</td>\n",
       "      <td>...</td>\n",
       "      <td>...</td>\n",
       "      <td>...</td>\n",
       "    </tr>\n",
       "    <tr>\n",
       "      <th>157</th>\n",
       "      <td>158</td>\n",
       "      <td>32</td>\n",
       "      <td>JAWA BARAT</td>\n",
       "      <td>3279</td>\n",
       "      <td>KOTA BANJAR</td>\n",
       "      <td>46481</td>\n",
       "      <td>ORANG</td>\n",
       "      <td>2024</td>\n",
       "    </tr>\n",
       "    <tr>\n",
       "      <th>158</th>\n",
       "      <td>159</td>\n",
       "      <td>32</td>\n",
       "      <td>JAWA BARAT</td>\n",
       "      <td>3279</td>\n",
       "      <td>KOTA BANJAR</td>\n",
       "      <td>44061</td>\n",
       "      <td>ORANG</td>\n",
       "      <td>2024</td>\n",
       "    </tr>\n",
       "    <tr>\n",
       "      <th>159</th>\n",
       "      <td>160</td>\n",
       "      <td>32</td>\n",
       "      <td>JAWA BARAT</td>\n",
       "      <td>3279</td>\n",
       "      <td>KOTA BANJAR</td>\n",
       "      <td>10021</td>\n",
       "      <td>ORANG</td>\n",
       "      <td>2024</td>\n",
       "    </tr>\n",
       "    <tr>\n",
       "      <th>160</th>\n",
       "      <td>161</td>\n",
       "      <td>32</td>\n",
       "      <td>JAWA BARAT</td>\n",
       "      <td>3279</td>\n",
       "      <td>KOTA BANJAR</td>\n",
       "      <td>11782</td>\n",
       "      <td>ORANG</td>\n",
       "      <td>2024</td>\n",
       "    </tr>\n",
       "    <tr>\n",
       "      <th>161</th>\n",
       "      <td>162</td>\n",
       "      <td>32</td>\n",
       "      <td>JAWA BARAT</td>\n",
       "      <td>3279</td>\n",
       "      <td>KOTA BANJAR</td>\n",
       "      <td>2415</td>\n",
       "      <td>ORANG</td>\n",
       "      <td>2024</td>\n",
       "    </tr>\n",
       "  </tbody>\n",
       "</table>\n",
       "<p>162 rows × 8 columns</p>\n",
       "</div>"
      ],
      "text/plain": [
       "      id  kode_provinsi nama_provinsi  kode_kabupaten_kota  \\\n",
       "0      1             32    JAWA BARAT                 3201   \n",
       "1      2             32    JAWA BARAT                 3202   \n",
       "2      3             32    JAWA BARAT                 3203   \n",
       "3      4             32    JAWA BARAT                 3204   \n",
       "4      5             32    JAWA BARAT                 3205   \n",
       "..   ...            ...           ...                  ...   \n",
       "157  158             32    JAWA BARAT                 3279   \n",
       "158  159             32    JAWA BARAT                 3279   \n",
       "159  160             32    JAWA BARAT                 3279   \n",
       "160  161             32    JAWA BARAT                 3279   \n",
       "161  162             32    JAWA BARAT                 3279   \n",
       "\n",
       "    nama_kabupaten_kota  jumlah_penderita_dm satuan  tahun  \n",
       "0       KABUPATEN BOGOR                57769  ORANG   2019  \n",
       "1    KABUPATEN SUKABUMI               148447  ORANG   2019  \n",
       "2     KABUPATEN CIANJUR                12100  ORANG   2019  \n",
       "3     KABUPATEN BANDUNG                45412  ORANG   2019  \n",
       "4       KABUPATEN GARUT                    0  ORANG   2019  \n",
       "..                  ...                  ...    ...    ...  \n",
       "157         KOTA BANJAR                46481  ORANG   2024  \n",
       "158         KOTA BANJAR                44061  ORANG   2024  \n",
       "159         KOTA BANJAR                10021  ORANG   2024  \n",
       "160         KOTA BANJAR                11782  ORANG   2024  \n",
       "161         KOTA BANJAR                 2415  ORANG   2024  \n",
       "\n",
       "[162 rows x 8 columns]"
      ]
     },
     "execution_count": 334,
     "metadata": {},
     "output_type": "execute_result"
    }
   ],
   "source": [
    "df"
   ]
  },
  {
   "cell_type": "code",
   "execution_count": 335,
   "id": "0054f9a7",
   "metadata": {},
   "outputs": [],
   "source": [
    "df.drop([\"id\",\"kode_provinsi\",\"satuan\"], axis= 1 , inplace= True)\n"
   ]
  },
  {
   "cell_type": "code",
   "execution_count": 336,
   "id": "9f0e7ccd",
   "metadata": {},
   "outputs": [
    {
     "data": {
      "text/plain": [
       "np.int64(0)"
      ]
     },
     "execution_count": 336,
     "metadata": {},
     "output_type": "execute_result"
    }
   ],
   "source": [
    "df.duplicated().sum()"
   ]
  },
  {
   "cell_type": "code",
   "execution_count": 337,
   "id": "68878fb9",
   "metadata": {},
   "outputs": [
    {
     "data": {
      "application/vnd.microsoft.datawrangler.viewer.v0+json": {
       "columns": [
        {
         "name": "index",
         "rawType": "object",
         "type": "string"
        },
        {
         "name": "0",
         "rawType": "int64",
         "type": "integer"
        }
       ],
       "ref": "77491cd9-d578-444f-98da-b4c142a6e36a",
       "rows": [
        [
         "nama_provinsi",
         "0"
        ],
        [
         "kode_kabupaten_kota",
         "0"
        ],
        [
         "nama_kabupaten_kota",
         "0"
        ],
        [
         "jumlah_penderita_dm",
         "0"
        ],
        [
         "tahun",
         "0"
        ]
       ],
       "shape": {
        "columns": 1,
        "rows": 5
       }
      },
      "text/plain": [
       "nama_provinsi          0\n",
       "kode_kabupaten_kota    0\n",
       "nama_kabupaten_kota    0\n",
       "jumlah_penderita_dm    0\n",
       "tahun                  0\n",
       "dtype: int64"
      ]
     },
     "execution_count": 337,
     "metadata": {},
     "output_type": "execute_result"
    }
   ],
   "source": [
    "df.isnull().sum()"
   ]
  },
  {
   "cell_type": "code",
   "execution_count": 338,
   "id": "5e83cdc2",
   "metadata": {},
   "outputs": [
    {
     "name": "stdout",
     "output_type": "stream",
     "text": [
      "<class 'pandas.core.frame.DataFrame'>\n",
      "RangeIndex: 162 entries, 0 to 161\n",
      "Data columns (total 5 columns):\n",
      " #   Column               Non-Null Count  Dtype \n",
      "---  ------               --------------  ----- \n",
      " 0   nama_provinsi        162 non-null    object\n",
      " 1   kode_kabupaten_kota  162 non-null    int64 \n",
      " 2   nama_kabupaten_kota  162 non-null    object\n",
      " 3   jumlah_penderita_dm  162 non-null    int64 \n",
      " 4   tahun                162 non-null    int64 \n",
      "dtypes: int64(3), object(2)\n",
      "memory usage: 6.5+ KB\n"
     ]
    }
   ],
   "source": [
    "df.info()"
   ]
  },
  {
   "cell_type": "code",
   "execution_count": 339,
   "id": "b47c5f45",
   "metadata": {},
   "outputs": [
    {
     "data": {
      "application/vnd.microsoft.datawrangler.viewer.v0+json": {
       "columns": [
        {
         "name": "index",
         "rawType": "object",
         "type": "string"
        },
        {
         "name": "kode_kabupaten_kota",
         "rawType": "float64",
         "type": "float"
        },
        {
         "name": "jumlah_penderita_dm",
         "rawType": "float64",
         "type": "float"
        },
        {
         "name": "tahun",
         "rawType": "float64",
         "type": "float"
        }
       ],
       "ref": "e1b74283-30be-4d0e-8500-3392da6fb7cb",
       "rows": [
        [
         "count",
         "162.0",
         "162.0",
         "162.0"
        ],
        [
         "mean",
         "3239.277777777778",
         "29699.38888888889",
         "2021.5"
        ],
        [
         "std",
         "33.67293363559714",
         "31787.221501504566",
         "1.7131207221604823"
        ],
        [
         "min",
         "3201.0",
         "0.0",
         "2019.0"
        ],
        [
         "25%",
         "3209.0",
         "12306.0",
         "2020.0"
        ],
        [
         "50%",
         "3217.0",
         "19279.0",
         "2021.5"
        ],
        [
         "75%",
         "3277.0",
         "39988.75",
         "2023.0"
        ],
        [
         "max",
         "3279.0",
         "242169.0",
         "2024.0"
        ]
       ],
       "shape": {
        "columns": 3,
        "rows": 8
       }
      },
      "text/html": [
       "<div>\n",
       "<style scoped>\n",
       "    .dataframe tbody tr th:only-of-type {\n",
       "        vertical-align: middle;\n",
       "    }\n",
       "\n",
       "    .dataframe tbody tr th {\n",
       "        vertical-align: top;\n",
       "    }\n",
       "\n",
       "    .dataframe thead th {\n",
       "        text-align: right;\n",
       "    }\n",
       "</style>\n",
       "<table border=\"1\" class=\"dataframe\">\n",
       "  <thead>\n",
       "    <tr style=\"text-align: right;\">\n",
       "      <th></th>\n",
       "      <th>kode_kabupaten_kota</th>\n",
       "      <th>jumlah_penderita_dm</th>\n",
       "      <th>tahun</th>\n",
       "    </tr>\n",
       "  </thead>\n",
       "  <tbody>\n",
       "    <tr>\n",
       "      <th>count</th>\n",
       "      <td>162.000000</td>\n",
       "      <td>162.000000</td>\n",
       "      <td>162.000000</td>\n",
       "    </tr>\n",
       "    <tr>\n",
       "      <th>mean</th>\n",
       "      <td>3239.277778</td>\n",
       "      <td>29699.388889</td>\n",
       "      <td>2021.500000</td>\n",
       "    </tr>\n",
       "    <tr>\n",
       "      <th>std</th>\n",
       "      <td>33.672934</td>\n",
       "      <td>31787.221502</td>\n",
       "      <td>1.713121</td>\n",
       "    </tr>\n",
       "    <tr>\n",
       "      <th>min</th>\n",
       "      <td>3201.000000</td>\n",
       "      <td>0.000000</td>\n",
       "      <td>2019.000000</td>\n",
       "    </tr>\n",
       "    <tr>\n",
       "      <th>25%</th>\n",
       "      <td>3209.000000</td>\n",
       "      <td>12306.000000</td>\n",
       "      <td>2020.000000</td>\n",
       "    </tr>\n",
       "    <tr>\n",
       "      <th>50%</th>\n",
       "      <td>3217.000000</td>\n",
       "      <td>19279.000000</td>\n",
       "      <td>2021.500000</td>\n",
       "    </tr>\n",
       "    <tr>\n",
       "      <th>75%</th>\n",
       "      <td>3277.000000</td>\n",
       "      <td>39988.750000</td>\n",
       "      <td>2023.000000</td>\n",
       "    </tr>\n",
       "    <tr>\n",
       "      <th>max</th>\n",
       "      <td>3279.000000</td>\n",
       "      <td>242169.000000</td>\n",
       "      <td>2024.000000</td>\n",
       "    </tr>\n",
       "  </tbody>\n",
       "</table>\n",
       "</div>"
      ],
      "text/plain": [
       "       kode_kabupaten_kota  jumlah_penderita_dm        tahun\n",
       "count           162.000000           162.000000   162.000000\n",
       "mean           3239.277778         29699.388889  2021.500000\n",
       "std              33.672934         31787.221502     1.713121\n",
       "min            3201.000000             0.000000  2019.000000\n",
       "25%            3209.000000         12306.000000  2020.000000\n",
       "50%            3217.000000         19279.000000  2021.500000\n",
       "75%            3277.000000         39988.750000  2023.000000\n",
       "max            3279.000000        242169.000000  2024.000000"
      ]
     },
     "execution_count": 339,
     "metadata": {},
     "output_type": "execute_result"
    }
   ],
   "source": [
    "df.describe()"
   ]
  },
  {
   "cell_type": "code",
   "execution_count": 340,
   "id": "f832e20f",
   "metadata": {},
   "outputs": [],
   "source": [
    "df = df[df[\"tahun\"] < 2024] "
   ]
  },
  {
   "cell_type": "code",
   "execution_count": 341,
   "id": "336a49d0",
   "metadata": {},
   "outputs": [
    {
     "data": {
      "application/vnd.microsoft.datawrangler.viewer.v0+json": {
       "columns": [
        {
         "name": "index",
         "rawType": "int64",
         "type": "integer"
        },
        {
         "name": "nama_provinsi",
         "rawType": "object",
         "type": "string"
        },
        {
         "name": "kode_kabupaten_kota",
         "rawType": "int64",
         "type": "integer"
        },
        {
         "name": "nama_kabupaten_kota",
         "rawType": "object",
         "type": "string"
        },
        {
         "name": "jumlah_penderita_dm",
         "rawType": "int64",
         "type": "integer"
        },
        {
         "name": "tahun",
         "rawType": "int64",
         "type": "integer"
        }
       ],
       "ref": "661329e2-d798-4316-85c3-aa8f9c95ace8",
       "rows": [
        [
         "0",
         "JAWA BARAT",
         "3201",
         "KABUPATEN BOGOR",
         "57769",
         "2019"
        ],
        [
         "1",
         "JAWA BARAT",
         "3202",
         "KABUPATEN SUKABUMI",
         "148447",
         "2019"
        ],
        [
         "2",
         "JAWA BARAT",
         "3203",
         "KABUPATEN CIANJUR",
         "12100",
         "2019"
        ],
        [
         "3",
         "JAWA BARAT",
         "3204",
         "KABUPATEN BANDUNG",
         "45412",
         "2019"
        ],
        [
         "4",
         "JAWA BARAT",
         "3205",
         "KABUPATEN GARUT",
         "0",
         "2019"
        ],
        [
         "5",
         "JAWA BARAT",
         "3206",
         "KABUPATEN TASIKMALAYA",
         "10930",
         "2019"
        ],
        [
         "6",
         "JAWA BARAT",
         "3207",
         "KABUPATEN CIAMIS",
         "69113",
         "2019"
        ],
        [
         "7",
         "JAWA BARAT",
         "3208",
         "KABUPATEN KUNINGAN",
         "31582",
         "2019"
        ],
        [
         "8",
         "JAWA BARAT",
         "3209",
         "KABUPATEN CIREBON",
         "21981",
         "2019"
        ],
        [
         "9",
         "JAWA BARAT",
         "3210",
         "KABUPATEN MAJALENGKA",
         "12915",
         "2019"
        ],
        [
         "10",
         "JAWA BARAT",
         "3211",
         "KABUPATEN SUMEDANG",
         "0",
         "2019"
        ],
        [
         "11",
         "JAWA BARAT",
         "3212",
         "KABUPATEN INDRAMAYU",
         "5504",
         "2019"
        ],
        [
         "12",
         "JAWA BARAT",
         "3213",
         "KABUPATEN SUBANG",
         "21691",
         "2019"
        ],
        [
         "13",
         "JAWA BARAT",
         "3214",
         "KABUPATEN PURWAKARTA",
         "11783",
         "2019"
        ],
        [
         "14",
         "JAWA BARAT",
         "3215",
         "KABUPATEN KARAWANG",
         "149537",
         "2019"
        ],
        [
         "15",
         "JAWA BARAT",
         "3216",
         "KABUPATEN BEKASI",
         "89055",
         "2019"
        ],
        [
         "16",
         "JAWA BARAT",
         "3217",
         "KABUPATEN BANDUNG BARAT",
         "0",
         "2019"
        ],
        [
         "17",
         "JAWA BARAT",
         "3218",
         "KABUPATEN PANGANDARAN",
         "0",
         "2019"
        ],
        [
         "18",
         "JAWA BARAT",
         "3271",
         "KOTA BOGOR",
         "12273",
         "2019"
        ],
        [
         "19",
         "JAWA BARAT",
         "3272",
         "KOTA SUKABUMI",
         "0",
         "2019"
        ],
        [
         "20",
         "JAWA BARAT",
         "3273",
         "KOTA BANDUNG",
         "45430",
         "2019"
        ],
        [
         "21",
         "JAWA BARAT",
         "3274",
         "KOTA CIREBON",
         "0",
         "2019"
        ],
        [
         "22",
         "JAWA BARAT",
         "3275",
         "KOTA BEKASI",
         "42517",
         "2019"
        ],
        [
         "23",
         "JAWA BARAT",
         "3276",
         "KOTA DEPOK",
         "48899",
         "2019"
        ],
        [
         "24",
         "JAWA BARAT",
         "3277",
         "KOTA CIMAHI",
         "9571",
         "2019"
        ],
        [
         "25",
         "JAWA BARAT",
         "3278",
         "KOTA TASIKMALAYA",
         "0",
         "2019"
        ],
        [
         "26",
         "JAWA BARAT",
         "3279",
         "KOTA BANJAR",
         "1946",
         "2019"
        ],
        [
         "27",
         "JAWA BARAT",
         "3201",
         "KABUPATEN BOGOR",
         "71462",
         "2020"
        ],
        [
         "28",
         "JAWA BARAT",
         "3202",
         "KABUPATEN SUKABUMI",
         "37523",
         "2020"
        ],
        [
         "29",
         "JAWA BARAT",
         "3203",
         "KABUPATEN CIANJUR",
         "14208",
         "2020"
        ],
        [
         "30",
         "JAWA BARAT",
         "3204",
         "KABUPATEN BANDUNG",
         "32847",
         "2020"
        ],
        [
         "31",
         "JAWA BARAT",
         "3205",
         "KABUPATEN GARUT",
         "17732",
         "2020"
        ],
        [
         "32",
         "JAWA BARAT",
         "3206",
         "KABUPATEN TASIKMALAYA",
         "15049",
         "2020"
        ],
        [
         "33",
         "JAWA BARAT",
         "3207",
         "KABUPATEN CIAMIS",
         "79252",
         "2020"
        ],
        [
         "34",
         "JAWA BARAT",
         "3208",
         "KABUPATEN KUNINGAN",
         "17663",
         "2020"
        ],
        [
         "35",
         "JAWA BARAT",
         "3209",
         "KABUPATEN CIREBON",
         "22345",
         "2020"
        ],
        [
         "36",
         "JAWA BARAT",
         "3210",
         "KABUPATEN MAJALENGKA",
         "13024",
         "2020"
        ],
        [
         "37",
         "JAWA BARAT",
         "3211",
         "KABUPATEN SUMEDANG",
         "79656",
         "2020"
        ],
        [
         "38",
         "JAWA BARAT",
         "3212",
         "KABUPATEN INDRAMAYU",
         "30709",
         "2020"
        ],
        [
         "39",
         "JAWA BARAT",
         "3213",
         "KABUPATEN SUBANG",
         "16830",
         "2020"
        ],
        [
         "40",
         "JAWA BARAT",
         "3214",
         "KABUPATEN PURWAKARTA",
         "12405",
         "2020"
        ],
        [
         "41",
         "JAWA BARAT",
         "3215",
         "KABUPATEN KARAWANG",
         "139392",
         "2020"
        ],
        [
         "42",
         "JAWA BARAT",
         "3216",
         "KABUPATEN BEKASI",
         "242169",
         "2020"
        ],
        [
         "43",
         "JAWA BARAT",
         "3217",
         "KABUPATEN BANDUNG BARAT",
         "17009",
         "2020"
        ],
        [
         "44",
         "JAWA BARAT",
         "3218",
         "KABUPATEN PANGANDARAN",
         "16376",
         "2020"
        ],
        [
         "45",
         "JAWA BARAT",
         "3271",
         "KOTA BOGOR",
         "19694",
         "2020"
        ],
        [
         "46",
         "JAWA BARAT",
         "3272",
         "KOTA SUKABUMI",
         "2465",
         "2020"
        ],
        [
         "47",
         "JAWA BARAT",
         "3273",
         "KOTA BANDUNG",
         "43906",
         "2020"
        ],
        [
         "48",
         "JAWA BARAT",
         "3274",
         "KOTA CIREBON",
         "20834",
         "2020"
        ],
        [
         "49",
         "JAWA BARAT",
         "3275",
         "KOTA BEKASI",
         "44714",
         "2020"
        ]
       ],
       "shape": {
        "columns": 5,
        "rows": 135
       }
      },
      "text/html": [
       "<div>\n",
       "<style scoped>\n",
       "    .dataframe tbody tr th:only-of-type {\n",
       "        vertical-align: middle;\n",
       "    }\n",
       "\n",
       "    .dataframe tbody tr th {\n",
       "        vertical-align: top;\n",
       "    }\n",
       "\n",
       "    .dataframe thead th {\n",
       "        text-align: right;\n",
       "    }\n",
       "</style>\n",
       "<table border=\"1\" class=\"dataframe\">\n",
       "  <thead>\n",
       "    <tr style=\"text-align: right;\">\n",
       "      <th></th>\n",
       "      <th>nama_provinsi</th>\n",
       "      <th>kode_kabupaten_kota</th>\n",
       "      <th>nama_kabupaten_kota</th>\n",
       "      <th>jumlah_penderita_dm</th>\n",
       "      <th>tahun</th>\n",
       "    </tr>\n",
       "  </thead>\n",
       "  <tbody>\n",
       "    <tr>\n",
       "      <th>0</th>\n",
       "      <td>JAWA BARAT</td>\n",
       "      <td>3201</td>\n",
       "      <td>KABUPATEN BOGOR</td>\n",
       "      <td>57769</td>\n",
       "      <td>2019</td>\n",
       "    </tr>\n",
       "    <tr>\n",
       "      <th>1</th>\n",
       "      <td>JAWA BARAT</td>\n",
       "      <td>3202</td>\n",
       "      <td>KABUPATEN SUKABUMI</td>\n",
       "      <td>148447</td>\n",
       "      <td>2019</td>\n",
       "    </tr>\n",
       "    <tr>\n",
       "      <th>2</th>\n",
       "      <td>JAWA BARAT</td>\n",
       "      <td>3203</td>\n",
       "      <td>KABUPATEN CIANJUR</td>\n",
       "      <td>12100</td>\n",
       "      <td>2019</td>\n",
       "    </tr>\n",
       "    <tr>\n",
       "      <th>3</th>\n",
       "      <td>JAWA BARAT</td>\n",
       "      <td>3204</td>\n",
       "      <td>KABUPATEN BANDUNG</td>\n",
       "      <td>45412</td>\n",
       "      <td>2019</td>\n",
       "    </tr>\n",
       "    <tr>\n",
       "      <th>4</th>\n",
       "      <td>JAWA BARAT</td>\n",
       "      <td>3205</td>\n",
       "      <td>KABUPATEN GARUT</td>\n",
       "      <td>0</td>\n",
       "      <td>2019</td>\n",
       "    </tr>\n",
       "    <tr>\n",
       "      <th>...</th>\n",
       "      <td>...</td>\n",
       "      <td>...</td>\n",
       "      <td>...</td>\n",
       "      <td>...</td>\n",
       "      <td>...</td>\n",
       "    </tr>\n",
       "    <tr>\n",
       "      <th>130</th>\n",
       "      <td>JAWA BARAT</td>\n",
       "      <td>3275</td>\n",
       "      <td>KOTA BEKASI</td>\n",
       "      <td>43257</td>\n",
       "      <td>2023</td>\n",
       "    </tr>\n",
       "    <tr>\n",
       "      <th>131</th>\n",
       "      <td>JAWA BARAT</td>\n",
       "      <td>3276</td>\n",
       "      <td>KOTA DEPOK</td>\n",
       "      <td>43929</td>\n",
       "      <td>2023</td>\n",
       "    </tr>\n",
       "    <tr>\n",
       "      <th>132</th>\n",
       "      <td>JAWA BARAT</td>\n",
       "      <td>3277</td>\n",
       "      <td>KOTA CIMAHI</td>\n",
       "      <td>10016</td>\n",
       "      <td>2023</td>\n",
       "    </tr>\n",
       "    <tr>\n",
       "      <th>133</th>\n",
       "      <td>JAWA BARAT</td>\n",
       "      <td>3278</td>\n",
       "      <td>KOTA TASIKMALAYA</td>\n",
       "      <td>11782</td>\n",
       "      <td>2023</td>\n",
       "    </tr>\n",
       "    <tr>\n",
       "      <th>134</th>\n",
       "      <td>JAWA BARAT</td>\n",
       "      <td>3279</td>\n",
       "      <td>KOTA BANJAR</td>\n",
       "      <td>2385</td>\n",
       "      <td>2023</td>\n",
       "    </tr>\n",
       "  </tbody>\n",
       "</table>\n",
       "<p>135 rows × 5 columns</p>\n",
       "</div>"
      ],
      "text/plain": [
       "    nama_provinsi  kode_kabupaten_kota nama_kabupaten_kota  \\\n",
       "0      JAWA BARAT                 3201     KABUPATEN BOGOR   \n",
       "1      JAWA BARAT                 3202  KABUPATEN SUKABUMI   \n",
       "2      JAWA BARAT                 3203   KABUPATEN CIANJUR   \n",
       "3      JAWA BARAT                 3204   KABUPATEN BANDUNG   \n",
       "4      JAWA BARAT                 3205     KABUPATEN GARUT   \n",
       "..            ...                  ...                 ...   \n",
       "130    JAWA BARAT                 3275         KOTA BEKASI   \n",
       "131    JAWA BARAT                 3276          KOTA DEPOK   \n",
       "132    JAWA BARAT                 3277         KOTA CIMAHI   \n",
       "133    JAWA BARAT                 3278    KOTA TASIKMALAYA   \n",
       "134    JAWA BARAT                 3279         KOTA BANJAR   \n",
       "\n",
       "     jumlah_penderita_dm  tahun  \n",
       "0                  57769   2019  \n",
       "1                 148447   2019  \n",
       "2                  12100   2019  \n",
       "3                  45412   2019  \n",
       "4                      0   2019  \n",
       "..                   ...    ...  \n",
       "130                43257   2023  \n",
       "131                43929   2023  \n",
       "132                10016   2023  \n",
       "133                11782   2023  \n",
       "134                 2385   2023  \n",
       "\n",
       "[135 rows x 5 columns]"
      ]
     },
     "execution_count": 341,
     "metadata": {},
     "output_type": "execute_result"
    }
   ],
   "source": [
    "df"
   ]
  },
  {
   "cell_type": "code",
   "execution_count": 342,
   "id": "4c26ef57",
   "metadata": {},
   "outputs": [
    {
     "data": {
      "application/vnd.microsoft.datawrangler.viewer.v0+json": {
       "columns": [
        {
         "name": "index",
         "rawType": "int64",
         "type": "integer"
        },
        {
         "name": "nama_provinsi",
         "rawType": "object",
         "type": "string"
        },
        {
         "name": "kode_kabupaten_kota",
         "rawType": "int64",
         "type": "integer"
        },
        {
         "name": "nama_kabupaten_kota",
         "rawType": "object",
         "type": "string"
        },
        {
         "name": "jumlah_penderita_dm",
         "rawType": "int64",
         "type": "integer"
        },
        {
         "name": "tahun",
         "rawType": "int64",
         "type": "integer"
        }
       ],
       "ref": "2dfaa7e9-fa77-45c4-ae72-ca0d14603eb9",
       "rows": [
        [
         "0",
         "JAWA BARAT",
         "3201",
         "KABUPATEN BOGOR",
         "57769",
         "2019"
        ],
        [
         "1",
         "JAWA BARAT",
         "3202",
         "KABUPATEN SUKABUMI",
         "148447",
         "2019"
        ],
        [
         "2",
         "JAWA BARAT",
         "3203",
         "KABUPATEN CIANJUR",
         "12100",
         "2019"
        ],
        [
         "3",
         "JAWA BARAT",
         "3204",
         "KABUPATEN BANDUNG",
         "45412",
         "2019"
        ],
        [
         "4",
         "JAWA BARAT",
         "3205",
         "KABUPATEN GARUT",
         "0",
         "2019"
        ],
        [
         "5",
         "JAWA BARAT",
         "3206",
         "KABUPATEN TASIKMALAYA",
         "10930",
         "2019"
        ],
        [
         "6",
         "JAWA BARAT",
         "3207",
         "KABUPATEN CIAMIS",
         "69113",
         "2019"
        ],
        [
         "7",
         "JAWA BARAT",
         "3208",
         "KABUPATEN KUNINGAN",
         "31582",
         "2019"
        ],
        [
         "8",
         "JAWA BARAT",
         "3209",
         "KABUPATEN CIREBON",
         "21981",
         "2019"
        ],
        [
         "9",
         "JAWA BARAT",
         "3210",
         "KABUPATEN MAJALENGKA",
         "12915",
         "2019"
        ],
        [
         "10",
         "JAWA BARAT",
         "3211",
         "KABUPATEN SUMEDANG",
         "0",
         "2019"
        ],
        [
         "11",
         "JAWA BARAT",
         "3212",
         "KABUPATEN INDRAMAYU",
         "5504",
         "2019"
        ],
        [
         "12",
         "JAWA BARAT",
         "3213",
         "KABUPATEN SUBANG",
         "21691",
         "2019"
        ],
        [
         "13",
         "JAWA BARAT",
         "3214",
         "KABUPATEN PURWAKARTA",
         "11783",
         "2019"
        ],
        [
         "14",
         "JAWA BARAT",
         "3215",
         "KABUPATEN KARAWANG",
         "149537",
         "2019"
        ],
        [
         "15",
         "JAWA BARAT",
         "3216",
         "KABUPATEN BEKASI",
         "89055",
         "2019"
        ],
        [
         "16",
         "JAWA BARAT",
         "3217",
         "KABUPATEN BANDUNG BARAT",
         "0",
         "2019"
        ],
        [
         "17",
         "JAWA BARAT",
         "3218",
         "KABUPATEN PANGANDARAN",
         "0",
         "2019"
        ],
        [
         "18",
         "JAWA BARAT",
         "3271",
         "KOTA BOGOR",
         "12273",
         "2019"
        ],
        [
         "19",
         "JAWA BARAT",
         "3272",
         "KOTA SUKABUMI",
         "0",
         "2019"
        ],
        [
         "20",
         "JAWA BARAT",
         "3273",
         "KOTA BANDUNG",
         "45430",
         "2019"
        ],
        [
         "21",
         "JAWA BARAT",
         "3274",
         "KOTA CIREBON",
         "0",
         "2019"
        ],
        [
         "22",
         "JAWA BARAT",
         "3275",
         "KOTA BEKASI",
         "42517",
         "2019"
        ],
        [
         "23",
         "JAWA BARAT",
         "3276",
         "KOTA DEPOK",
         "48899",
         "2019"
        ],
        [
         "24",
         "JAWA BARAT",
         "3277",
         "KOTA CIMAHI",
         "9571",
         "2019"
        ],
        [
         "25",
         "JAWA BARAT",
         "3278",
         "KOTA TASIKMALAYA",
         "0",
         "2019"
        ],
        [
         "26",
         "JAWA BARAT",
         "3279",
         "KOTA BANJAR",
         "1946",
         "2019"
        ],
        [
         "27",
         "JAWA BARAT",
         "3201",
         "KABUPATEN BOGOR",
         "71462",
         "2020"
        ],
        [
         "28",
         "JAWA BARAT",
         "3202",
         "KABUPATEN SUKABUMI",
         "37523",
         "2020"
        ],
        [
         "29",
         "JAWA BARAT",
         "3203",
         "KABUPATEN CIANJUR",
         "14208",
         "2020"
        ],
        [
         "30",
         "JAWA BARAT",
         "3204",
         "KABUPATEN BANDUNG",
         "32847",
         "2020"
        ],
        [
         "31",
         "JAWA BARAT",
         "3205",
         "KABUPATEN GARUT",
         "17732",
         "2020"
        ],
        [
         "32",
         "JAWA BARAT",
         "3206",
         "KABUPATEN TASIKMALAYA",
         "15049",
         "2020"
        ],
        [
         "33",
         "JAWA BARAT",
         "3207",
         "KABUPATEN CIAMIS",
         "79252",
         "2020"
        ],
        [
         "34",
         "JAWA BARAT",
         "3208",
         "KABUPATEN KUNINGAN",
         "17663",
         "2020"
        ],
        [
         "35",
         "JAWA BARAT",
         "3209",
         "KABUPATEN CIREBON",
         "22345",
         "2020"
        ],
        [
         "36",
         "JAWA BARAT",
         "3210",
         "KABUPATEN MAJALENGKA",
         "13024",
         "2020"
        ],
        [
         "37",
         "JAWA BARAT",
         "3211",
         "KABUPATEN SUMEDANG",
         "79656",
         "2020"
        ],
        [
         "38",
         "JAWA BARAT",
         "3212",
         "KABUPATEN INDRAMAYU",
         "30709",
         "2020"
        ],
        [
         "39",
         "JAWA BARAT",
         "3213",
         "KABUPATEN SUBANG",
         "16830",
         "2020"
        ],
        [
         "40",
         "JAWA BARAT",
         "3214",
         "KABUPATEN PURWAKARTA",
         "12405",
         "2020"
        ],
        [
         "41",
         "JAWA BARAT",
         "3215",
         "KABUPATEN KARAWANG",
         "139392",
         "2020"
        ],
        [
         "42",
         "JAWA BARAT",
         "3216",
         "KABUPATEN BEKASI",
         "242169",
         "2020"
        ],
        [
         "43",
         "JAWA BARAT",
         "3217",
         "KABUPATEN BANDUNG BARAT",
         "17009",
         "2020"
        ],
        [
         "44",
         "JAWA BARAT",
         "3218",
         "KABUPATEN PANGANDARAN",
         "16376",
         "2020"
        ],
        [
         "45",
         "JAWA BARAT",
         "3271",
         "KOTA BOGOR",
         "19694",
         "2020"
        ],
        [
         "46",
         "JAWA BARAT",
         "3272",
         "KOTA SUKABUMI",
         "2465",
         "2020"
        ],
        [
         "47",
         "JAWA BARAT",
         "3273",
         "KOTA BANDUNG",
         "43906",
         "2020"
        ],
        [
         "48",
         "JAWA BARAT",
         "3274",
         "KOTA CIREBON",
         "20834",
         "2020"
        ],
        [
         "49",
         "JAWA BARAT",
         "3275",
         "KOTA BEKASI",
         "44714",
         "2020"
        ]
       ],
       "shape": {
        "columns": 5,
        "rows": 135
       }
      },
      "text/html": [
       "<div>\n",
       "<style scoped>\n",
       "    .dataframe tbody tr th:only-of-type {\n",
       "        vertical-align: middle;\n",
       "    }\n",
       "\n",
       "    .dataframe tbody tr th {\n",
       "        vertical-align: top;\n",
       "    }\n",
       "\n",
       "    .dataframe thead th {\n",
       "        text-align: right;\n",
       "    }\n",
       "</style>\n",
       "<table border=\"1\" class=\"dataframe\">\n",
       "  <thead>\n",
       "    <tr style=\"text-align: right;\">\n",
       "      <th></th>\n",
       "      <th>nama_provinsi</th>\n",
       "      <th>kode_kabupaten_kota</th>\n",
       "      <th>nama_kabupaten_kota</th>\n",
       "      <th>jumlah_penderita_dm</th>\n",
       "      <th>tahun</th>\n",
       "    </tr>\n",
       "  </thead>\n",
       "  <tbody>\n",
       "    <tr>\n",
       "      <th>0</th>\n",
       "      <td>JAWA BARAT</td>\n",
       "      <td>3201</td>\n",
       "      <td>KABUPATEN BOGOR</td>\n",
       "      <td>57769</td>\n",
       "      <td>2019</td>\n",
       "    </tr>\n",
       "    <tr>\n",
       "      <th>1</th>\n",
       "      <td>JAWA BARAT</td>\n",
       "      <td>3202</td>\n",
       "      <td>KABUPATEN SUKABUMI</td>\n",
       "      <td>148447</td>\n",
       "      <td>2019</td>\n",
       "    </tr>\n",
       "    <tr>\n",
       "      <th>2</th>\n",
       "      <td>JAWA BARAT</td>\n",
       "      <td>3203</td>\n",
       "      <td>KABUPATEN CIANJUR</td>\n",
       "      <td>12100</td>\n",
       "      <td>2019</td>\n",
       "    </tr>\n",
       "    <tr>\n",
       "      <th>3</th>\n",
       "      <td>JAWA BARAT</td>\n",
       "      <td>3204</td>\n",
       "      <td>KABUPATEN BANDUNG</td>\n",
       "      <td>45412</td>\n",
       "      <td>2019</td>\n",
       "    </tr>\n",
       "    <tr>\n",
       "      <th>4</th>\n",
       "      <td>JAWA BARAT</td>\n",
       "      <td>3205</td>\n",
       "      <td>KABUPATEN GARUT</td>\n",
       "      <td>0</td>\n",
       "      <td>2019</td>\n",
       "    </tr>\n",
       "    <tr>\n",
       "      <th>...</th>\n",
       "      <td>...</td>\n",
       "      <td>...</td>\n",
       "      <td>...</td>\n",
       "      <td>...</td>\n",
       "      <td>...</td>\n",
       "    </tr>\n",
       "    <tr>\n",
       "      <th>130</th>\n",
       "      <td>JAWA BARAT</td>\n",
       "      <td>3275</td>\n",
       "      <td>KOTA BEKASI</td>\n",
       "      <td>43257</td>\n",
       "      <td>2023</td>\n",
       "    </tr>\n",
       "    <tr>\n",
       "      <th>131</th>\n",
       "      <td>JAWA BARAT</td>\n",
       "      <td>3276</td>\n",
       "      <td>KOTA DEPOK</td>\n",
       "      <td>43929</td>\n",
       "      <td>2023</td>\n",
       "    </tr>\n",
       "    <tr>\n",
       "      <th>132</th>\n",
       "      <td>JAWA BARAT</td>\n",
       "      <td>3277</td>\n",
       "      <td>KOTA CIMAHI</td>\n",
       "      <td>10016</td>\n",
       "      <td>2023</td>\n",
       "    </tr>\n",
       "    <tr>\n",
       "      <th>133</th>\n",
       "      <td>JAWA BARAT</td>\n",
       "      <td>3278</td>\n",
       "      <td>KOTA TASIKMALAYA</td>\n",
       "      <td>11782</td>\n",
       "      <td>2023</td>\n",
       "    </tr>\n",
       "    <tr>\n",
       "      <th>134</th>\n",
       "      <td>JAWA BARAT</td>\n",
       "      <td>3279</td>\n",
       "      <td>KOTA BANJAR</td>\n",
       "      <td>2385</td>\n",
       "      <td>2023</td>\n",
       "    </tr>\n",
       "  </tbody>\n",
       "</table>\n",
       "<p>135 rows × 5 columns</p>\n",
       "</div>"
      ],
      "text/plain": [
       "    nama_provinsi  kode_kabupaten_kota nama_kabupaten_kota  \\\n",
       "0      JAWA BARAT                 3201     KABUPATEN BOGOR   \n",
       "1      JAWA BARAT                 3202  KABUPATEN SUKABUMI   \n",
       "2      JAWA BARAT                 3203   KABUPATEN CIANJUR   \n",
       "3      JAWA BARAT                 3204   KABUPATEN BANDUNG   \n",
       "4      JAWA BARAT                 3205     KABUPATEN GARUT   \n",
       "..            ...                  ...                 ...   \n",
       "130    JAWA BARAT                 3275         KOTA BEKASI   \n",
       "131    JAWA BARAT                 3276          KOTA DEPOK   \n",
       "132    JAWA BARAT                 3277         KOTA CIMAHI   \n",
       "133    JAWA BARAT                 3278    KOTA TASIKMALAYA   \n",
       "134    JAWA BARAT                 3279         KOTA BANJAR   \n",
       "\n",
       "     jumlah_penderita_dm  tahun  \n",
       "0                  57769   2019  \n",
       "1                 148447   2019  \n",
       "2                  12100   2019  \n",
       "3                  45412   2019  \n",
       "4                      0   2019  \n",
       "..                   ...    ...  \n",
       "130                43257   2023  \n",
       "131                43929   2023  \n",
       "132                10016   2023  \n",
       "133                11782   2023  \n",
       "134                 2385   2023  \n",
       "\n",
       "[135 rows x 5 columns]"
      ]
     },
     "execution_count": 342,
     "metadata": {},
     "output_type": "execute_result"
    }
   ],
   "source": [
    "df"
   ]
  },
  {
   "cell_type": "code",
   "execution_count": 343,
   "id": "1a193516",
   "metadata": {},
   "outputs": [],
   "source": [
    "jumalah_penderita_pertahun = df.groupby(\"tahun\", as_index=False)[\"jumlah_penderita_dm\"].sum()"
   ]
  },
  {
   "cell_type": "code",
   "execution_count": 344,
   "id": "13d981e0",
   "metadata": {},
   "outputs": [
    {
     "data": {
      "application/vnd.microsoft.datawrangler.viewer.v0+json": {
       "columns": [
        {
         "name": "index",
         "rawType": "int64",
         "type": "integer"
        },
        {
         "name": "tahun",
         "rawType": "int64",
         "type": "integer"
        },
        {
         "name": "jumlah_penderita_dm",
         "rawType": "int64",
         "type": "integer"
        }
       ],
       "ref": "b8fc131b-8b6e-4009-a6ee-dfc023a267e2",
       "rows": [
        [
         "0",
         "2019",
         "848455"
        ],
        [
         "1",
         "2020",
         "1078857"
        ],
        [
         "2",
         "2021",
         "925675"
        ],
        [
         "3",
         "2022",
         "644704"
        ],
        [
         "4",
         "2023",
         "645390"
        ]
       ],
       "shape": {
        "columns": 2,
        "rows": 5
       }
      },
      "text/html": [
       "<div>\n",
       "<style scoped>\n",
       "    .dataframe tbody tr th:only-of-type {\n",
       "        vertical-align: middle;\n",
       "    }\n",
       "\n",
       "    .dataframe tbody tr th {\n",
       "        vertical-align: top;\n",
       "    }\n",
       "\n",
       "    .dataframe thead th {\n",
       "        text-align: right;\n",
       "    }\n",
       "</style>\n",
       "<table border=\"1\" class=\"dataframe\">\n",
       "  <thead>\n",
       "    <tr style=\"text-align: right;\">\n",
       "      <th></th>\n",
       "      <th>tahun</th>\n",
       "      <th>jumlah_penderita_dm</th>\n",
       "    </tr>\n",
       "  </thead>\n",
       "  <tbody>\n",
       "    <tr>\n",
       "      <th>0</th>\n",
       "      <td>2019</td>\n",
       "      <td>848455</td>\n",
       "    </tr>\n",
       "    <tr>\n",
       "      <th>1</th>\n",
       "      <td>2020</td>\n",
       "      <td>1078857</td>\n",
       "    </tr>\n",
       "    <tr>\n",
       "      <th>2</th>\n",
       "      <td>2021</td>\n",
       "      <td>925675</td>\n",
       "    </tr>\n",
       "    <tr>\n",
       "      <th>3</th>\n",
       "      <td>2022</td>\n",
       "      <td>644704</td>\n",
       "    </tr>\n",
       "    <tr>\n",
       "      <th>4</th>\n",
       "      <td>2023</td>\n",
       "      <td>645390</td>\n",
       "    </tr>\n",
       "  </tbody>\n",
       "</table>\n",
       "</div>"
      ],
      "text/plain": [
       "   tahun  jumlah_penderita_dm\n",
       "0   2019               848455\n",
       "1   2020              1078857\n",
       "2   2021               925675\n",
       "3   2022               644704\n",
       "4   2023               645390"
      ]
     },
     "execution_count": 344,
     "metadata": {},
     "output_type": "execute_result"
    }
   ],
   "source": [
    "jumalah_penderita_pertahun"
   ]
  },
  {
   "cell_type": "code",
   "execution_count": 345,
   "id": "66ef64cf",
   "metadata": {},
   "outputs": [
    {
     "data": {
      "application/vnd.microsoft.datawrangler.viewer.v0+json": {
       "columns": [
        {
         "name": "index",
         "rawType": "int64",
         "type": "integer"
        },
        {
         "name": "tahun",
         "rawType": "int64",
         "type": "integer"
        }
       ],
       "ref": "64db7b60-5991-4ac5-be80-2676d217ec82",
       "rows": [
        [
         "0",
         "2019"
        ],
        [
         "1",
         "2020"
        ],
        [
         "2",
         "2021"
        ],
        [
         "3",
         "2022"
        ],
        [
         "4",
         "2023"
        ]
       ],
       "shape": {
        "columns": 1,
        "rows": 5
       }
      },
      "text/plain": [
       "0    2019\n",
       "1    2020\n",
       "2    2021\n",
       "3    2022\n",
       "4    2023\n",
       "Name: tahun, dtype: int64"
      ]
     },
     "execution_count": 345,
     "metadata": {},
     "output_type": "execute_result"
    }
   ],
   "source": [
    "jumalah_penderita_pertahun[\"tahun\"]"
   ]
  },
  {
   "cell_type": "code",
   "execution_count": 346,
   "id": "0a36978d",
   "metadata": {},
   "outputs": [
    {
     "data": {
      "application/vnd.microsoft.datawrangler.viewer.v0+json": {
       "columns": [
        {
         "name": "index",
         "rawType": "int64",
         "type": "integer"
        },
        {
         "name": "jumlah_penderita_dm",
         "rawType": "int64",
         "type": "integer"
        }
       ],
       "ref": "98fa5e8e-c421-468a-ba76-eb04043b411c",
       "rows": [
        [
         "0",
         "848455"
        ],
        [
         "1",
         "1078857"
        ],
        [
         "2",
         "925675"
        ],
        [
         "3",
         "644704"
        ],
        [
         "4",
         "645390"
        ]
       ],
       "shape": {
        "columns": 1,
        "rows": 5
       }
      },
      "text/plain": [
       "0     848455\n",
       "1    1078857\n",
       "2     925675\n",
       "3     644704\n",
       "4     645390\n",
       "Name: jumlah_penderita_dm, dtype: int64"
      ]
     },
     "execution_count": 346,
     "metadata": {},
     "output_type": "execute_result"
    }
   ],
   "source": [
    "jumalah_penderita_pertahun[\"jumlah_penderita_dm\"]"
   ]
  },
  {
   "cell_type": "code",
   "execution_count": 347,
   "id": "69b33be5",
   "metadata": {},
   "outputs": [
    {
     "data": {
      "image/png": "[encoded data removed]",
      "text/plain": [
       "<Figure size 1000x500 with 1 Axes>"
      ]
     },
     "metadata": {},
     "output_type": "display_data"
    }
   ],
   "source": [
    "plt.figure(figsize=(10,5))\n",
    "plt.bar(jumalah_penderita_pertahun[\"tahun\"],jumalah_penderita_pertahun[\"jumlah_penderita_dm\"].values, color = \"green\")\n",
    "plt.title(\"Jumlah penderita Diabtes melitus per tahun\")\n",
    "\n",
    "plt.ylabel(\"Jumlah\")\n",
    "plt.xlabel(\"Tahun\")\n",
    "\n",
    "plt.show()"
   ]
  },
  {
   "cell_type": "code",
   "execution_count": 348,
   "id": "aeab2ac9",
   "metadata": {},
   "outputs": [
    {
     "data": {
      "text/plain": [
       "<Axes: xlabel='tahun', ylabel='jumlah_penderita_dm'>"
      ]
     },
     "execution_count": 348,
     "metadata": {},
     "output_type": "execute_result"
    },
    {
     "data": {
      "image/png": "[encoded data removed]",
      "text/plain": [
       "<Figure size 1000x500 with 1 Axes>"
      ]
     },
     "metadata": {},
     "output_type": "display_data"
    }
   ],
   "source": [
    "plt.figure(figsize=(10,5))\n",
    "\n",
    "sns.pointplot(x= jumalah_penderita_pertahun[\"tahun\"], y = jumalah_penderita_pertahun[\"jumlah_penderita_dm\"].pct_change()*100 )"
   ]
  },
  {
   "cell_type": "code",
   "execution_count": 349,
   "id": "af0f1fbe",
   "metadata": {},
   "outputs": [
    {
     "data": {
      "application/vnd.microsoft.datawrangler.viewer.v0+json": {
       "columns": [
        {
         "name": "index",
         "rawType": "int64",
         "type": "integer"
        },
        {
         "name": "jumlah_penderita_dm",
         "rawType": "float64",
         "type": "float"
        }
       ],
       "ref": "8a7b5223-d247-4c28-9405-c72593cc1c5e",
       "rows": [
        [
         "0",
         null
        ],
        [
         "1",
         "27.15547671944889"
        ],
        [
         "2",
         "-14.198545312307376"
        ],
        [
         "3",
         "-30.353093688389553"
        ],
        [
         "4",
         "0.10640542016180365"
        ]
       ],
       "shape": {
        "columns": 1,
        "rows": 5
       }
      },
      "text/plain": [
       "0          NaN\n",
       "1    27.155477\n",
       "2   -14.198545\n",
       "3   -30.353094\n",
       "4     0.106405\n",
       "Name: jumlah_penderita_dm, dtype: float64"
      ]
     },
     "execution_count": 349,
     "metadata": {},
     "output_type": "execute_result"
    }
   ],
   "source": [
    "jumalah_penderita_pertahun[\"jumlah_penderita_dm\"].pct_change()*100"
   ]
  },
  {
   "cell_type": "code",
   "execution_count": 350,
   "id": "53db5bea",
   "metadata": {},
   "outputs": [
    {
     "data": {
      "text/plain": [
       "Index(['nama_provinsi', 'kode_kabupaten_kota', 'nama_kabupaten_kota',\n",
       "       'jumlah_penderita_dm', 'tahun'],\n",
       "      dtype='object')"
      ]
     },
     "execution_count": 350,
     "metadata": {},
     "output_type": "execute_result"
    }
   ],
   "source": [
    "df.columns"
   ]
  },
  {
   "cell_type": "code",
   "execution_count": 351,
   "id": "c42fba2c",
   "metadata": {},
   "outputs": [],
   "source": [
    "kota_diabet = df.groupby([\"nama_kabupaten_kota\"],as_index=False)[\"jumlah_penderita_dm\"].sum()"
   ]
  },
  {
   "cell_type": "code",
   "execution_count": 352,
   "id": "a22f061d",
   "metadata": {},
   "outputs": [
    {
     "data": {
      "application/vnd.microsoft.datawrangler.viewer.v0+json": {
       "columns": [
        {
         "name": "index",
         "rawType": "int64",
         "type": "integer"
        },
        {
         "name": "nama_kabupaten_kota",
         "rawType": "object",
         "type": "string"
        },
        {
         "name": "jumlah_penderita_dm",
         "rawType": "int64",
         "type": "integer"
        }
       ],
       "ref": "aacf0de2-2474-44ce-9cfd-f57b81a34c1c",
       "rows": [
        [
         "0",
         "KABUPATEN BANDUNG",
         "265716"
        ],
        [
         "1",
         "KABUPATEN BANDUNG BARAT",
         "69567"
        ],
        [
         "2",
         "KABUPATEN BEKASI",
         "448380"
        ],
        [
         "3",
         "KABUPATEN BOGOR",
         "319968"
        ],
        [
         "4",
         "KABUPATEN CIAMIS",
         "214918"
        ],
        [
         "5",
         "KABUPATEN CIANJUR",
         "70341"
        ],
        [
         "6",
         "KABUPATEN CIREBON",
         "104020"
        ],
        [
         "7",
         "KABUPATEN GARUT",
         "100391"
        ],
        [
         "8",
         "KABUPATEN INDRAMAYU",
         "131444"
        ],
        [
         "9",
         "KABUPATEN KARAWANG",
         "515661"
        ],
        [
         "10",
         "KABUPATEN KUNINGAN",
         "107304"
        ],
        [
         "11",
         "KABUPATEN MAJALENGKA",
         "65668"
        ],
        [
         "12",
         "KABUPATEN PANGANDARAN",
         "35291"
        ],
        [
         "13",
         "KABUPATEN PURWAKARTA",
         "63373"
        ],
        [
         "14",
         "KABUPATEN SUBANG",
         "118431"
        ],
        [
         "15",
         "KABUPATEN SUKABUMI",
         "255654"
        ],
        [
         "16",
         "KABUPATEN SUMEDANG",
         "188359"
        ],
        [
         "17",
         "KABUPATEN TASIKMALAYA",
         "92672"
        ],
        [
         "18",
         "KOTA BANDUNG",
         "218839"
        ],
        [
         "19",
         "KOTA BANJAR",
         "19249"
        ],
        [
         "20",
         "KOTA BEKASI",
         "228133"
        ],
        [
         "21",
         "KOTA BOGOR",
         "86024"
        ],
        [
         "22",
         "KOTA CIMAHI",
         "48882"
        ],
        [
         "23",
         "KOTA CIREBON",
         "69233"
        ],
        [
         "24",
         "KOTA DEPOK",
         "232569"
        ],
        [
         "25",
         "KOTA SUKABUMI",
         "31580"
        ],
        [
         "26",
         "KOTA TASIKMALAYA",
         "41414"
        ]
       ],
       "shape": {
        "columns": 2,
        "rows": 27
       }
      },
      "text/html": [
       "<div>\n",
       "<style scoped>\n",
       "    .dataframe tbody tr th:only-of-type {\n",
       "        vertical-align: middle;\n",
       "    }\n",
       "\n",
       "    .dataframe tbody tr th {\n",
       "        vertical-align: top;\n",
       "    }\n",
       "\n",
       "    .dataframe thead th {\n",
       "        text-align: right;\n",
       "    }\n",
       "</style>\n",
       "<table border=\"1\" class=\"dataframe\">\n",
       "  <thead>\n",
       "    <tr style=\"text-align: right;\">\n",
       "      <th></th>\n",
       "      <th>nama_kabupaten_kota</th>\n",
       "      <th>jumlah_penderita_dm</th>\n",
       "    </tr>\n",
       "  </thead>\n",
       "  <tbody>\n",
       "    <tr>\n",
       "      <th>0</th>\n",
       "      <td>KABUPATEN BANDUNG</td>\n",
       "      <td>265716</td>\n",
       "    </tr>\n",
       "    <tr>\n",
       "      <th>1</th>\n",
       "      <td>KABUPATEN BANDUNG BARAT</td>\n",
       "      <td>69567</td>\n",
       "    </tr>\n",
       "    <tr>\n",
       "      <th>2</th>\n",
       "      <td>KABUPATEN BEKASI</td>\n",
       "      <td>448380</td>\n",
       "    </tr>\n",
       "    <tr>\n",
       "      <th>3</th>\n",
       "      <td>KABUPATEN BOGOR</td>\n",
       "      <td>319968</td>\n",
       "    </tr>\n",
       "    <tr>\n",
       "      <th>4</th>\n",
       "      <td>KABUPATEN CIAMIS</td>\n",
       "      <td>214918</td>\n",
       "    </tr>\n",
       "    <tr>\n",
       "      <th>5</th>\n",
       "      <td>KABUPATEN CIANJUR</td>\n",
       "      <td>70341</td>\n",
       "    </tr>\n",
       "    <tr>\n",
       "      <th>6</th>\n",
       "      <td>KABUPATEN CIREBON</td>\n",
       "      <td>104020</td>\n",
       "    </tr>\n",
       "    <tr>\n",
       "      <th>7</th>\n",
       "      <td>KABUPATEN GARUT</td>\n",
       "      <td>100391</td>\n",
       "    </tr>\n",
       "    <tr>\n",
       "      <th>8</th>\n",
       "      <td>KABUPATEN INDRAMAYU</td>\n",
       "      <td>131444</td>\n",
       "    </tr>\n",
       "    <tr>\n",
       "      <th>9</th>\n",
       "      <td>KABUPATEN KARAWANG</td>\n",
       "      <td>515661</td>\n",
       "    </tr>\n",
       "    <tr>\n",
       "      <th>10</th>\n",
       "      <td>KABUPATEN KUNINGAN</td>\n",
       "      <td>107304</td>\n",
       "    </tr>\n",
       "    <tr>\n",
       "      <th>11</th>\n",
       "      <td>KABUPATEN MAJALENGKA</td>\n",
       "      <td>65668</td>\n",
       "    </tr>\n",
       "    <tr>\n",
       "      <th>12</th>\n",
       "      <td>KABUPATEN PANGANDARAN</td>\n",
       "      <td>35291</td>\n",
       "    </tr>\n",
       "    <tr>\n",
       "      <th>13</th>\n",
       "      <td>KABUPATEN PURWAKARTA</td>\n",
       "      <td>63373</td>\n",
       "    </tr>\n",
       "    <tr>\n",
       "      <th>14</th>\n",
       "      <td>KABUPATEN SUBANG</td>\n",
       "      <td>118431</td>\n",
       "    </tr>\n",
       "    <tr>\n",
       "      <th>15</th>\n",
       "      <td>KABUPATEN SUKABUMI</td>\n",
       "      <td>255654</td>\n",
       "    </tr>\n",
       "    <tr>\n",
       "      <th>16</th>\n",
       "      <td>KABUPATEN SUMEDANG</td>\n",
       "      <td>188359</td>\n",
       "    </tr>\n",
       "    <tr>\n",
       "      <th>17</th>\n",
       "      <td>KABUPATEN TASIKMALAYA</td>\n",
       "      <td>92672</td>\n",
       "    </tr>\n",
       "    <tr>\n",
       "      <th>18</th>\n",
       "      <td>KOTA BANDUNG</td>\n",
       "      <td>218839</td>\n",
       "    </tr>\n",
       "    <tr>\n",
       "      <th>19</th>\n",
       "      <td>KOTA BANJAR</td>\n",
       "      <td>19249</td>\n",
       "    </tr>\n",
       "    <tr>\n",
       "      <th>20</th>\n",
       "      <td>KOTA BEKASI</td>\n",
       "      <td>228133</td>\n",
       "    </tr>\n",
       "    <tr>\n",
       "      <th>21</th>\n",
       "      <td>KOTA BOGOR</td>\n",
       "      <td>86024</td>\n",
       "    </tr>\n",
       "    <tr>\n",
       "      <th>22</th>\n",
       "      <td>KOTA CIMAHI</td>\n",
       "      <td>48882</td>\n",
       "    </tr>\n",
       "    <tr>\n",
       "      <th>23</th>\n",
       "      <td>KOTA CIREBON</td>\n",
       "      <td>69233</td>\n",
       "    </tr>\n",
       "    <tr>\n",
       "      <th>24</th>\n",
       "      <td>KOTA DEPOK</td>\n",
       "      <td>232569</td>\n",
       "    </tr>\n",
       "    <tr>\n",
       "      <th>25</th>\n",
       "      <td>KOTA SUKABUMI</td>\n",
       "      <td>31580</td>\n",
       "    </tr>\n",
       "    <tr>\n",
       "      <th>26</th>\n",
       "      <td>KOTA TASIKMALAYA</td>\n",
       "      <td>41414</td>\n",
       "    </tr>\n",
       "  </tbody>\n",
       "</table>\n",
       "</div>"
      ],
      "text/plain": [
       "        nama_kabupaten_kota  jumlah_penderita_dm\n",
       "0         KABUPATEN BANDUNG               265716\n",
       "1   KABUPATEN BANDUNG BARAT                69567\n",
       "2          KABUPATEN BEKASI               448380\n",
       "3           KABUPATEN BOGOR               319968\n",
       "4          KABUPATEN CIAMIS               214918\n",
       "5         KABUPATEN CIANJUR                70341\n",
       "6         KABUPATEN CIREBON               104020\n",
       "7           KABUPATEN GARUT               100391\n",
       "8       KABUPATEN INDRAMAYU               131444\n",
       "9        KABUPATEN KARAWANG               515661\n",
       "10       KABUPATEN KUNINGAN               107304\n",
       "11     KABUPATEN MAJALENGKA                65668\n",
       "12    KABUPATEN PANGANDARAN                35291\n",
       "13     KABUPATEN PURWAKARTA                63373\n",
       "14         KABUPATEN SUBANG               118431\n",
       "15       KABUPATEN SUKABUMI               255654\n",
       "16       KABUPATEN SUMEDANG               188359\n",
       "17    KABUPATEN TASIKMALAYA                92672\n",
       "18             KOTA BANDUNG               218839\n",
       "19              KOTA BANJAR                19249\n",
       "20              KOTA BEKASI               228133\n",
       "21               KOTA BOGOR                86024\n",
       "22              KOTA CIMAHI                48882\n",
       "23             KOTA CIREBON                69233\n",
       "24               KOTA DEPOK               232569\n",
       "25            KOTA SUKABUMI                31580\n",
       "26         KOTA TASIKMALAYA                41414"
      ]
     },
     "execution_count": 352,
     "metadata": {},
     "output_type": "execute_result"
    }
   ],
   "source": [
    "kota_diabet"
   ]
  },
  {
   "cell_type": "markdown",
   "id": "85f70416",
   "metadata": {},
   "source": [
    "# Total"
   ]
  },
  {
   "cell_type": "code",
   "execution_count": 353,
   "id": "464aca09",
   "metadata": {},
   "outputs": [
    {
     "data": {
      "application/vnd.microsoft.datawrangler.viewer.v0+json": {
       "columns": [
        {
         "name": "index",
         "rawType": "int64",
         "type": "integer"
        },
        {
         "name": "nama_kabupaten_kota",
         "rawType": "object",
         "type": "string"
        },
        {
         "name": "jumlah_penderita_dm",
         "rawType": "int64",
         "type": "integer"
        }
       ],
       "ref": "b376bc9a-b084-47c3-bddc-f66b9710ef29",
       "rows": [
        [
         "9",
         "KABUPATEN KARAWANG",
         "515661"
        ],
        [
         "2",
         "KABUPATEN BEKASI",
         "448380"
        ],
        [
         "3",
         "KABUPATEN BOGOR",
         "319968"
        ],
        [
         "0",
         "KABUPATEN BANDUNG",
         "265716"
        ],
        [
         "15",
         "KABUPATEN SUKABUMI",
         "255654"
        ]
       ],
       "shape": {
        "columns": 2,
        "rows": 5
       }
      },
      "text/html": [
       "<div>\n",
       "<style scoped>\n",
       "    .dataframe tbody tr th:only-of-type {\n",
       "        vertical-align: middle;\n",
       "    }\n",
       "\n",
       "    .dataframe tbody tr th {\n",
       "        vertical-align: top;\n",
       "    }\n",
       "\n",
       "    .dataframe thead th {\n",
       "        text-align: right;\n",
       "    }\n",
       "</style>\n",
       "<table border=\"1\" class=\"dataframe\">\n",
       "  <thead>\n",
       "    <tr style=\"text-align: right;\">\n",
       "      <th></th>\n",
       "      <th>nama_kabupaten_kota</th>\n",
       "      <th>jumlah_penderita_dm</th>\n",
       "    </tr>\n",
       "  </thead>\n",
       "  <tbody>\n",
       "    <tr>\n",
       "      <th>9</th>\n",
       "      <td>KABUPATEN KARAWANG</td>\n",
       "      <td>515661</td>\n",
       "    </tr>\n",
       "    <tr>\n",
       "      <th>2</th>\n",
       "      <td>KABUPATEN BEKASI</td>\n",
       "      <td>448380</td>\n",
       "    </tr>\n",
       "    <tr>\n",
       "      <th>3</th>\n",
       "      <td>KABUPATEN BOGOR</td>\n",
       "      <td>319968</td>\n",
       "    </tr>\n",
       "    <tr>\n",
       "      <th>0</th>\n",
       "      <td>KABUPATEN BANDUNG</td>\n",
       "      <td>265716</td>\n",
       "    </tr>\n",
       "    <tr>\n",
       "      <th>15</th>\n",
       "      <td>KABUPATEN SUKABUMI</td>\n",
       "      <td>255654</td>\n",
       "    </tr>\n",
       "  </tbody>\n",
       "</table>\n",
       "</div>"
      ],
      "text/plain": [
       "   nama_kabupaten_kota  jumlah_penderita_dm\n",
       "9   KABUPATEN KARAWANG               515661\n",
       "2     KABUPATEN BEKASI               448380\n",
       "3      KABUPATEN BOGOR               319968\n",
       "0    KABUPATEN BANDUNG               265716\n",
       "15  KABUPATEN SUKABUMI               255654"
      ]
     },
     "execution_count": 353,
     "metadata": {},
     "output_type": "execute_result"
    }
   ],
   "source": [
    "kota_diabet.sort_values(by=\"jumlah_penderita_dm\", ascending= False).head(5)"
   ]
  },
  {
   "cell_type": "code",
   "execution_count": 354,
   "id": "44b60d05",
   "metadata": {},
   "outputs": [],
   "source": [
    "kota_diabet_tahun = df.groupby([\"nama_kabupaten_kota\",\"tahun\"],as_index=False)[\"jumlah_penderita_dm\"].sum()"
   ]
  },
  {
   "cell_type": "code",
   "execution_count": 355,
   "id": "568f3f80",
   "metadata": {},
   "outputs": [
    {
     "data": {
      "text/plain": [
       "array([2019, 2020, 2021, 2022, 2023])"
      ]
     },
     "execution_count": 355,
     "metadata": {},
     "output_type": "execute_result"
    }
   ],
   "source": [
    "kota_diabet_tahun[\"tahun\"].unique()"
   ]
  },
  {
   "cell_type": "code",
   "execution_count": 356,
   "id": "01effd8a",
   "metadata": {},
   "outputs": [],
   "source": [
    "def year_finder(year):  \n",
    "    return kota_diabet_tahun[kota_diabet_tahun[\"tahun\"] == year].sort_values(by=\"jumlah_penderita_dm\",ascending=False).head(5)"
   ]
  },
  {
   "cell_type": "code",
   "execution_count": 357,
   "id": "b15c77ad",
   "metadata": {},
   "outputs": [
    {
     "data": {
      "application/vnd.microsoft.datawrangler.viewer.v0+json": {
       "columns": [
        {
         "name": "index",
         "rawType": "int64",
         "type": "integer"
        },
        {
         "name": "nama_kabupaten_kota",
         "rawType": "object",
         "type": "string"
        },
        {
         "name": "tahun",
         "rawType": "int64",
         "type": "integer"
        },
        {
         "name": "jumlah_penderita_dm",
         "rawType": "int64",
         "type": "integer"
        }
       ],
       "ref": "7e6f4b6d-4d4f-4370-b2bf-f36588ee9453",
       "rows": [
        [
         "45",
         "KABUPATEN KARAWANG",
         "2019",
         "149537"
        ],
        [
         "75",
         "KABUPATEN SUKABUMI",
         "2019",
         "148447"
        ],
        [
         "10",
         "KABUPATEN BEKASI",
         "2019",
         "89055"
        ],
        [
         "20",
         "KABUPATEN CIAMIS",
         "2019",
         "69113"
        ],
        [
         "15",
         "KABUPATEN BOGOR",
         "2019",
         "57769"
        ]
       ],
       "shape": {
        "columns": 3,
        "rows": 5
       }
      },
      "text/html": [
       "<div>\n",
       "<style scoped>\n",
       "    .dataframe tbody tr th:only-of-type {\n",
       "        vertical-align: middle;\n",
       "    }\n",
       "\n",
       "    .dataframe tbody tr th {\n",
       "        vertical-align: top;\n",
       "    }\n",
       "\n",
       "    .dataframe thead th {\n",
       "        text-align: right;\n",
       "    }\n",
       "</style>\n",
       "<table border=\"1\" class=\"dataframe\">\n",
       "  <thead>\n",
       "    <tr style=\"text-align: right;\">\n",
       "      <th></th>\n",
       "      <th>nama_kabupaten_kota</th>\n",
       "      <th>tahun</th>\n",
       "      <th>jumlah_penderita_dm</th>\n",
       "    </tr>\n",
       "  </thead>\n",
       "  <tbody>\n",
       "    <tr>\n",
       "      <th>45</th>\n",
       "      <td>KABUPATEN KARAWANG</td>\n",
       "      <td>2019</td>\n",
       "      <td>149537</td>\n",
       "    </tr>\n",
       "    <tr>\n",
       "      <th>75</th>\n",
       "      <td>KABUPATEN SUKABUMI</td>\n",
       "      <td>2019</td>\n",
       "      <td>148447</td>\n",
       "    </tr>\n",
       "    <tr>\n",
       "      <th>10</th>\n",
       "      <td>KABUPATEN BEKASI</td>\n",
       "      <td>2019</td>\n",
       "      <td>89055</td>\n",
       "    </tr>\n",
       "    <tr>\n",
       "      <th>20</th>\n",
       "      <td>KABUPATEN CIAMIS</td>\n",
       "      <td>2019</td>\n",
       "      <td>69113</td>\n",
       "    </tr>\n",
       "    <tr>\n",
       "      <th>15</th>\n",
       "      <td>KABUPATEN BOGOR</td>\n",
       "      <td>2019</td>\n",
       "      <td>57769</td>\n",
       "    </tr>\n",
       "  </tbody>\n",
       "</table>\n",
       "</div>"
      ],
      "text/plain": [
       "   nama_kabupaten_kota  tahun  jumlah_penderita_dm\n",
       "45  KABUPATEN KARAWANG   2019               149537\n",
       "75  KABUPATEN SUKABUMI   2019               148447\n",
       "10    KABUPATEN BEKASI   2019                89055\n",
       "20    KABUPATEN CIAMIS   2019                69113\n",
       "15     KABUPATEN BOGOR   2019                57769"
      ]
     },
     "execution_count": 357,
     "metadata": {},
     "output_type": "execute_result"
    }
   ],
   "source": [
    "year_finder(2019)"
   ]
  },
  {
   "cell_type": "code",
   "execution_count": 358,
   "id": "de2f3892",
   "metadata": {},
   "outputs": [],
   "source": [
    "\n",
    "\n",
    "def auto_year_bar(x):\n",
    "    plt.bar(x[\"nama_kabupaten_kota\"],x[\"jumlah_penderita_dm\"])\n",
    "    plt.xticks(rotation = 90)"
   ]
  },
  {
   "cell_type": "code",
   "execution_count": 359,
   "id": "d2e97714",
   "metadata": {},
   "outputs": [
    {
     "data": {
      "image/png": "[encoded data removed]",
      "text/plain": [
       "<Figure size 1500x1000 with 5 Axes>"
      ]
     },
     "metadata": {},
     "output_type": "display_data"
    }
   ],
   "source": [
    "years = [2019, 2020, 2021, 2022, 2023]\n",
    "plt.figure(figsize=(15,10))\n",
    "for i,y in enumerate(years,1):\n",
    "    \n",
    "    plt.subplot(2,3,i)\n",
    "    plt.bar(year_finder(y)[\"nama_kabupaten_kota\"],year_finder(y)[\"jumlah_penderita_dm\"])\n",
    "    plt.title(y)\n",
    "    plt.tight_layout(pad=1.0)\n",
    "    plt.xticks(rotation = 90)\n",
    "    \n"
   ]
  },
  {
   "cell_type": "code",
   "execution_count": 360,
   "id": "33508a75",
   "metadata": {},
   "outputs": [],
   "source": [
    "def year_finder2(year):  \n",
    "    return kota_diabet_tahun[kota_diabet_tahun[\"tahun\"] == year].sort_values(by=\"jumlah_penderita_dm\").head(5)"
   ]
  },
  {
   "cell_type": "code",
   "execution_count": 361,
   "id": "6b826e1d",
   "metadata": {},
   "outputs": [
    {
     "data": {
      "application/vnd.microsoft.datawrangler.viewer.v0+json": {
       "columns": [
        {
         "name": "index",
         "rawType": "int64",
         "type": "integer"
        },
        {
         "name": "nama_kabupaten_kota",
         "rawType": "object",
         "type": "string"
        },
        {
         "name": "tahun",
         "rawType": "int64",
         "type": "integer"
        },
        {
         "name": "jumlah_penderita_dm",
         "rawType": "int64",
         "type": "integer"
        }
       ],
       "ref": "5ba258ef-147b-41a5-a0c6-25bc000476eb",
       "rows": [
        [
         "5",
         "KABUPATEN BANDUNG BARAT",
         "2019",
         "0"
        ],
        [
         "35",
         "KABUPATEN GARUT",
         "2019",
         "0"
        ],
        [
         "60",
         "KABUPATEN PANGANDARAN",
         "2019",
         "0"
        ],
        [
         "80",
         "KABUPATEN SUMEDANG",
         "2019",
         "0"
        ],
        [
         "125",
         "KOTA SUKABUMI",
         "2019",
         "0"
        ],
        [
         "130",
         "KOTA TASIKMALAYA",
         "2019",
         "0"
        ],
        [
         "115",
         "KOTA CIREBON",
         "2019",
         "0"
        ],
        [
         "95",
         "KOTA BANJAR",
         "2019",
         "1946"
        ],
        [
         "40",
         "KABUPATEN INDRAMAYU",
         "2019",
         "5504"
        ],
        [
         "110",
         "KOTA CIMAHI",
         "2019",
         "9571"
        ],
        [
         "85",
         "KABUPATEN TASIKMALAYA",
         "2019",
         "10930"
        ],
        [
         "65",
         "KABUPATEN PURWAKARTA",
         "2019",
         "11783"
        ],
        [
         "25",
         "KABUPATEN CIANJUR",
         "2019",
         "12100"
        ],
        [
         "105",
         "KOTA BOGOR",
         "2019",
         "12273"
        ],
        [
         "55",
         "KABUPATEN MAJALENGKA",
         "2019",
         "12915"
        ],
        [
         "70",
         "KABUPATEN SUBANG",
         "2019",
         "21691"
        ],
        [
         "30",
         "KABUPATEN CIREBON",
         "2019",
         "21981"
        ],
        [
         "50",
         "KABUPATEN KUNINGAN",
         "2019",
         "31582"
        ],
        [
         "100",
         "KOTA BEKASI",
         "2019",
         "42517"
        ],
        [
         "0",
         "KABUPATEN BANDUNG",
         "2019",
         "45412"
        ],
        [
         "90",
         "KOTA BANDUNG",
         "2019",
         "45430"
        ],
        [
         "120",
         "KOTA DEPOK",
         "2019",
         "48899"
        ],
        [
         "15",
         "KABUPATEN BOGOR",
         "2019",
         "57769"
        ],
        [
         "20",
         "KABUPATEN CIAMIS",
         "2019",
         "69113"
        ],
        [
         "10",
         "KABUPATEN BEKASI",
         "2019",
         "89055"
        ],
        [
         "75",
         "KABUPATEN SUKABUMI",
         "2019",
         "148447"
        ],
        [
         "45",
         "KABUPATEN KARAWANG",
         "2019",
         "149537"
        ]
       ],
       "shape": {
        "columns": 3,
        "rows": 27
       }
      },
      "text/html": [
       "<div>\n",
       "<style scoped>\n",
       "    .dataframe tbody tr th:only-of-type {\n",
       "        vertical-align: middle;\n",
       "    }\n",
       "\n",
       "    .dataframe tbody tr th {\n",
       "        vertical-align: top;\n",
       "    }\n",
       "\n",
       "    .dataframe thead th {\n",
       "        text-align: right;\n",
       "    }\n",
       "</style>\n",
       "<table border=\"1\" class=\"dataframe\">\n",
       "  <thead>\n",
       "    <tr style=\"text-align: right;\">\n",
       "      <th></th>\n",
       "      <th>nama_kabupaten_kota</th>\n",
       "      <th>tahun</th>\n",
       "      <th>jumlah_penderita_dm</th>\n",
       "    </tr>\n",
       "  </thead>\n",
       "  <tbody>\n",
       "    <tr>\n",
       "      <th>5</th>\n",
       "      <td>KABUPATEN BANDUNG BARAT</td>\n",
       "      <td>2019</td>\n",
       "      <td>0</td>\n",
       "    </tr>\n",
       "    <tr>\n",
       "      <th>35</th>\n",
       "      <td>KABUPATEN GARUT</td>\n",
       "      <td>2019</td>\n",
       "      <td>0</td>\n",
       "    </tr>\n",
       "    <tr>\n",
       "      <th>60</th>\n",
       "      <td>KABUPATEN PANGANDARAN</td>\n",
       "      <td>2019</td>\n",
       "      <td>0</td>\n",
       "    </tr>\n",
       "    <tr>\n",
       "      <th>80</th>\n",
       "      <td>KABUPATEN SUMEDANG</td>\n",
       "      <td>2019</td>\n",
       "      <td>0</td>\n",
       "    </tr>\n",
       "    <tr>\n",
       "      <th>125</th>\n",
       "      <td>KOTA SUKABUMI</td>\n",
       "      <td>2019</td>\n",
       "      <td>0</td>\n",
       "    </tr>\n",
       "    <tr>\n",
       "      <th>130</th>\n",
       "      <td>KOTA TASIKMALAYA</td>\n",
       "      <td>2019</td>\n",
       "      <td>0</td>\n",
       "    </tr>\n",
       "    <tr>\n",
       "      <th>115</th>\n",
       "      <td>KOTA CIREBON</td>\n",
       "      <td>2019</td>\n",
       "      <td>0</td>\n",
       "    </tr>\n",
       "    <tr>\n",
       "      <th>95</th>\n",
       "      <td>KOTA BANJAR</td>\n",
       "      <td>2019</td>\n",
       "      <td>1946</td>\n",
       "    </tr>\n",
       "    <tr>\n",
       "      <th>40</th>\n",
       "      <td>KABUPATEN INDRAMAYU</td>\n",
       "      <td>2019</td>\n",
       "      <td>5504</td>\n",
       "    </tr>\n",
       "    <tr>\n",
       "      <th>110</th>\n",
       "      <td>KOTA CIMAHI</td>\n",
       "      <td>2019</td>\n",
       "      <td>9571</td>\n",
       "    </tr>\n",
       "    <tr>\n",
       "      <th>85</th>\n",
       "      <td>KABUPATEN TASIKMALAYA</td>\n",
       "      <td>2019</td>\n",
       "      <td>10930</td>\n",
       "    </tr>\n",
       "    <tr>\n",
       "      <th>65</th>\n",
       "      <td>KABUPATEN PURWAKARTA</td>\n",
       "      <td>2019</td>\n",
       "      <td>11783</td>\n",
       "    </tr>\n",
       "    <tr>\n",
       "      <th>25</th>\n",
       "      <td>KABUPATEN CIANJUR</td>\n",
       "      <td>2019</td>\n",
       "      <td>12100</td>\n",
       "    </tr>\n",
       "    <tr>\n",
       "      <th>105</th>\n",
       "      <td>KOTA BOGOR</td>\n",
       "      <td>2019</td>\n",
       "      <td>12273</td>\n",
       "    </tr>\n",
       "    <tr>\n",
       "      <th>55</th>\n",
       "      <td>KABUPATEN MAJALENGKA</td>\n",
       "      <td>2019</td>\n",
       "      <td>12915</td>\n",
       "    </tr>\n",
       "    <tr>\n",
       "      <th>70</th>\n",
       "      <td>KABUPATEN SUBANG</td>\n",
       "      <td>2019</td>\n",
       "      <td>21691</td>\n",
       "    </tr>\n",
       "    <tr>\n",
       "      <th>30</th>\n",
       "      <td>KABUPATEN CIREBON</td>\n",
       "      <td>2019</td>\n",
       "      <td>21981</td>\n",
       "    </tr>\n",
       "    <tr>\n",
       "      <th>50</th>\n",
       "      <td>KABUPATEN KUNINGAN</td>\n",
       "      <td>2019</td>\n",
       "      <td>31582</td>\n",
       "    </tr>\n",
       "    <tr>\n",
       "      <th>100</th>\n",
       "      <td>KOTA BEKASI</td>\n",
       "      <td>2019</td>\n",
       "      <td>42517</td>\n",
       "    </tr>\n",
       "    <tr>\n",
       "      <th>0</th>\n",
       "      <td>KABUPATEN BANDUNG</td>\n",
       "      <td>2019</td>\n",
       "      <td>45412</td>\n",
       "    </tr>\n",
       "    <tr>\n",
       "      <th>90</th>\n",
       "      <td>KOTA BANDUNG</td>\n",
       "      <td>2019</td>\n",
       "      <td>45430</td>\n",
       "    </tr>\n",
       "    <tr>\n",
       "      <th>120</th>\n",
       "      <td>KOTA DEPOK</td>\n",
       "      <td>2019</td>\n",
       "      <td>48899</td>\n",
       "    </tr>\n",
       "    <tr>\n",
       "      <th>15</th>\n",
       "      <td>KABUPATEN BOGOR</td>\n",
       "      <td>2019</td>\n",
       "      <td>57769</td>\n",
       "    </tr>\n",
       "    <tr>\n",
       "      <th>20</th>\n",
       "      <td>KABUPATEN CIAMIS</td>\n",
       "      <td>2019</td>\n",
       "      <td>69113</td>\n",
       "    </tr>\n",
       "    <tr>\n",
       "      <th>10</th>\n",
       "      <td>KABUPATEN BEKASI</td>\n",
       "      <td>2019</td>\n",
       "      <td>89055</td>\n",
       "    </tr>\n",
       "    <tr>\n",
       "      <th>75</th>\n",
       "      <td>KABUPATEN SUKABUMI</td>\n",
       "      <td>2019</td>\n",
       "      <td>148447</td>\n",
       "    </tr>\n",
       "    <tr>\n",
       "      <th>45</th>\n",
       "      <td>KABUPATEN KARAWANG</td>\n",
       "      <td>2019</td>\n",
       "      <td>149537</td>\n",
       "    </tr>\n",
       "  </tbody>\n",
       "</table>\n",
       "</div>"
      ],
      "text/plain": [
       "         nama_kabupaten_kota  tahun  jumlah_penderita_dm\n",
       "5    KABUPATEN BANDUNG BARAT   2019                    0\n",
       "35           KABUPATEN GARUT   2019                    0\n",
       "60     KABUPATEN PANGANDARAN   2019                    0\n",
       "80        KABUPATEN SUMEDANG   2019                    0\n",
       "125            KOTA SUKABUMI   2019                    0\n",
       "130         KOTA TASIKMALAYA   2019                    0\n",
       "115             KOTA CIREBON   2019                    0\n",
       "95               KOTA BANJAR   2019                 1946\n",
       "40       KABUPATEN INDRAMAYU   2019                 5504\n",
       "110              KOTA CIMAHI   2019                 9571\n",
       "85     KABUPATEN TASIKMALAYA   2019                10930\n",
       "65      KABUPATEN PURWAKARTA   2019                11783\n",
       "25         KABUPATEN CIANJUR   2019                12100\n",
       "105               KOTA BOGOR   2019                12273\n",
       "55      KABUPATEN MAJALENGKA   2019                12915\n",
       "70          KABUPATEN SUBANG   2019                21691\n",
       "30         KABUPATEN CIREBON   2019                21981\n",
       "50        KABUPATEN KUNINGAN   2019                31582\n",
       "100              KOTA BEKASI   2019                42517\n",
       "0          KABUPATEN BANDUNG   2019                45412\n",
       "90              KOTA BANDUNG   2019                45430\n",
       "120               KOTA DEPOK   2019                48899\n",
       "15           KABUPATEN BOGOR   2019                57769\n",
       "20          KABUPATEN CIAMIS   2019                69113\n",
       "10          KABUPATEN BEKASI   2019                89055\n",
       "75        KABUPATEN SUKABUMI   2019               148447\n",
       "45        KABUPATEN KARAWANG   2019               149537"
      ]
     },
     "execution_count": 361,
     "metadata": {},
     "output_type": "execute_result"
    }
   ],
   "source": [
    "kota_diabet_tahun[kota_diabet_tahun[\"tahun\"] == 2019].sort_values(by=\"jumlah_penderita_dm\")"
   ]
  },
  {
   "cell_type": "code",
   "execution_count": 362,
   "id": "30d7078d",
   "metadata": {},
   "outputs": [],
   "source": [
    "kota_diabet_tahun.replace(0, np.nan, inplace=True)"
   ]
  },
  {
   "cell_type": "code",
   "execution_count": 363,
   "id": "39613abd",
   "metadata": {},
   "outputs": [],
   "source": [
    "kota_diabet_tahun.dropna(inplace=True)"
   ]
  },
  {
   "cell_type": "code",
   "execution_count": 364,
   "id": "055a467c",
   "metadata": {},
   "outputs": [
    {
     "data": {
      "image/png": "[encoded data removed]",
      "text/plain": [
       "<Figure size 1500x1000 with 5 Axes>"
      ]
     },
     "metadata": {},
     "output_type": "display_data"
    }
   ],
   "source": [
    "plt.figure(figsize=(15,10))\n",
    "for i,y in enumerate(years,1):\n",
    "    \n",
    "    plt.subplot(2,3,i)\n",
    "    plt.bar(year_finder2(y)[\"nama_kabupaten_kota\"],year_finder2(y)[\"jumlah_penderita_dm\"])\n",
    "    plt.title(y)\n",
    "    plt.tight_layout(pad=1.0)\n",
    "    plt.xticks(rotation = 90)"
   ]
  },
  {
   "cell_type": "code",
   "execution_count": 365,
   "id": "00bfdf0f",
   "metadata": {},
   "outputs": [
    {
     "data": {
      "application/vnd.microsoft.datawrangler.viewer.v0+json": {
       "columns": [
        {
         "name": "index",
         "rawType": "int64",
         "type": "integer"
        },
        {
         "name": "nama_kabupaten_kota",
         "rawType": "object",
         "type": "string"
        },
        {
         "name": "tahun",
         "rawType": "int64",
         "type": "integer"
        },
        {
         "name": "jumlah_penderita_dm",
         "rawType": "float64",
         "type": "float"
        }
       ],
       "ref": "bbf779a2-0507-4d1c-9879-f3423c1564a0",
       "rows": [
        [
         "95",
         "KOTA BANJAR",
         "2019",
         "1946.0"
        ],
        [
         "40",
         "KABUPATEN INDRAMAYU",
         "2019",
         "5504.0"
        ],
        [
         "110",
         "KOTA CIMAHI",
         "2019",
         "9571.0"
        ],
        [
         "85",
         "KABUPATEN TASIKMALAYA",
         "2019",
         "10930.0"
        ],
        [
         "65",
         "KABUPATEN PURWAKARTA",
         "2019",
         "11783.0"
        ]
       ],
       "shape": {
        "columns": 3,
        "rows": 5
       }
      },
      "text/html": [
       "<div>\n",
       "<style scoped>\n",
       "    .dataframe tbody tr th:only-of-type {\n",
       "        vertical-align: middle;\n",
       "    }\n",
       "\n",
       "    .dataframe tbody tr th {\n",
       "        vertical-align: top;\n",
       "    }\n",
       "\n",
       "    .dataframe thead th {\n",
       "        text-align: right;\n",
       "    }\n",
       "</style>\n",
       "<table border=\"1\" class=\"dataframe\">\n",
       "  <thead>\n",
       "    <tr style=\"text-align: right;\">\n",
       "      <th></th>\n",
       "      <th>nama_kabupaten_kota</th>\n",
       "      <th>tahun</th>\n",
       "      <th>jumlah_penderita_dm</th>\n",
       "    </tr>\n",
       "  </thead>\n",
       "  <tbody>\n",
       "    <tr>\n",
       "      <th>95</th>\n",
       "      <td>KOTA BANJAR</td>\n",
       "      <td>2019</td>\n",
       "      <td>1946.0</td>\n",
       "    </tr>\n",
       "    <tr>\n",
       "      <th>40</th>\n",
       "      <td>KABUPATEN INDRAMAYU</td>\n",
       "      <td>2019</td>\n",
       "      <td>5504.0</td>\n",
       "    </tr>\n",
       "    <tr>\n",
       "      <th>110</th>\n",
       "      <td>KOTA CIMAHI</td>\n",
       "      <td>2019</td>\n",
       "      <td>9571.0</td>\n",
       "    </tr>\n",
       "    <tr>\n",
       "      <th>85</th>\n",
       "      <td>KABUPATEN TASIKMALAYA</td>\n",
       "      <td>2019</td>\n",
       "      <td>10930.0</td>\n",
       "    </tr>\n",
       "    <tr>\n",
       "      <th>65</th>\n",
       "      <td>KABUPATEN PURWAKARTA</td>\n",
       "      <td>2019</td>\n",
       "      <td>11783.0</td>\n",
       "    </tr>\n",
       "  </tbody>\n",
       "</table>\n",
       "</div>"
      ],
      "text/plain": [
       "       nama_kabupaten_kota  tahun  jumlah_penderita_dm\n",
       "95             KOTA BANJAR   2019               1946.0\n",
       "40     KABUPATEN INDRAMAYU   2019               5504.0\n",
       "110            KOTA CIMAHI   2019               9571.0\n",
       "85   KABUPATEN TASIKMALAYA   2019              10930.0\n",
       "65    KABUPATEN PURWAKARTA   2019              11783.0"
      ]
     },
     "execution_count": 365,
     "metadata": {},
     "output_type": "execute_result"
    }
   ],
   "source": [
    "year_finder2(2019)"
   ]
  }
 ],
 "metadata": {
  "kernelspec": {
   "display_name": "Python 3",
   "language": "python",
   "name": "python3"
  },
  "language_info": {
   "codemirror_mode": {
    "name": "ipython",
    "version": 3
   },
   "file_extension": ".py",
   "mimetype": "text/x-python",
   "name": "python",
   "nbconvert_exporter": "python",
   "pygments_lexer": "ipython3",
   "version": "3.11.9"
  }
 },
 "nbformat": 4,
 "nbformat_minor": 5
}
